{
 "cells": [
  {
   "cell_type": "code",
   "execution_count": 4,
   "metadata": {
    "collapsed": true
   },
   "outputs": [],
   "source": [
    "import pandas as pd\n",
    "import numpy as np\n",
    "import datetime as dt\n",
    "# import seaborn as sns\n",
    "import matplotlib.pyplot as plt\n",
    "import matplotlib.dates as mdates\n",
    "%matplotlib inline\n",
    "\n",
    "import matplotlib.style as style\n",
    "style.use('seaborn-whitegrid')\n",
    "\n",
    "import os\n",
    "import re\n",
    "import pickle\n",
    "from collections import defaultdict, OrderedDict"
   ]
  },
  {
   "cell_type": "code",
   "execution_count": 54,
   "metadata": {
    "collapsed": false
   },
   "outputs": [],
   "source": [
    "from sklearn.model_selection import train_test_split"
   ]
  },
  {
   "cell_type": "code",
   "execution_count": 2,
   "metadata": {
    "collapsed": true
   },
   "outputs": [],
   "source": [
    "from sklearn.linear_model import LinearRegression\n",
    "from sklearn.model_selection import train_test_split, KFold\n",
    "from sklearn.linear_model import RidgeCV\n",
    "from sklearn.pipeline import make_pipeline\n",
    "from sklearn.preprocessing import StandardScaler\n",
    "from sklearn.metrics import mean_squared_error\n",
    "\n",
    "from sklearn.feature_extraction.text import TfidfVectorizer, CountVectorizer\n",
    "from sklearn.decomposition import NMF, LatentDirichletAllocation\n",
    "from sklearn.feature_extraction.text import TfidfVectorizer \n",
    "from sklearn.naive_bayes import MultinomialNB\n",
    "from sklearn.metrics import mean_squared_error"
   ]
  },
  {
   "cell_type": "code",
   "execution_count": 5,
   "metadata": {
    "collapsed": false
   },
   "outputs": [
    {
     "name": "stderr",
     "output_type": "stream",
     "text": [
      "Using TensorFlow backend.\n"
     ]
    }
   ],
   "source": [
    "import tensorflow as tf\n",
    "import keras\n",
    "from keras.models import Sequential\n",
    "from keras.layers import Dense, Conv2D, MaxPooling2D, Flatten, Dropout\n",
    "from keras.applications import VGG16\n",
    "from keras.optimizers import SGD\n",
    "from PIL import Image"
   ]
  },
  {
   "cell_type": "code",
   "execution_count": 6,
   "metadata": {
    "collapsed": true
   },
   "outputs": [],
   "source": [
    "import warnings\n",
    "warnings.filterwarnings(action='once')"
   ]
  },
  {
   "cell_type": "code",
   "execution_count": 5,
   "metadata": {
    "collapsed": true
   },
   "outputs": [],
   "source": [
    "# Set pandas options\n",
    "# pd.set_option('max_rows', 10)\n",
    "# pd.set_option('max_colwidth', -1)\n",
    "# pd.set_option('display.width', 150)\n",
    "pd.set_option('display.max_rows', 30)\n",
    "# pd.set_option('display.max_columns', None)"
   ]
  },
  {
   "cell_type": "markdown",
   "metadata": {},
   "source": [
    "Login to your AWS instance and start a \"jupyter notebook\"\n",
    "\n",
    "**In your local machine on a separate terminal start an SSH tunnel by doing:**\n",
    "\n",
    "ssh -NL 8899:localhost:8888 udacity@{publicip}\n",
    "\n",
    "Go to your browser and type http://localhost:8899\n",
    "\n",
    "Copy the [AWS notebook](AWS.ipynb) to your server via Upload\n",
    "\n",
    "**DON'T FORGET TO STOP YOUR MACHINE AFTER YOU ARE DONE**"
   ]
  },
  {
   "cell_type": "code",
   "execution_count": 5,
   "metadata": {
    "collapsed": true
   },
   "outputs": [],
   "source": [
    "df = pd.read_csv('data/sign_language_data/sign_mnist_train.csv')"
   ]
  },
  {
   "cell_type": "code",
   "execution_count": 6,
   "metadata": {
    "collapsed": false
   },
   "outputs": [
    {
     "data": {
      "text/html": [
       "<div>\n",
       "<style scoped>\n",
       "    .dataframe tbody tr th:only-of-type {\n",
       "        vertical-align: middle;\n",
       "    }\n",
       "\n",
       "    .dataframe tbody tr th {\n",
       "        vertical-align: top;\n",
       "    }\n",
       "\n",
       "    .dataframe thead th {\n",
       "        text-align: right;\n",
       "    }\n",
       "</style>\n",
       "<table border=\"1\" class=\"dataframe\">\n",
       "  <thead>\n",
       "    <tr style=\"text-align: right;\">\n",
       "      <th></th>\n",
       "      <th>label</th>\n",
       "      <th>pixel1</th>\n",
       "      <th>pixel2</th>\n",
       "      <th>pixel3</th>\n",
       "      <th>pixel4</th>\n",
       "      <th>pixel5</th>\n",
       "      <th>pixel6</th>\n",
       "      <th>pixel7</th>\n",
       "      <th>pixel8</th>\n",
       "      <th>pixel9</th>\n",
       "      <th>...</th>\n",
       "      <th>pixel775</th>\n",
       "      <th>pixel776</th>\n",
       "      <th>pixel777</th>\n",
       "      <th>pixel778</th>\n",
       "      <th>pixel779</th>\n",
       "      <th>pixel780</th>\n",
       "      <th>pixel781</th>\n",
       "      <th>pixel782</th>\n",
       "      <th>pixel783</th>\n",
       "      <th>pixel784</th>\n",
       "    </tr>\n",
       "  </thead>\n",
       "  <tbody>\n",
       "    <tr>\n",
       "      <th>0</th>\n",
       "      <td>3</td>\n",
       "      <td>107</td>\n",
       "      <td>118</td>\n",
       "      <td>127</td>\n",
       "      <td>134</td>\n",
       "      <td>139</td>\n",
       "      <td>143</td>\n",
       "      <td>146</td>\n",
       "      <td>150</td>\n",
       "      <td>153</td>\n",
       "      <td>...</td>\n",
       "      <td>207</td>\n",
       "      <td>207</td>\n",
       "      <td>207</td>\n",
       "      <td>207</td>\n",
       "      <td>206</td>\n",
       "      <td>206</td>\n",
       "      <td>206</td>\n",
       "      <td>204</td>\n",
       "      <td>203</td>\n",
       "      <td>202</td>\n",
       "    </tr>\n",
       "    <tr>\n",
       "      <th>1</th>\n",
       "      <td>6</td>\n",
       "      <td>155</td>\n",
       "      <td>157</td>\n",
       "      <td>156</td>\n",
       "      <td>156</td>\n",
       "      <td>156</td>\n",
       "      <td>157</td>\n",
       "      <td>156</td>\n",
       "      <td>158</td>\n",
       "      <td>158</td>\n",
       "      <td>...</td>\n",
       "      <td>69</td>\n",
       "      <td>149</td>\n",
       "      <td>128</td>\n",
       "      <td>87</td>\n",
       "      <td>94</td>\n",
       "      <td>163</td>\n",
       "      <td>175</td>\n",
       "      <td>103</td>\n",
       "      <td>135</td>\n",
       "      <td>149</td>\n",
       "    </tr>\n",
       "    <tr>\n",
       "      <th>2</th>\n",
       "      <td>2</td>\n",
       "      <td>187</td>\n",
       "      <td>188</td>\n",
       "      <td>188</td>\n",
       "      <td>187</td>\n",
       "      <td>187</td>\n",
       "      <td>186</td>\n",
       "      <td>187</td>\n",
       "      <td>188</td>\n",
       "      <td>187</td>\n",
       "      <td>...</td>\n",
       "      <td>202</td>\n",
       "      <td>201</td>\n",
       "      <td>200</td>\n",
       "      <td>199</td>\n",
       "      <td>198</td>\n",
       "      <td>199</td>\n",
       "      <td>198</td>\n",
       "      <td>195</td>\n",
       "      <td>194</td>\n",
       "      <td>195</td>\n",
       "    </tr>\n",
       "    <tr>\n",
       "      <th>3</th>\n",
       "      <td>2</td>\n",
       "      <td>211</td>\n",
       "      <td>211</td>\n",
       "      <td>212</td>\n",
       "      <td>212</td>\n",
       "      <td>211</td>\n",
       "      <td>210</td>\n",
       "      <td>211</td>\n",
       "      <td>210</td>\n",
       "      <td>210</td>\n",
       "      <td>...</td>\n",
       "      <td>235</td>\n",
       "      <td>234</td>\n",
       "      <td>233</td>\n",
       "      <td>231</td>\n",
       "      <td>230</td>\n",
       "      <td>226</td>\n",
       "      <td>225</td>\n",
       "      <td>222</td>\n",
       "      <td>229</td>\n",
       "      <td>163</td>\n",
       "    </tr>\n",
       "    <tr>\n",
       "      <th>4</th>\n",
       "      <td>13</td>\n",
       "      <td>164</td>\n",
       "      <td>167</td>\n",
       "      <td>170</td>\n",
       "      <td>172</td>\n",
       "      <td>176</td>\n",
       "      <td>179</td>\n",
       "      <td>180</td>\n",
       "      <td>184</td>\n",
       "      <td>185</td>\n",
       "      <td>...</td>\n",
       "      <td>92</td>\n",
       "      <td>105</td>\n",
       "      <td>105</td>\n",
       "      <td>108</td>\n",
       "      <td>133</td>\n",
       "      <td>163</td>\n",
       "      <td>157</td>\n",
       "      <td>163</td>\n",
       "      <td>164</td>\n",
       "      <td>179</td>\n",
       "    </tr>\n",
       "  </tbody>\n",
       "</table>\n",
       "<p>5 rows × 785 columns</p>\n",
       "</div>"
      ],
      "text/plain": [
       "   label  pixel1  pixel2  pixel3  pixel4  pixel5  pixel6  pixel7  pixel8  \\\n",
       "0      3     107     118     127     134     139     143     146     150   \n",
       "1      6     155     157     156     156     156     157     156     158   \n",
       "2      2     187     188     188     187     187     186     187     188   \n",
       "3      2     211     211     212     212     211     210     211     210   \n",
       "4     13     164     167     170     172     176     179     180     184   \n",
       "\n",
       "   pixel9    ...     pixel775  pixel776  pixel777  pixel778  pixel779  \\\n",
       "0     153    ...          207       207       207       207       206   \n",
       "1     158    ...           69       149       128        87        94   \n",
       "2     187    ...          202       201       200       199       198   \n",
       "3     210    ...          235       234       233       231       230   \n",
       "4     185    ...           92       105       105       108       133   \n",
       "\n",
       "   pixel780  pixel781  pixel782  pixel783  pixel784  \n",
       "0       206       206       204       203       202  \n",
       "1       163       175       103       135       149  \n",
       "2       199       198       195       194       195  \n",
       "3       226       225       222       229       163  \n",
       "4       163       157       163       164       179  \n",
       "\n",
       "[5 rows x 785 columns]"
      ]
     },
     "execution_count": 6,
     "metadata": {},
     "output_type": "execute_result"
    }
   ],
   "source": [
    "df.head()"
   ]
  },
  {
   "cell_type": "code",
   "execution_count": 35,
   "metadata": {
    "collapsed": false
   },
   "outputs": [
    {
     "data": {
      "text/plain": [
       "(27455, 785)"
      ]
     },
     "execution_count": 35,
     "metadata": {},
     "output_type": "execute_result"
    }
   ],
   "source": [
    "df.shape"
   ]
  },
  {
   "cell_type": "code",
   "execution_count": 32,
   "metadata": {
    "collapsed": true
   },
   "outputs": [],
   "source": [
    "arr = df.iloc[12,1:].values"
   ]
  },
  {
   "cell_type": "code",
   "execution_count": 33,
   "metadata": {
    "collapsed": false
   },
   "outputs": [
    {
     "data": {
      "text/plain": [
       "<matplotlib.image.AxesImage at 0x1a23d8c978>"
      ]
     },
     "execution_count": 33,
     "metadata": {},
     "output_type": "execute_result"
    },
    {
     "data": {
      "image/png": "[encoded data removed]",
      "text/plain": [
       "<Figure size 432x288 with 1 Axes>"
      ]
     },
     "metadata": {},
     "output_type": "display_data"
    }
   ],
   "source": [
    "plt.imshow(arr.reshape(28,28))"
   ]
  },
  {
   "cell_type": "markdown",
   "metadata": {},
   "source": [
    "### Train-Test Split"
   ]
  },
  {
   "cell_type": "code",
   "execution_count": null,
   "metadata": {
    "collapsed": false
   },
   "outputs": [],
   "source": [
    "X = df.iloc[:, 1:]\n",
    "y = df.iloc[:, 1]"
   ]
  },
  {
   "cell_type": "code",
   "execution_count": null,
   "metadata": {
    "collapsed": true
   },
   "outputs": [],
   "source": [
    "X_train, X_test, y_train, y_test = train_test_split(X, y, test_size=0.3, random_state=20)"
   ]
  },
  {
   "cell_type": "markdown",
   "metadata": {},
   "source": [
    "### Open images and convert to NumPy arrays"
   ]
  },
  {
   "cell_type": "code",
   "execution_count": 15,
   "metadata": {
    "collapsed": true
   },
   "outputs": [],
   "source": [
    "pic = Image.open('data/gestures_data/00/01_palm/frame_00_01_0001.png')"
   ]
  },
  {
   "cell_type": "code",
   "execution_count": 16,
   "metadata": {
    "collapsed": false
   },
   "outputs": [
    {
     "data": {
      "image/png": "[encoded data removed]",
      "text/plain": [
       "<PIL.PngImagePlugin.PngImageFile image mode=L size=640x240 at 0x1A2EDB16D8>"
      ]
     },
     "execution_count": 16,
     "metadata": {},
     "output_type": "execute_result"
    }
   ],
   "source": [
    "pic"
   ]
  },
  {
   "cell_type": "code",
   "execution_count": 17,
   "metadata": {
    "collapsed": true
   },
   "outputs": [],
   "source": [
    "a = np.asarray(pic)"
   ]
  },
  {
   "cell_type": "code",
   "execution_count": 25,
   "metadata": {
    "collapsed": true
   },
   "outputs": [],
   "source": [
    "!open ."
   ]
  },
  {
   "cell_type": "code",
   "execution_count": 29,
   "metadata": {
    "collapsed": true
   },
   "outputs": [],
   "source": [
    "a_array = pd.DataFrame(a)"
   ]
  },
  {
   "cell_type": "code",
   "execution_count": 34,
   "metadata": {
    "collapsed": false
   },
   "outputs": [
    {
     "data": {
      "text/plain": [
       "639"
      ]
     },
     "execution_count": 34,
     "metadata": {},
     "output_type": "execute_result"
    }
   ],
   "source": [
    "max(a_array)"
   ]
  },
  {
   "cell_type": "code",
   "execution_count": 36,
   "metadata": {
    "collapsed": false
   },
   "outputs": [
    {
     "data": {
      "text/plain": [
       "'/Users/brenner/input'"
      ]
     },
     "execution_count": 36,
     "metadata": {},
     "output_type": "execute_result"
    }
   ],
   "source": [
    "os.path.abspath(os.path.join('..', 'input'))"
   ]
  },
  {
   "cell_type": "code",
   "execution_count": 4,
   "metadata": {
    "collapsed": true
   },
   "outputs": [],
   "source": [
    "! open /Users/brenner/project_kojak/data/gestures_data"
   ]
  },
  {
   "cell_type": "code",
   "execution_count": 37,
   "metadata": {
    "collapsed": false
   },
   "outputs": [
    {
     "name": "stderr",
     "output_type": "stream",
     "text": [
      "/Users/brenner/anaconda3/lib/python3.6/site-packages/tensorflow/python/util/tf_inspect.py:55: DeprecationWarning: inspect.getargspec() is deprecated, use inspect.signature() or inspect.getfullargspec()\n",
      "  if d.decorator_argspec is not None), _inspect.getargspec(target))\n"
     ]
    },
    {
     "data": {
      "text/plain": [
       "<keras.engine.training.Model at 0x1a2f221f60>"
      ]
     },
     "execution_count": 37,
     "metadata": {},
     "output_type": "execute_result"
    }
   ],
   "source": [
    "keras.applications.vgg16.VGG16(include_top=True, weights='imagenet', input_tensor=None, input_shape=None, pooling=None, classes=1000)"
   ]
  },
  {
   "cell_type": "code",
   "execution_count": 61,
   "metadata": {
    "collapsed": false
   },
   "outputs": [
    {
     "ename": "FileNotFoundError",
     "evalue": "[Errno 2] No such file or directory: '/Users/brenner/project_kojak/data/gestures_data/00'",
     "output_type": "error",
     "traceback": [
      "\u001b[0;31m---------------------------------------------------------------------------\u001b[0m",
      "\u001b[0;31mFileNotFoundError\u001b[0m                         Traceback (most recent call last)",
      "\u001b[0;32m<ipython-input-61-6dfe33d361f7>\u001b[0m in \u001b[0;36m<module>\u001b[0;34m()\u001b[0m\n\u001b[1;32m      2\u001b[0m \u001b[0mreverselookup\u001b[0m \u001b[0;34m=\u001b[0m \u001b[0mdict\u001b[0m\u001b[0;34m(\u001b[0m\u001b[0;34m)\u001b[0m\u001b[0;34m\u001b[0m\u001b[0m\n\u001b[1;32m      3\u001b[0m \u001b[0mcount\u001b[0m \u001b[0;34m=\u001b[0m \u001b[0;36m0\u001b[0m\u001b[0;34m\u001b[0m\u001b[0m\n\u001b[0;32m----> 4\u001b[0;31m \u001b[0;32mfor\u001b[0m \u001b[0mj\u001b[0m \u001b[0;32min\u001b[0m \u001b[0mos\u001b[0m\u001b[0;34m.\u001b[0m\u001b[0mlistdir\u001b[0m\u001b[0;34m(\u001b[0m\u001b[0;34m'/Users/brenner/project_kojak/data/gestures_data/00'\u001b[0m\u001b[0;34m)\u001b[0m\u001b[0;34m:\u001b[0m\u001b[0;34m\u001b[0m\u001b[0m\n\u001b[0m\u001b[1;32m      5\u001b[0m     \u001b[0;32mif\u001b[0m \u001b[0;32mnot\u001b[0m \u001b[0mj\u001b[0m\u001b[0;34m.\u001b[0m\u001b[0mstartswith\u001b[0m\u001b[0;34m(\u001b[0m\u001b[0;34m'.'\u001b[0m\u001b[0;34m)\u001b[0m\u001b[0;34m:\u001b[0m\u001b[0;34m\u001b[0m\u001b[0m\n\u001b[1;32m      6\u001b[0m         \u001b[0mlookup\u001b[0m\u001b[0;34m[\u001b[0m\u001b[0mj\u001b[0m\u001b[0;34m]\u001b[0m \u001b[0;34m=\u001b[0m \u001b[0mcount\u001b[0m\u001b[0;34m\u001b[0m\u001b[0m\n",
      "\u001b[0;31mFileNotFoundError\u001b[0m: [Errno 2] No such file or directory: '/Users/brenner/project_kojak/data/gestures_data/00'"
     ]
    }
   ],
   "source": [
    "lookup = dict()\n",
    "reverselookup = dict()\n",
    "count = 0\n",
    "for j in os.listdir('/Users/brenner/project_kojak/data/gestures_data/00'):\n",
    "    if not j.startswith('.'):\n",
    "        lookup[j] = count\n",
    "        reverselookup[count] = j\n",
    "        count = count + 1\n",
    "reverselookup"
   ]
  },
  {
   "cell_type": "code",
   "execution_count": 63,
   "metadata": {
    "collapsed": false
   },
   "outputs": [
    {
     "name": "stderr",
     "output_type": "stream",
     "text": [
      "/home/carnd/anaconda3/envs/dl/lib/python3.5/site-packages/PIL/Image.py:844: ResourceWarning: unclosed file <_io.BufferedReader name='/home/carnd/home/data/gestures_data/00/05_thumb/frame_00_05_0033.png'>\n",
      "  self.load()\n",
      "/home/carnd/anaconda3/envs/dl/lib/python3.5/site-packages/PIL/Image.py:844: ResourceWarning: unclosed file <_io.BufferedReader name='/home/carnd/home/data/gestures_data/00/05_thumb/frame_00_05_0044.png'>\n",
      "  self.load()\n",
      "/home/carnd/anaconda3/envs/dl/lib/python3.5/site-packages/PIL/Image.py:844: ResourceWarning: unclosed file <_io.BufferedReader name='/home/carnd/home/data/gestures_data/00/05_thumb/frame_00_05_0037.png'>\n",
      "  self.load()\n",
      "/home/carnd/anaconda3/envs/dl/lib/python3.5/site-packages/PIL/Image.py:844: ResourceWarning: unclosed file <_io.BufferedReader name='/home/carnd/home/data/gestures_data/00/05_thumb/frame_00_05_0152.png'>\n",
      "  self.load()\n",
      "/home/carnd/anaconda3/envs/dl/lib/python3.5/site-packages/PIL/Image.py:844: ResourceWarning: unclosed file <_io.BufferedReader name='/home/carnd/home/data/gestures_data/00/05_thumb/frame_00_05_0096.png'>\n",
      "  self.load()\n",
      "/home/carnd/anaconda3/envs/dl/lib/python3.5/site-packages/PIL/Image.py:844: ResourceWarning: unclosed file <_io.BufferedReader name='/home/carnd/home/data/gestures_data/00/05_thumb/frame_00_05_0084.png'>\n",
      "  self.load()\n",
      "/home/carnd/anaconda3/envs/dl/lib/python3.5/site-packages/PIL/Image.py:844: ResourceWarning: unclosed file <_io.BufferedReader name='/home/carnd/home/data/gestures_data/00/05_thumb/frame_00_05_0155.png'>\n",
      "  self.load()\n",
      "/home/carnd/anaconda3/envs/dl/lib/python3.5/site-packages/PIL/Image.py:844: ResourceWarning: unclosed file <_io.BufferedReader name='/home/carnd/home/data/gestures_data/00/05_thumb/frame_00_05_0141.png'>\n",
      "  self.load()\n",
      "/home/carnd/anaconda3/envs/dl/lib/python3.5/site-packages/PIL/Image.py:844: ResourceWarning: unclosed file <_io.BufferedReader name='/home/carnd/home/data/gestures_data/00/05_thumb/frame_00_05_0071.png'>\n",
      "  self.load()\n",
      "/home/carnd/anaconda3/envs/dl/lib/python3.5/site-packages/PIL/Image.py:844: ResourceWarning: unclosed file <_io.BufferedReader name='/home/carnd/home/data/gestures_data/00/05_thumb/frame_00_05_0070.png'>\n",
      "  self.load()\n",
      "/home/carnd/anaconda3/envs/dl/lib/python3.5/site-packages/PIL/Image.py:844: ResourceWarning: unclosed file <_io.BufferedReader name='/home/carnd/home/data/gestures_data/00/05_thumb/frame_00_05_0022.png'>\n",
      "  self.load()\n",
      "/home/carnd/anaconda3/envs/dl/lib/python3.5/site-packages/PIL/Image.py:844: ResourceWarning: unclosed file <_io.BufferedReader name='/home/carnd/home/data/gestures_data/00/05_thumb/frame_00_05_0068.png'>\n",
      "  self.load()\n",
      "/home/carnd/anaconda3/envs/dl/lib/python3.5/site-packages/PIL/Image.py:844: ResourceWarning: unclosed file <_io.BufferedReader name='/home/carnd/home/data/gestures_data/00/05_thumb/frame_00_05_0164.png'>\n",
      "  self.load()\n",
      "/home/carnd/anaconda3/envs/dl/lib/python3.5/site-packages/PIL/Image.py:844: ResourceWarning: unclosed file <_io.BufferedReader name='/home/carnd/home/data/gestures_data/00/05_thumb/frame_00_05_0126.png'>\n",
      "  self.load()\n",
      "/home/carnd/anaconda3/envs/dl/lib/python3.5/site-packages/PIL/Image.py:844: ResourceWarning: unclosed file <_io.BufferedReader name='/home/carnd/home/data/gestures_data/00/05_thumb/frame_00_05_0007.png'>\n",
      "  self.load()\n",
      "/home/carnd/anaconda3/envs/dl/lib/python3.5/site-packages/PIL/Image.py:844: ResourceWarning: unclosed file <_io.BufferedReader name='/home/carnd/home/data/gestures_data/00/05_thumb/frame_00_05_0151.png'>\n",
      "  self.load()\n",
      "/home/carnd/anaconda3/envs/dl/lib/python3.5/site-packages/PIL/Image.py:844: ResourceWarning: unclosed file <_io.BufferedReader name='/home/carnd/home/data/gestures_data/00/05_thumb/frame_00_05_0160.png'>\n",
      "  self.load()\n",
      "/home/carnd/anaconda3/envs/dl/lib/python3.5/site-packages/PIL/Image.py:844: ResourceWarning: unclosed file <_io.BufferedReader name='/home/carnd/home/data/gestures_data/00/05_thumb/frame_00_05_0103.png'>\n",
      "  self.load()\n",
      "/home/carnd/anaconda3/envs/dl/lib/python3.5/site-packages/PIL/Image.py:844: ResourceWarning: unclosed file <_io.BufferedReader name='/home/carnd/home/data/gestures_data/00/05_thumb/frame_00_05_0186.png'>\n",
      "  self.load()\n",
      "/home/carnd/anaconda3/envs/dl/lib/python3.5/site-packages/PIL/Image.py:844: ResourceWarning: unclosed file <_io.BufferedReader name='/home/carnd/home/data/gestures_data/00/05_thumb/frame_00_05_0142.png'>\n",
      "  self.load()\n",
      "/home/carnd/anaconda3/envs/dl/lib/python3.5/site-packages/PIL/Image.py:844: ResourceWarning: unclosed file <_io.BufferedReader name='/home/carnd/home/data/gestures_data/00/05_thumb/frame_00_05_0080.png'>\n",
      "  self.load()\n",
      "/home/carnd/anaconda3/envs/dl/lib/python3.5/site-packages/PIL/Image.py:844: ResourceWarning: unclosed file <_io.BufferedReader name='/home/carnd/home/data/gestures_data/00/05_thumb/frame_00_05_0090.png'>\n",
      "  self.load()\n",
      "/home/carnd/anaconda3/envs/dl/lib/python3.5/site-packages/PIL/Image.py:844: ResourceWarning: unclosed file <_io.BufferedReader name='/home/carnd/home/data/gestures_data/00/05_thumb/frame_00_05_0150.png'>\n",
      "  self.load()\n",
      "/home/carnd/anaconda3/envs/dl/lib/python3.5/site-packages/PIL/Image.py:844: ResourceWarning: unclosed file <_io.BufferedReader name='/home/carnd/home/data/gestures_data/00/05_thumb/frame_00_05_0168.png'>\n",
      "  self.load()\n",
      "/home/carnd/anaconda3/envs/dl/lib/python3.5/site-packages/PIL/Image.py:844: ResourceWarning: unclosed file <_io.BufferedReader name='/home/carnd/home/data/gestures_data/00/05_thumb/frame_00_05_0027.png'>\n",
      "  self.load()\n",
      "/home/carnd/anaconda3/envs/dl/lib/python3.5/site-packages/PIL/Image.py:844: ResourceWarning: unclosed file <_io.BufferedReader name='/home/carnd/home/data/gestures_data/00/05_thumb/frame_00_05_0056.png'>\n",
      "  self.load()\n",
      "/home/carnd/anaconda3/envs/dl/lib/python3.5/site-packages/PIL/Image.py:844: ResourceWarning: unclosed file <_io.BufferedReader name='/home/carnd/home/data/gestures_data/00/05_thumb/frame_00_05_0137.png'>\n",
      "  self.load()\n",
      "/home/carnd/anaconda3/envs/dl/lib/python3.5/site-packages/PIL/Image.py:844: ResourceWarning: unclosed file <_io.BufferedReader name='/home/carnd/home/data/gestures_data/00/05_thumb/frame_00_05_0191.png'>\n",
      "  self.load()\n",
      "/home/carnd/anaconda3/envs/dl/lib/python3.5/site-packages/PIL/Image.py:844: ResourceWarning: unclosed file <_io.BufferedReader name='/home/carnd/home/data/gestures_data/00/05_thumb/frame_00_05_0018.png'>\n",
      "  self.load()\n",
      "/home/carnd/anaconda3/envs/dl/lib/python3.5/site-packages/PIL/Image.py:844: ResourceWarning: unclosed file <_io.BufferedReader name='/home/carnd/home/data/gestures_data/00/05_thumb/frame_00_05_0052.png'>\n",
      "  self.load()\n",
      "/home/carnd/anaconda3/envs/dl/lib/python3.5/site-packages/PIL/Image.py:844: ResourceWarning: unclosed file <_io.BufferedReader name='/home/carnd/home/data/gestures_data/00/05_thumb/frame_00_05_0030.png'>\n",
      "  self.load()\n",
      "/home/carnd/anaconda3/envs/dl/lib/python3.5/site-packages/PIL/Image.py:844: ResourceWarning: unclosed file <_io.BufferedReader name='/home/carnd/home/data/gestures_data/00/05_thumb/frame_00_05_0158.png'>\n",
      "  self.load()\n",
      "/home/carnd/anaconda3/envs/dl/lib/python3.5/site-packages/PIL/Image.py:844: ResourceWarning: unclosed file <_io.BufferedReader name='/home/carnd/home/data/gestures_data/00/05_thumb/frame_00_05_0065.png'>\n",
      "  self.load()\n",
      "/home/carnd/anaconda3/envs/dl/lib/python3.5/site-packages/PIL/Image.py:844: ResourceWarning: unclosed file <_io.BufferedReader name='/home/carnd/home/data/gestures_data/00/05_thumb/frame_00_05_0136.png'>\n",
      "  self.load()\n",
      "/home/carnd/anaconda3/envs/dl/lib/python3.5/site-packages/PIL/Image.py:844: ResourceWarning: unclosed file <_io.BufferedReader name='/home/carnd/home/data/gestures_data/00/05_thumb/frame_00_05_0073.png'>\n",
      "  self.load()\n",
      "/home/carnd/anaconda3/envs/dl/lib/python3.5/site-packages/PIL/Image.py:844: ResourceWarning: unclosed file <_io.BufferedReader name='/home/carnd/home/data/gestures_data/00/05_thumb/frame_00_05_0055.png'>\n",
      "  self.load()\n",
      "/home/carnd/anaconda3/envs/dl/lib/python3.5/site-packages/PIL/Image.py:844: ResourceWarning: unclosed file <_io.BufferedReader name='/home/carnd/home/data/gestures_data/00/05_thumb/frame_00_05_0135.png'>\n",
      "  self.load()\n",
      "/home/carnd/anaconda3/envs/dl/lib/python3.5/site-packages/PIL/Image.py:844: ResourceWarning: unclosed file <_io.BufferedReader name='/home/carnd/home/data/gestures_data/00/05_thumb/frame_00_05_0154.png'>\n",
      "  self.load()\n",
      "/home/carnd/anaconda3/envs/dl/lib/python3.5/site-packages/PIL/Image.py:844: ResourceWarning: unclosed file <_io.BufferedReader name='/home/carnd/home/data/gestures_data/00/05_thumb/frame_00_05_0134.png'>\n",
      "  self.load()\n",
      "/home/carnd/anaconda3/envs/dl/lib/python3.5/site-packages/PIL/Image.py:844: ResourceWarning: unclosed file <_io.BufferedReader name='/home/carnd/home/data/gestures_data/00/05_thumb/frame_00_05_0010.png'>\n",
      "  self.load()\n",
      "/home/carnd/anaconda3/envs/dl/lib/python3.5/site-packages/PIL/Image.py:844: ResourceWarning: unclosed file <_io.BufferedReader name='/home/carnd/home/data/gestures_data/00/05_thumb/frame_00_05_0178.png'>\n",
      "  self.load()\n",
      "/home/carnd/anaconda3/envs/dl/lib/python3.5/site-packages/PIL/Image.py:844: ResourceWarning: unclosed file <_io.BufferedReader name='/home/carnd/home/data/gestures_data/00/05_thumb/frame_00_05_0190.png'>\n",
      "  self.load()\n",
      "/home/carnd/anaconda3/envs/dl/lib/python3.5/site-packages/PIL/Image.py:844: ResourceWarning: unclosed file <_io.BufferedReader name='/home/carnd/home/data/gestures_data/00/05_thumb/frame_00_05_0102.png'>\n",
      "  self.load()\n",
      "/home/carnd/anaconda3/envs/dl/lib/python3.5/site-packages/PIL/Image.py:844: ResourceWarning: unclosed file <_io.BufferedReader name='/home/carnd/home/data/gestures_data/00/05_thumb/frame_00_05_0109.png'>\n",
      "  self.load()\n",
      "/home/carnd/anaconda3/envs/dl/lib/python3.5/site-packages/PIL/Image.py:844: ResourceWarning: unclosed file <_io.BufferedReader name='/home/carnd/home/data/gestures_data/00/05_thumb/frame_00_05_0146.png'>\n",
      "  self.load()\n",
      "/home/carnd/anaconda3/envs/dl/lib/python3.5/site-packages/PIL/Image.py:844: ResourceWarning: unclosed file <_io.BufferedReader name='/home/carnd/home/data/gestures_data/00/05_thumb/frame_00_05_0081.png'>\n",
      "  self.load()\n",
      "/home/carnd/anaconda3/envs/dl/lib/python3.5/site-packages/PIL/Image.py:844: ResourceWarning: unclosed file <_io.BufferedReader name='/home/carnd/home/data/gestures_data/00/05_thumb/frame_00_05_0016.png'>\n",
      "  self.load()\n",
      "/home/carnd/anaconda3/envs/dl/lib/python3.5/site-packages/PIL/Image.py:844: ResourceWarning: unclosed file <_io.BufferedReader name='/home/carnd/home/data/gestures_data/00/05_thumb/frame_00_05_0062.png'>\n",
      "  self.load()\n",
      "/home/carnd/anaconda3/envs/dl/lib/python3.5/site-packages/PIL/Image.py:844: ResourceWarning: unclosed file <_io.BufferedReader name='/home/carnd/home/data/gestures_data/00/05_thumb/frame_00_05_0145.png'>\n",
      "  self.load()\n",
      "/home/carnd/anaconda3/envs/dl/lib/python3.5/site-packages/PIL/Image.py:844: ResourceWarning: unclosed file <_io.BufferedReader name='/home/carnd/home/data/gestures_data/00/05_thumb/frame_00_05_0183.png'>\n",
      "  self.load()\n",
      "/home/carnd/anaconda3/envs/dl/lib/python3.5/site-packages/PIL/Image.py:844: ResourceWarning: unclosed file <_io.BufferedReader name='/home/carnd/home/data/gestures_data/00/05_thumb/frame_00_05_0159.png'>\n",
      "  self.load()\n",
      "/home/carnd/anaconda3/envs/dl/lib/python3.5/site-packages/PIL/Image.py:844: ResourceWarning: unclosed file <_io.BufferedReader name='/home/carnd/home/data/gestures_data/00/05_thumb/frame_00_05_0050.png'>\n",
      "  self.load()\n",
      "/home/carnd/anaconda3/envs/dl/lib/python3.5/site-packages/PIL/Image.py:844: ResourceWarning: unclosed file <_io.BufferedReader name='/home/carnd/home/data/gestures_data/00/05_thumb/frame_00_05_0185.png'>\n",
      "  self.load()\n",
      "/home/carnd/anaconda3/envs/dl/lib/python3.5/site-packages/PIL/Image.py:844: ResourceWarning: unclosed file <_io.BufferedReader name='/home/carnd/home/data/gestures_data/00/05_thumb/frame_00_05_0082.png'>\n",
      "  self.load()\n",
      "/home/carnd/anaconda3/envs/dl/lib/python3.5/site-packages/PIL/Image.py:844: ResourceWarning: unclosed file <_io.BufferedReader name='/home/carnd/home/data/gestures_data/00/05_thumb/frame_00_05_0019.png'>\n",
      "  self.load()\n",
      "/home/carnd/anaconda3/envs/dl/lib/python3.5/site-packages/PIL/Image.py:844: ResourceWarning: unclosed file <_io.BufferedReader name='/home/carnd/home/data/gestures_data/00/05_thumb/frame_00_05_0078.png'>\n",
      "  self.load()\n",
      "/home/carnd/anaconda3/envs/dl/lib/python3.5/site-packages/PIL/Image.py:844: ResourceWarning: unclosed file <_io.BufferedReader name='/home/carnd/home/data/gestures_data/00/05_thumb/frame_00_05_0008.png'>\n",
      "  self.load()\n",
      "/home/carnd/anaconda3/envs/dl/lib/python3.5/site-packages/PIL/Image.py:844: ResourceWarning: unclosed file <_io.BufferedReader name='/home/carnd/home/data/gestures_data/00/05_thumb/frame_00_05_0173.png'>\n",
      "  self.load()\n",
      "/home/carnd/anaconda3/envs/dl/lib/python3.5/site-packages/PIL/Image.py:844: ResourceWarning: unclosed file <_io.BufferedReader name='/home/carnd/home/data/gestures_data/00/05_thumb/frame_00_05_0129.png'>\n",
      "  self.load()\n",
      "/home/carnd/anaconda3/envs/dl/lib/python3.5/site-packages/PIL/Image.py:844: ResourceWarning: unclosed file <_io.BufferedReader name='/home/carnd/home/data/gestures_data/00/05_thumb/frame_00_05_0195.png'>\n",
      "  self.load()\n",
      "/home/carnd/anaconda3/envs/dl/lib/python3.5/site-packages/PIL/Image.py:844: ResourceWarning: unclosed file <_io.BufferedReader name='/home/carnd/home/data/gestures_data/00/05_thumb/frame_00_05_0031.png'>\n",
      "  self.load()\n",
      "/home/carnd/anaconda3/envs/dl/lib/python3.5/site-packages/PIL/Image.py:844: ResourceWarning: unclosed file <_io.BufferedReader name='/home/carnd/home/data/gestures_data/00/05_thumb/frame_00_05_0148.png'>\n",
      "  self.load()\n",
      "/home/carnd/anaconda3/envs/dl/lib/python3.5/site-packages/PIL/Image.py:844: ResourceWarning: unclosed file <_io.BufferedReader name='/home/carnd/home/data/gestures_data/00/05_thumb/frame_00_05_0099.png'>\n",
      "  self.load()\n",
      "/home/carnd/anaconda3/envs/dl/lib/python3.5/site-packages/PIL/Image.py:844: ResourceWarning: unclosed file <_io.BufferedReader name='/home/carnd/home/data/gestures_data/00/05_thumb/frame_00_05_0077.png'>\n",
      "  self.load()\n",
      "/home/carnd/anaconda3/envs/dl/lib/python3.5/site-packages/PIL/Image.py:844: ResourceWarning: unclosed file <_io.BufferedReader name='/home/carnd/home/data/gestures_data/00/05_thumb/frame_00_05_0176.png'>\n",
      "  self.load()\n",
      "/home/carnd/anaconda3/envs/dl/lib/python3.5/site-packages/PIL/Image.py:844: ResourceWarning: unclosed file <_io.BufferedReader name='/home/carnd/home/data/gestures_data/00/05_thumb/frame_00_05_0003.png'>\n",
      "  self.load()\n",
      "/home/carnd/anaconda3/envs/dl/lib/python3.5/site-packages/PIL/Image.py:844: ResourceWarning: unclosed file <_io.BufferedReader name='/home/carnd/home/data/gestures_data/00/05_thumb/frame_00_05_0121.png'>\n",
      "  self.load()\n",
      "/home/carnd/anaconda3/envs/dl/lib/python3.5/site-packages/PIL/Image.py:844: ResourceWarning: unclosed file <_io.BufferedReader name='/home/carnd/home/data/gestures_data/00/05_thumb/frame_00_05_0115.png'>\n",
      "  self.load()\n",
      "/home/carnd/anaconda3/envs/dl/lib/python3.5/site-packages/PIL/Image.py:844: ResourceWarning: unclosed file <_io.BufferedReader name='/home/carnd/home/data/gestures_data/00/05_thumb/frame_00_05_0002.png'>\n",
      "  self.load()\n",
      "/home/carnd/anaconda3/envs/dl/lib/python3.5/site-packages/PIL/Image.py:844: ResourceWarning: unclosed file <_io.BufferedReader name='/home/carnd/home/data/gestures_data/00/05_thumb/frame_00_05_0120.png'>\n",
      "  self.load()\n",
      "/home/carnd/anaconda3/envs/dl/lib/python3.5/site-packages/PIL/Image.py:844: ResourceWarning: unclosed file <_io.BufferedReader name='/home/carnd/home/data/gestures_data/00/05_thumb/frame_00_05_0147.png'>\n",
      "  self.load()\n",
      "/home/carnd/anaconda3/envs/dl/lib/python3.5/site-packages/PIL/Image.py:844: ResourceWarning: unclosed file <_io.BufferedReader name='/home/carnd/home/data/gestures_data/00/05_thumb/frame_00_05_0104.png'>\n",
      "  self.load()\n",
      "/home/carnd/anaconda3/envs/dl/lib/python3.5/site-packages/PIL/Image.py:844: ResourceWarning: unclosed file <_io.BufferedReader name='/home/carnd/home/data/gestures_data/00/05_thumb/frame_00_05_0075.png'>\n",
      "  self.load()\n",
      "/home/carnd/anaconda3/envs/dl/lib/python3.5/site-packages/PIL/Image.py:844: ResourceWarning: unclosed file <_io.BufferedReader name='/home/carnd/home/data/gestures_data/00/05_thumb/frame_00_05_0097.png'>\n",
      "  self.load()\n",
      "/home/carnd/anaconda3/envs/dl/lib/python3.5/site-packages/PIL/Image.py:844: ResourceWarning: unclosed file <_io.BufferedReader name='/home/carnd/home/data/gestures_data/00/05_thumb/frame_00_05_0161.png'>\n",
      "  self.load()\n",
      "/home/carnd/anaconda3/envs/dl/lib/python3.5/site-packages/PIL/Image.py:844: ResourceWarning: unclosed file <_io.BufferedReader name='/home/carnd/home/data/gestures_data/00/05_thumb/frame_00_05_0144.png'>\n",
      "  self.load()\n",
      "/home/carnd/anaconda3/envs/dl/lib/python3.5/site-packages/PIL/Image.py:844: ResourceWarning: unclosed file <_io.BufferedReader name='/home/carnd/home/data/gestures_data/00/05_thumb/frame_00_05_0162.png'>\n",
      "  self.load()\n",
      "/home/carnd/anaconda3/envs/dl/lib/python3.5/site-packages/PIL/Image.py:844: ResourceWarning: unclosed file <_io.BufferedReader name='/home/carnd/home/data/gestures_data/00/05_thumb/frame_00_05_0045.png'>\n",
      "  self.load()\n",
      "/home/carnd/anaconda3/envs/dl/lib/python3.5/site-packages/PIL/Image.py:844: ResourceWarning: unclosed file <_io.BufferedReader name='/home/carnd/home/data/gestures_data/00/05_thumb/frame_00_05_0004.png'>\n",
      "  self.load()\n",
      "/home/carnd/anaconda3/envs/dl/lib/python3.5/site-packages/PIL/Image.py:844: ResourceWarning: unclosed file <_io.BufferedReader name='/home/carnd/home/data/gestures_data/00/05_thumb/frame_00_05_0100.png'>\n",
      "  self.load()\n",
      "/home/carnd/anaconda3/envs/dl/lib/python3.5/site-packages/PIL/Image.py:844: ResourceWarning: unclosed file <_io.BufferedReader name='/home/carnd/home/data/gestures_data/00/05_thumb/frame_00_05_0156.png'>\n",
      "  self.load()\n",
      "/home/carnd/anaconda3/envs/dl/lib/python3.5/site-packages/PIL/Image.py:844: ResourceWarning: unclosed file <_io.BufferedReader name='/home/carnd/home/data/gestures_data/00/05_thumb/frame_00_05_0199.png'>\n",
      "  self.load()\n",
      "/home/carnd/anaconda3/envs/dl/lib/python3.5/site-packages/PIL/Image.py:844: ResourceWarning: unclosed file <_io.BufferedReader name='/home/carnd/home/data/gestures_data/00/05_thumb/frame_00_05_0139.png'>\n",
      "  self.load()\n",
      "/home/carnd/anaconda3/envs/dl/lib/python3.5/site-packages/PIL/Image.py:844: ResourceWarning: unclosed file <_io.BufferedReader name='/home/carnd/home/data/gestures_data/00/05_thumb/frame_00_05_0015.png'>\n",
      "  self.load()\n",
      "/home/carnd/anaconda3/envs/dl/lib/python3.5/site-packages/PIL/Image.py:844: ResourceWarning: unclosed file <_io.BufferedReader name='/home/carnd/home/data/gestures_data/00/05_thumb/frame_00_05_0188.png'>\n",
      "  self.load()\n",
      "/home/carnd/anaconda3/envs/dl/lib/python3.5/site-packages/PIL/Image.py:844: ResourceWarning: unclosed file <_io.BufferedReader name='/home/carnd/home/data/gestures_data/00/05_thumb/frame_00_05_0047.png'>\n",
      "  self.load()\n",
      "/home/carnd/anaconda3/envs/dl/lib/python3.5/site-packages/PIL/Image.py:844: ResourceWarning: unclosed file <_io.BufferedReader name='/home/carnd/home/data/gestures_data/00/05_thumb/frame_00_05_0089.png'>\n",
      "  self.load()\n",
      "/home/carnd/anaconda3/envs/dl/lib/python3.5/site-packages/PIL/Image.py:844: ResourceWarning: unclosed file <_io.BufferedReader name='/home/carnd/home/data/gestures_data/00/05_thumb/frame_00_05_0072.png'>\n",
      "  self.load()\n",
      "/home/carnd/anaconda3/envs/dl/lib/python3.5/site-packages/PIL/Image.py:844: ResourceWarning: unclosed file <_io.BufferedReader name='/home/carnd/home/data/gestures_data/00/05_thumb/frame_00_05_0171.png'>\n",
      "  self.load()\n",
      "/home/carnd/anaconda3/envs/dl/lib/python3.5/site-packages/PIL/Image.py:844: ResourceWarning: unclosed file <_io.BufferedReader name='/home/carnd/home/data/gestures_data/00/05_thumb/frame_00_05_0048.png'>\n",
      "  self.load()\n",
      "/home/carnd/anaconda3/envs/dl/lib/python3.5/site-packages/PIL/Image.py:844: ResourceWarning: unclosed file <_io.BufferedReader name='/home/carnd/home/data/gestures_data/00/05_thumb/frame_00_05_0028.png'>\n",
      "  self.load()\n",
      "/home/carnd/anaconda3/envs/dl/lib/python3.5/site-packages/PIL/Image.py:844: ResourceWarning: unclosed file <_io.BufferedReader name='/home/carnd/home/data/gestures_data/00/05_thumb/frame_00_05_0042.png'>\n",
      "  self.load()\n",
      "/home/carnd/anaconda3/envs/dl/lib/python3.5/site-packages/PIL/Image.py:844: ResourceWarning: unclosed file <_io.BufferedReader name='/home/carnd/home/data/gestures_data/00/05_thumb/frame_00_05_0149.png'>\n",
      "  self.load()\n",
      "/home/carnd/anaconda3/envs/dl/lib/python3.5/site-packages/PIL/Image.py:844: ResourceWarning: unclosed file <_io.BufferedReader name='/home/carnd/home/data/gestures_data/00/05_thumb/frame_00_05_0088.png'>\n",
      "  self.load()\n",
      "/home/carnd/anaconda3/envs/dl/lib/python3.5/site-packages/PIL/Image.py:844: ResourceWarning: unclosed file <_io.BufferedReader name='/home/carnd/home/data/gestures_data/00/05_thumb/frame_00_05_0114.png'>\n",
      "  self.load()\n",
      "/home/carnd/anaconda3/envs/dl/lib/python3.5/site-packages/PIL/Image.py:844: ResourceWarning: unclosed file <_io.BufferedReader name='/home/carnd/home/data/gestures_data/00/05_thumb/frame_00_05_0123.png'>\n",
      "  self.load()\n",
      "/home/carnd/anaconda3/envs/dl/lib/python3.5/site-packages/PIL/Image.py:844: ResourceWarning: unclosed file <_io.BufferedReader name='/home/carnd/home/data/gestures_data/00/05_thumb/frame_00_05_0143.png'>\n",
      "  self.load()\n",
      "/home/carnd/anaconda3/envs/dl/lib/python3.5/site-packages/PIL/Image.py:844: ResourceWarning: unclosed file <_io.BufferedReader name='/home/carnd/home/data/gestures_data/00/05_thumb/frame_00_05_0087.png'>\n",
      "  self.load()\n",
      "/home/carnd/anaconda3/envs/dl/lib/python3.5/site-packages/PIL/Image.py:844: ResourceWarning: unclosed file <_io.BufferedReader name='/home/carnd/home/data/gestures_data/00/05_thumb/frame_00_05_0023.png'>\n",
      "  self.load()\n",
      "/home/carnd/anaconda3/envs/dl/lib/python3.5/site-packages/PIL/Image.py:844: ResourceWarning: unclosed file <_io.BufferedReader name='/home/carnd/home/data/gestures_data/00/05_thumb/frame_00_05_0040.png'>\n",
      "  self.load()\n",
      "/home/carnd/anaconda3/envs/dl/lib/python3.5/site-packages/PIL/Image.py:844: ResourceWarning: unclosed file <_io.BufferedReader name='/home/carnd/home/data/gestures_data/00/05_thumb/frame_00_05_0170.png'>\n",
      "  self.load()\n",
      "/home/carnd/anaconda3/envs/dl/lib/python3.5/site-packages/PIL/Image.py:844: ResourceWarning: unclosed file <_io.BufferedReader name='/home/carnd/home/data/gestures_data/00/05_thumb/frame_00_05_0127.png'>\n",
      "  self.load()\n",
      "/home/carnd/anaconda3/envs/dl/lib/python3.5/site-packages/PIL/Image.py:844: ResourceWarning: unclosed file <_io.BufferedReader name='/home/carnd/home/data/gestures_data/00/05_thumb/frame_00_05_0001.png'>\n",
      "  self.load()\n",
      "/home/carnd/anaconda3/envs/dl/lib/python3.5/site-packages/PIL/Image.py:844: ResourceWarning: unclosed file <_io.BufferedReader name='/home/carnd/home/data/gestures_data/00/05_thumb/frame_00_05_0059.png'>\n",
      "  self.load()\n",
      "/home/carnd/anaconda3/envs/dl/lib/python3.5/site-packages/PIL/Image.py:844: ResourceWarning: unclosed file <_io.BufferedReader name='/home/carnd/home/data/gestures_data/00/05_thumb/frame_00_05_0106.png'>\n",
      "  self.load()\n",
      "/home/carnd/anaconda3/envs/dl/lib/python3.5/site-packages/PIL/Image.py:844: ResourceWarning: unclosed file <_io.BufferedReader name='/home/carnd/home/data/gestures_data/00/05_thumb/frame_00_05_0091.png'>\n",
      "  self.load()\n",
      "/home/carnd/anaconda3/envs/dl/lib/python3.5/site-packages/PIL/Image.py:844: ResourceWarning: unclosed file <_io.BufferedReader name='/home/carnd/home/data/gestures_data/00/05_thumb/frame_00_05_0054.png'>\n",
      "  self.load()\n",
      "/home/carnd/anaconda3/envs/dl/lib/python3.5/site-packages/PIL/Image.py:844: ResourceWarning: unclosed file <_io.BufferedReader name='/home/carnd/home/data/gestures_data/00/05_thumb/frame_00_05_0005.png'>\n",
      "  self.load()\n",
      "/home/carnd/anaconda3/envs/dl/lib/python3.5/site-packages/PIL/Image.py:844: ResourceWarning: unclosed file <_io.BufferedReader name='/home/carnd/home/data/gestures_data/00/05_thumb/frame_00_05_0017.png'>\n",
      "  self.load()\n",
      "/home/carnd/anaconda3/envs/dl/lib/python3.5/site-packages/PIL/Image.py:844: ResourceWarning: unclosed file <_io.BufferedReader name='/home/carnd/home/data/gestures_data/00/05_thumb/frame_00_05_0122.png'>\n",
      "  self.load()\n",
      "/home/carnd/anaconda3/envs/dl/lib/python3.5/site-packages/PIL/Image.py:844: ResourceWarning: unclosed file <_io.BufferedReader name='/home/carnd/home/data/gestures_data/00/05_thumb/frame_00_05_0069.png'>\n",
      "  self.load()\n",
      "/home/carnd/anaconda3/envs/dl/lib/python3.5/site-packages/PIL/Image.py:844: ResourceWarning: unclosed file <_io.BufferedReader name='/home/carnd/home/data/gestures_data/00/05_thumb/frame_00_05_0118.png'>\n",
      "  self.load()\n",
      "/home/carnd/anaconda3/envs/dl/lib/python3.5/site-packages/PIL/Image.py:844: ResourceWarning: unclosed file <_io.BufferedReader name='/home/carnd/home/data/gestures_data/00/05_thumb/frame_00_05_0140.png'>\n",
      "  self.load()\n",
      "/home/carnd/anaconda3/envs/dl/lib/python3.5/site-packages/PIL/Image.py:844: ResourceWarning: unclosed file <_io.BufferedReader name='/home/carnd/home/data/gestures_data/00/05_thumb/frame_00_05_0046.png'>\n",
      "  self.load()\n",
      "/home/carnd/anaconda3/envs/dl/lib/python3.5/site-packages/PIL/Image.py:844: ResourceWarning: unclosed file <_io.BufferedReader name='/home/carnd/home/data/gestures_data/00/05_thumb/frame_00_05_0083.png'>\n",
      "  self.load()\n",
      "/home/carnd/anaconda3/envs/dl/lib/python3.5/site-packages/PIL/Image.py:844: ResourceWarning: unclosed file <_io.BufferedReader name='/home/carnd/home/data/gestures_data/00/05_thumb/frame_00_05_0174.png'>\n",
      "  self.load()\n",
      "/home/carnd/anaconda3/envs/dl/lib/python3.5/site-packages/PIL/Image.py:844: ResourceWarning: unclosed file <_io.BufferedReader name='/home/carnd/home/data/gestures_data/00/05_thumb/frame_00_05_0128.png'>\n",
      "  self.load()\n",
      "/home/carnd/anaconda3/envs/dl/lib/python3.5/site-packages/PIL/Image.py:844: ResourceWarning: unclosed file <_io.BufferedReader name='/home/carnd/home/data/gestures_data/00/05_thumb/frame_00_05_0179.png'>\n",
      "  self.load()\n",
      "/home/carnd/anaconda3/envs/dl/lib/python3.5/site-packages/PIL/Image.py:844: ResourceWarning: unclosed file <_io.BufferedReader name='/home/carnd/home/data/gestures_data/00/05_thumb/frame_00_05_0184.png'>\n",
      "  self.load()\n",
      "/home/carnd/anaconda3/envs/dl/lib/python3.5/site-packages/PIL/Image.py:844: ResourceWarning: unclosed file <_io.BufferedReader name='/home/carnd/home/data/gestures_data/00/05_thumb/frame_00_05_0133.png'>\n",
      "  self.load()\n",
      "/home/carnd/anaconda3/envs/dl/lib/python3.5/site-packages/PIL/Image.py:844: ResourceWarning: unclosed file <_io.BufferedReader name='/home/carnd/home/data/gestures_data/00/05_thumb/frame_00_05_0029.png'>\n",
      "  self.load()\n",
      "/home/carnd/anaconda3/envs/dl/lib/python3.5/site-packages/PIL/Image.py:844: ResourceWarning: unclosed file <_io.BufferedReader name='/home/carnd/home/data/gestures_data/00/05_thumb/frame_00_05_0189.png'>\n",
      "  self.load()\n",
      "/home/carnd/anaconda3/envs/dl/lib/python3.5/site-packages/PIL/Image.py:844: ResourceWarning: unclosed file <_io.BufferedReader name='/home/carnd/home/data/gestures_data/00/05_thumb/frame_00_05_0067.png'>\n",
      "  self.load()\n",
      "/home/carnd/anaconda3/envs/dl/lib/python3.5/site-packages/PIL/Image.py:844: ResourceWarning: unclosed file <_io.BufferedReader name='/home/carnd/home/data/gestures_data/00/05_thumb/frame_00_05_0130.png'>\n",
      "  self.load()\n",
      "/home/carnd/anaconda3/envs/dl/lib/python3.5/site-packages/PIL/Image.py:844: ResourceWarning: unclosed file <_io.BufferedReader name='/home/carnd/home/data/gestures_data/00/05_thumb/frame_00_05_0092.png'>\n",
      "  self.load()\n",
      "/home/carnd/anaconda3/envs/dl/lib/python3.5/site-packages/PIL/Image.py:844: ResourceWarning: unclosed file <_io.BufferedReader name='/home/carnd/home/data/gestures_data/00/05_thumb/frame_00_05_0035.png'>\n",
      "  self.load()\n",
      "/home/carnd/anaconda3/envs/dl/lib/python3.5/site-packages/PIL/Image.py:844: ResourceWarning: unclosed file <_io.BufferedReader name='/home/carnd/home/data/gestures_data/00/05_thumb/frame_00_05_0107.png'>\n",
      "  self.load()\n",
      "/home/carnd/anaconda3/envs/dl/lib/python3.5/site-packages/PIL/Image.py:844: ResourceWarning: unclosed file <_io.BufferedReader name='/home/carnd/home/data/gestures_data/00/05_thumb/frame_00_05_0093.png'>\n",
      "  self.load()\n",
      "/home/carnd/anaconda3/envs/dl/lib/python3.5/site-packages/PIL/Image.py:844: ResourceWarning: unclosed file <_io.BufferedReader name='/home/carnd/home/data/gestures_data/00/05_thumb/frame_00_05_0110.png'>\n",
      "  self.load()\n",
      "/home/carnd/anaconda3/envs/dl/lib/python3.5/site-packages/PIL/Image.py:844: ResourceWarning: unclosed file <_io.BufferedReader name='/home/carnd/home/data/gestures_data/00/05_thumb/frame_00_05_0058.png'>\n",
      "  self.load()\n",
      "/home/carnd/anaconda3/envs/dl/lib/python3.5/site-packages/PIL/Image.py:844: ResourceWarning: unclosed file <_io.BufferedReader name='/home/carnd/home/data/gestures_data/00/05_thumb/frame_00_05_0057.png'>\n",
      "  self.load()\n",
      "/home/carnd/anaconda3/envs/dl/lib/python3.5/site-packages/PIL/Image.py:844: ResourceWarning: unclosed file <_io.BufferedReader name='/home/carnd/home/data/gestures_data/00/05_thumb/frame_00_05_0180.png'>\n",
      "  self.load()\n",
      "/home/carnd/anaconda3/envs/dl/lib/python3.5/site-packages/PIL/Image.py:844: ResourceWarning: unclosed file <_io.BufferedReader name='/home/carnd/home/data/gestures_data/00/05_thumb/frame_00_05_0181.png'>\n",
      "  self.load()\n",
      "/home/carnd/anaconda3/envs/dl/lib/python3.5/site-packages/PIL/Image.py:844: ResourceWarning: unclosed file <_io.BufferedReader name='/home/carnd/home/data/gestures_data/00/05_thumb/frame_00_05_0060.png'>\n",
      "  self.load()\n",
      "/home/carnd/anaconda3/envs/dl/lib/python3.5/site-packages/PIL/Image.py:844: ResourceWarning: unclosed file <_io.BufferedReader name='/home/carnd/home/data/gestures_data/00/05_thumb/frame_00_05_0157.png'>\n",
      "  self.load()\n",
      "/home/carnd/anaconda3/envs/dl/lib/python3.5/site-packages/PIL/Image.py:844: ResourceWarning: unclosed file <_io.BufferedReader name='/home/carnd/home/data/gestures_data/00/05_thumb/frame_00_05_0194.png'>\n",
      "  self.load()\n",
      "/home/carnd/anaconda3/envs/dl/lib/python3.5/site-packages/PIL/Image.py:844: ResourceWarning: unclosed file <_io.BufferedReader name='/home/carnd/home/data/gestures_data/00/05_thumb/frame_00_05_0169.png'>\n",
      "  self.load()\n",
      "/home/carnd/anaconda3/envs/dl/lib/python3.5/site-packages/PIL/Image.py:844: ResourceWarning: unclosed file <_io.BufferedReader name='/home/carnd/home/data/gestures_data/00/05_thumb/frame_00_05_0095.png'>\n",
      "  self.load()\n",
      "/home/carnd/anaconda3/envs/dl/lib/python3.5/site-packages/PIL/Image.py:844: ResourceWarning: unclosed file <_io.BufferedReader name='/home/carnd/home/data/gestures_data/00/05_thumb/frame_00_05_0039.png'>\n",
      "  self.load()\n",
      "/home/carnd/anaconda3/envs/dl/lib/python3.5/site-packages/PIL/Image.py:844: ResourceWarning: unclosed file <_io.BufferedReader name='/home/carnd/home/data/gestures_data/00/05_thumb/frame_00_05_0163.png'>\n",
      "  self.load()\n",
      "/home/carnd/anaconda3/envs/dl/lib/python3.5/site-packages/PIL/Image.py:844: ResourceWarning: unclosed file <_io.BufferedReader name='/home/carnd/home/data/gestures_data/00/05_thumb/frame_00_05_0111.png'>\n",
      "  self.load()\n",
      "/home/carnd/anaconda3/envs/dl/lib/python3.5/site-packages/PIL/Image.py:844: ResourceWarning: unclosed file <_io.BufferedReader name='/home/carnd/home/data/gestures_data/00/05_thumb/frame_00_05_0086.png'>\n",
      "  self.load()\n",
      "/home/carnd/anaconda3/envs/dl/lib/python3.5/site-packages/PIL/Image.py:844: ResourceWarning: unclosed file <_io.BufferedReader name='/home/carnd/home/data/gestures_data/00/05_thumb/frame_00_05_0165.png'>\n",
      "  self.load()\n",
      "/home/carnd/anaconda3/envs/dl/lib/python3.5/site-packages/PIL/Image.py:844: ResourceWarning: unclosed file <_io.BufferedReader name='/home/carnd/home/data/gestures_data/00/05_thumb/frame_00_05_0021.png'>\n",
      "  self.load()\n",
      "/home/carnd/anaconda3/envs/dl/lib/python3.5/site-packages/PIL/Image.py:844: ResourceWarning: unclosed file <_io.BufferedReader name='/home/carnd/home/data/gestures_data/00/05_thumb/frame_00_05_0125.png'>\n",
      "  self.load()\n",
      "/home/carnd/anaconda3/envs/dl/lib/python3.5/site-packages/PIL/Image.py:844: ResourceWarning: unclosed file <_io.BufferedReader name='/home/carnd/home/data/gestures_data/00/05_thumb/frame_00_05_0167.png'>\n",
      "  self.load()\n",
      "/home/carnd/anaconda3/envs/dl/lib/python3.5/site-packages/PIL/Image.py:844: ResourceWarning: unclosed file <_io.BufferedReader name='/home/carnd/home/data/gestures_data/00/05_thumb/frame_00_05_0041.png'>\n",
      "  self.load()\n",
      "/home/carnd/anaconda3/envs/dl/lib/python3.5/site-packages/PIL/Image.py:844: ResourceWarning: unclosed file <_io.BufferedReader name='/home/carnd/home/data/gestures_data/00/05_thumb/frame_00_05_0006.png'>\n",
      "  self.load()\n",
      "/home/carnd/anaconda3/envs/dl/lib/python3.5/site-packages/PIL/Image.py:844: ResourceWarning: unclosed file <_io.BufferedReader name='/home/carnd/home/data/gestures_data/00/05_thumb/frame_00_05_0094.png'>\n",
      "  self.load()\n",
      "/home/carnd/anaconda3/envs/dl/lib/python3.5/site-packages/PIL/Image.py:844: ResourceWarning: unclosed file <_io.BufferedReader name='/home/carnd/home/data/gestures_data/00/05_thumb/frame_00_05_0025.png'>\n",
      "  self.load()\n",
      "/home/carnd/anaconda3/envs/dl/lib/python3.5/site-packages/PIL/Image.py:844: ResourceWarning: unclosed file <_io.BufferedReader name='/home/carnd/home/data/gestures_data/00/05_thumb/frame_00_05_0009.png'>\n",
      "  self.load()\n",
      "/home/carnd/anaconda3/envs/dl/lib/python3.5/site-packages/PIL/Image.py:844: ResourceWarning: unclosed file <_io.BufferedReader name='/home/carnd/home/data/gestures_data/00/05_thumb/frame_00_05_0049.png'>\n",
      "  self.load()\n",
      "/home/carnd/anaconda3/envs/dl/lib/python3.5/site-packages/PIL/Image.py:844: ResourceWarning: unclosed file <_io.BufferedReader name='/home/carnd/home/data/gestures_data/00/05_thumb/frame_00_05_0101.png'>\n",
      "  self.load()\n",
      "/home/carnd/anaconda3/envs/dl/lib/python3.5/site-packages/PIL/Image.py:844: ResourceWarning: unclosed file <_io.BufferedReader name='/home/carnd/home/data/gestures_data/00/05_thumb/frame_00_05_0074.png'>\n",
      "  self.load()\n",
      "/home/carnd/anaconda3/envs/dl/lib/python3.5/site-packages/PIL/Image.py:844: ResourceWarning: unclosed file <_io.BufferedReader name='/home/carnd/home/data/gestures_data/00/05_thumb/frame_00_05_0166.png'>\n",
      "  self.load()\n",
      "/home/carnd/anaconda3/envs/dl/lib/python3.5/site-packages/PIL/Image.py:844: ResourceWarning: unclosed file <_io.BufferedReader name='/home/carnd/home/data/gestures_data/00/05_thumb/frame_00_05_0043.png'>\n",
      "  self.load()\n",
      "/home/carnd/anaconda3/envs/dl/lib/python3.5/site-packages/PIL/Image.py:844: ResourceWarning: unclosed file <_io.BufferedReader name='/home/carnd/home/data/gestures_data/00/05_thumb/frame_00_05_0053.png'>\n",
      "  self.load()\n",
      "/home/carnd/anaconda3/envs/dl/lib/python3.5/site-packages/PIL/Image.py:844: ResourceWarning: unclosed file <_io.BufferedReader name='/home/carnd/home/data/gestures_data/00/05_thumb/frame_00_05_0196.png'>\n",
      "  self.load()\n",
      "/home/carnd/anaconda3/envs/dl/lib/python3.5/site-packages/PIL/Image.py:844: ResourceWarning: unclosed file <_io.BufferedReader name='/home/carnd/home/data/gestures_data/00/05_thumb/frame_00_05_0024.png'>\n",
      "  self.load()\n",
      "/home/carnd/anaconda3/envs/dl/lib/python3.5/site-packages/PIL/Image.py:844: ResourceWarning: unclosed file <_io.BufferedReader name='/home/carnd/home/data/gestures_data/00/05_thumb/frame_00_05_0108.png'>\n",
      "  self.load()\n",
      "/home/carnd/anaconda3/envs/dl/lib/python3.5/site-packages/PIL/Image.py:844: ResourceWarning: unclosed file <_io.BufferedReader name='/home/carnd/home/data/gestures_data/00/05_thumb/frame_00_05_0051.png'>\n",
      "  self.load()\n",
      "/home/carnd/anaconda3/envs/dl/lib/python3.5/site-packages/PIL/Image.py:844: ResourceWarning: unclosed file <_io.BufferedReader name='/home/carnd/home/data/gestures_data/00/05_thumb/frame_00_05_0198.png'>\n",
      "  self.load()\n",
      "/home/carnd/anaconda3/envs/dl/lib/python3.5/site-packages/PIL/Image.py:844: ResourceWarning: unclosed file <_io.BufferedReader name='/home/carnd/home/data/gestures_data/00/05_thumb/frame_00_05_0200.png'>\n",
      "  self.load()\n",
      "/home/carnd/anaconda3/envs/dl/lib/python3.5/site-packages/PIL/Image.py:844: ResourceWarning: unclosed file <_io.BufferedReader name='/home/carnd/home/data/gestures_data/00/05_thumb/frame_00_05_0032.png'>\n",
      "  self.load()\n",
      "/home/carnd/anaconda3/envs/dl/lib/python3.5/site-packages/PIL/Image.py:844: ResourceWarning: unclosed file <_io.BufferedReader name='/home/carnd/home/data/gestures_data/00/05_thumb/frame_00_05_0192.png'>\n",
      "  self.load()\n",
      "/home/carnd/anaconda3/envs/dl/lib/python3.5/site-packages/PIL/Image.py:844: ResourceWarning: unclosed file <_io.BufferedReader name='/home/carnd/home/data/gestures_data/00/05_thumb/frame_00_05_0063.png'>\n",
      "  self.load()\n",
      "/home/carnd/anaconda3/envs/dl/lib/python3.5/site-packages/PIL/Image.py:844: ResourceWarning: unclosed file <_io.BufferedReader name='/home/carnd/home/data/gestures_data/00/05_thumb/frame_00_05_0112.png'>\n",
      "  self.load()\n",
      "/home/carnd/anaconda3/envs/dl/lib/python3.5/site-packages/PIL/Image.py:844: ResourceWarning: unclosed file <_io.BufferedReader name='/home/carnd/home/data/gestures_data/00/05_thumb/frame_00_05_0036.png'>\n",
      "  self.load()\n",
      "/home/carnd/anaconda3/envs/dl/lib/python3.5/site-packages/PIL/Image.py:844: ResourceWarning: unclosed file <_io.BufferedReader name='/home/carnd/home/data/gestures_data/00/05_thumb/frame_00_05_0020.png'>\n",
      "  self.load()\n",
      "/home/carnd/anaconda3/envs/dl/lib/python3.5/site-packages/PIL/Image.py:844: ResourceWarning: unclosed file <_io.BufferedReader name='/home/carnd/home/data/gestures_data/00/05_thumb/frame_00_05_0061.png'>\n",
      "  self.load()\n",
      "/home/carnd/anaconda3/envs/dl/lib/python3.5/site-packages/PIL/Image.py:844: ResourceWarning: unclosed file <_io.BufferedReader name='/home/carnd/home/data/gestures_data/00/05_thumb/frame_00_05_0124.png'>\n",
      "  self.load()\n",
      "/home/carnd/anaconda3/envs/dl/lib/python3.5/site-packages/PIL/Image.py:844: ResourceWarning: unclosed file <_io.BufferedReader name='/home/carnd/home/data/gestures_data/00/05_thumb/frame_00_05_0138.png'>\n",
      "  self.load()\n",
      "/home/carnd/anaconda3/envs/dl/lib/python3.5/site-packages/PIL/Image.py:844: ResourceWarning: unclosed file <_io.BufferedReader name='/home/carnd/home/data/gestures_data/00/05_thumb/frame_00_05_0117.png'>\n",
      "  self.load()\n",
      "/home/carnd/anaconda3/envs/dl/lib/python3.5/site-packages/PIL/Image.py:844: ResourceWarning: unclosed file <_io.BufferedReader name='/home/carnd/home/data/gestures_data/00/05_thumb/frame_00_05_0105.png'>\n",
      "  self.load()\n",
      "/home/carnd/anaconda3/envs/dl/lib/python3.5/site-packages/PIL/Image.py:844: ResourceWarning: unclosed file <_io.BufferedReader name='/home/carnd/home/data/gestures_data/00/05_thumb/frame_00_05_0187.png'>\n",
      "  self.load()\n",
      "/home/carnd/anaconda3/envs/dl/lib/python3.5/site-packages/PIL/Image.py:844: ResourceWarning: unclosed file <_io.BufferedReader name='/home/carnd/home/data/gestures_data/00/05_thumb/frame_00_05_0014.png'>\n",
      "  self.load()\n",
      "/home/carnd/anaconda3/envs/dl/lib/python3.5/site-packages/PIL/Image.py:844: ResourceWarning: unclosed file <_io.BufferedReader name='/home/carnd/home/data/gestures_data/00/05_thumb/frame_00_05_0113.png'>\n",
      "  self.load()\n",
      "/home/carnd/anaconda3/envs/dl/lib/python3.5/site-packages/PIL/Image.py:844: ResourceWarning: unclosed file <_io.BufferedReader name='/home/carnd/home/data/gestures_data/00/05_thumb/frame_00_05_0116.png'>\n",
      "  self.load()\n",
      "/home/carnd/anaconda3/envs/dl/lib/python3.5/site-packages/PIL/Image.py:844: ResourceWarning: unclosed file <_io.BufferedReader name='/home/carnd/home/data/gestures_data/00/05_thumb/frame_00_05_0066.png'>\n",
      "  self.load()\n",
      "/home/carnd/anaconda3/envs/dl/lib/python3.5/site-packages/PIL/Image.py:844: ResourceWarning: unclosed file <_io.BufferedReader name='/home/carnd/home/data/gestures_data/00/05_thumb/frame_00_05_0177.png'>\n",
      "  self.load()\n",
      "/home/carnd/anaconda3/envs/dl/lib/python3.5/site-packages/PIL/Image.py:844: ResourceWarning: unclosed file <_io.BufferedReader name='/home/carnd/home/data/gestures_data/00/05_thumb/frame_00_05_0197.png'>\n",
      "  self.load()\n",
      "/home/carnd/anaconda3/envs/dl/lib/python3.5/site-packages/PIL/Image.py:844: ResourceWarning: unclosed file <_io.BufferedReader name='/home/carnd/home/data/gestures_data/00/05_thumb/frame_00_05_0153.png'>\n",
      "  self.load()\n",
      "/home/carnd/anaconda3/envs/dl/lib/python3.5/site-packages/PIL/Image.py:844: ResourceWarning: unclosed file <_io.BufferedReader name='/home/carnd/home/data/gestures_data/00/05_thumb/frame_00_05_0038.png'>\n",
      "  self.load()\n",
      "/home/carnd/anaconda3/envs/dl/lib/python3.5/site-packages/PIL/Image.py:844: ResourceWarning: unclosed file <_io.BufferedReader name='/home/carnd/home/data/gestures_data/00/05_thumb/frame_00_05_0172.png'>\n",
      "  self.load()\n",
      "/home/carnd/anaconda3/envs/dl/lib/python3.5/site-packages/PIL/Image.py:844: ResourceWarning: unclosed file <_io.BufferedReader name='/home/carnd/home/data/gestures_data/00/05_thumb/frame_00_05_0034.png'>\n",
      "  self.load()\n",
      "/home/carnd/anaconda3/envs/dl/lib/python3.5/site-packages/PIL/Image.py:844: ResourceWarning: unclosed file <_io.BufferedReader name='/home/carnd/home/data/gestures_data/00/05_thumb/frame_00_05_0131.png'>\n",
      "  self.load()\n",
      "/home/carnd/anaconda3/envs/dl/lib/python3.5/site-packages/PIL/Image.py:844: ResourceWarning: unclosed file <_io.BufferedReader name='/home/carnd/home/data/gestures_data/00/05_thumb/frame_00_05_0132.png'>\n",
      "  self.load()\n",
      "/home/carnd/anaconda3/envs/dl/lib/python3.5/site-packages/PIL/Image.py:844: ResourceWarning: unclosed file <_io.BufferedReader name='/home/carnd/home/data/gestures_data/00/05_thumb/frame_00_05_0085.png'>\n",
      "  self.load()\n",
      "/home/carnd/anaconda3/envs/dl/lib/python3.5/site-packages/PIL/Image.py:844: ResourceWarning: unclosed file <_io.BufferedReader name='/home/carnd/home/data/gestures_data/00/05_thumb/frame_00_05_0098.png'>\n",
      "  self.load()\n",
      "/home/carnd/anaconda3/envs/dl/lib/python3.5/site-packages/PIL/Image.py:844: ResourceWarning: unclosed file <_io.BufferedReader name='/home/carnd/home/data/gestures_data/00/05_thumb/frame_00_05_0011.png'>\n",
      "  self.load()\n",
      "/home/carnd/anaconda3/envs/dl/lib/python3.5/site-packages/PIL/Image.py:844: ResourceWarning: unclosed file <_io.BufferedReader name='/home/carnd/home/data/gestures_data/00/05_thumb/frame_00_05_0079.png'>\n",
      "  self.load()\n",
      "/home/carnd/anaconda3/envs/dl/lib/python3.5/site-packages/PIL/Image.py:844: ResourceWarning: unclosed file <_io.BufferedReader name='/home/carnd/home/data/gestures_data/00/05_thumb/frame_00_05_0076.png'>\n",
      "  self.load()\n",
      "/home/carnd/anaconda3/envs/dl/lib/python3.5/site-packages/PIL/Image.py:844: ResourceWarning: unclosed file <_io.BufferedReader name='/home/carnd/home/data/gestures_data/00/05_thumb/frame_00_05_0182.png'>\n",
      "  self.load()\n",
      "/home/carnd/anaconda3/envs/dl/lib/python3.5/site-packages/PIL/Image.py:844: ResourceWarning: unclosed file <_io.BufferedReader name='/home/carnd/home/data/gestures_data/00/05_thumb/frame_00_05_0193.png'>\n",
      "  self.load()\n",
      "/home/carnd/anaconda3/envs/dl/lib/python3.5/site-packages/PIL/Image.py:844: ResourceWarning: unclosed file <_io.BufferedReader name='/home/carnd/home/data/gestures_data/00/05_thumb/frame_00_05_0012.png'>\n",
      "  self.load()\n",
      "/home/carnd/anaconda3/envs/dl/lib/python3.5/site-packages/PIL/Image.py:844: ResourceWarning: unclosed file <_io.BufferedReader name='/home/carnd/home/data/gestures_data/00/05_thumb/frame_00_05_0064.png'>\n",
      "  self.load()\n",
      "/home/carnd/anaconda3/envs/dl/lib/python3.5/site-packages/PIL/Image.py:844: ResourceWarning: unclosed file <_io.BufferedReader name='/home/carnd/home/data/gestures_data/00/05_thumb/frame_00_05_0175.png'>\n",
      "  self.load()\n",
      "/home/carnd/anaconda3/envs/dl/lib/python3.5/site-packages/PIL/Image.py:844: ResourceWarning: unclosed file <_io.BufferedReader name='/home/carnd/home/data/gestures_data/00/05_thumb/frame_00_05_0013.png'>\n",
      "  self.load()\n",
      "/home/carnd/anaconda3/envs/dl/lib/python3.5/site-packages/PIL/Image.py:844: ResourceWarning: unclosed file <_io.BufferedReader name='/home/carnd/home/data/gestures_data/00/05_thumb/frame_00_05_0026.png'>\n",
      "  self.load()\n",
      "/home/carnd/anaconda3/envs/dl/lib/python3.5/site-packages/PIL/Image.py:844: ResourceWarning: unclosed file <_io.BufferedReader name='/home/carnd/home/data/gestures_data/00/05_thumb/frame_00_05_0119.png'>\n",
      "  self.load()\n"
     ]
    },
    {
     "ename": "KeyError",
     "evalue": "'05_thumb'",
     "output_type": "error",
     "traceback": [
      "\u001b[0;31m---------------------------------------------------------------------------\u001b[0m",
      "\u001b[0;31mKeyError\u001b[0m                                  Traceback (most recent call last)",
      "\u001b[0;32m<ipython-input-63-b63b3ac289f6>\u001b[0m in \u001b[0;36m<module>\u001b[0;34m()\u001b[0m\n\u001b[1;32m     18\u001b[0m                 \u001b[0mx_data\u001b[0m\u001b[0;34m.\u001b[0m\u001b[0mappend\u001b[0m\u001b[0;34m(\u001b[0m\u001b[0marr\u001b[0m\u001b[0;34m)\u001b[0m\u001b[0;34m\u001b[0m\u001b[0m\n\u001b[1;32m     19\u001b[0m                 \u001b[0mcount\u001b[0m \u001b[0;34m=\u001b[0m \u001b[0mcount\u001b[0m \u001b[0;34m+\u001b[0m \u001b[0;36m1\u001b[0m\u001b[0;34m\u001b[0m\u001b[0m\n\u001b[0;32m---> 20\u001b[0;31m             \u001b[0my_values\u001b[0m \u001b[0;34m=\u001b[0m \u001b[0mnp\u001b[0m\u001b[0;34m.\u001b[0m\u001b[0mfull\u001b[0m\u001b[0;34m(\u001b[0m\u001b[0;34m(\u001b[0m\u001b[0mcount\u001b[0m\u001b[0;34m,\u001b[0m \u001b[0;36m1\u001b[0m\u001b[0;34m)\u001b[0m\u001b[0;34m,\u001b[0m \u001b[0mlookup\u001b[0m\u001b[0;34m[\u001b[0m\u001b[0mj\u001b[0m\u001b[0;34m]\u001b[0m\u001b[0;34m)\u001b[0m\u001b[0;34m\u001b[0m\u001b[0m\n\u001b[0m\u001b[1;32m     21\u001b[0m             \u001b[0my_data\u001b[0m\u001b[0;34m.\u001b[0m\u001b[0mappend\u001b[0m\u001b[0;34m(\u001b[0m\u001b[0my_values\u001b[0m\u001b[0;34m)\u001b[0m\u001b[0;34m\u001b[0m\u001b[0m\n\u001b[1;32m     22\u001b[0m             \u001b[0mdatacount\u001b[0m \u001b[0;34m=\u001b[0m \u001b[0mdatacount\u001b[0m \u001b[0;34m+\u001b[0m \u001b[0mcount\u001b[0m\u001b[0;34m\u001b[0m\u001b[0m\n",
      "\u001b[0;31mKeyError\u001b[0m: '05_thumb'"
     ]
    }
   ],
   "source": [
    "x_data = []\n",
    "y_data = []\n",
    "\n",
    "\n",
    "datacount = 0\n",
    "for i in range(0, 10):\n",
    "    for j in os.listdir('/home/carnd/home/data/gestures_data/0' + str(i) + '/'):\n",
    "        if not j.startswith('.'): # Again avoid hidden folders\n",
    "            count = 0 # To tally images of a given gesture\n",
    "            for k in os.listdir('/home/carnd/home/data/gestures_data/0' + \n",
    "                                str(i) + '/' + j + '/'):\n",
    "                                # Loop over the images\n",
    "                img = Image.open('/home/carnd/home/data/gestures_data/0' + \n",
    "                                 str(i) + '/' + j + '/' + k).convert('L')\n",
    "                                # Read in and convert to greyscale\n",
    "                img = img.resize((224, 224))\n",
    "                arr = np.array(img)\n",
    "                x_data.append(arr) \n",
    "                count = count + 1\n",
    "            y_values = np.full((count, 1), lookup[j]) \n",
    "            y_data.append(y_values)\n",
    "            datacount = datacount + count\n",
    "            print(datacount)"
   ]
  },
  {
   "cell_type": "code",
   "execution_count": 6,
   "metadata": {
    "collapsed": false
   },
   "outputs": [],
   "source": [
    "y_data = np.array(y_data)"
   ]
  },
  {
   "cell_type": "code",
   "execution_count": 7,
   "metadata": {
    "collapsed": false
   },
   "outputs": [],
   "source": [
    "x_data = np.array(x_data, dtype = 'float32')\n",
    "y_data = np.array(y_data)\n",
    "y_data = y_data.reshape(datacount, 1) # Reshape to be the correct size"
   ]
  },
  {
   "cell_type": "code",
   "execution_count": 8,
   "metadata": {
    "collapsed": false
   },
   "outputs": [
    {
     "data": {
      "text/plain": [
       "(20000, 224, 224)"
      ]
     },
     "execution_count": 8,
     "metadata": {},
     "output_type": "execute_result"
    }
   ],
   "source": [
    "x_data.shape"
   ]
  },
  {
   "cell_type": "code",
   "execution_count": 22,
   "metadata": {
    "collapsed": false
   },
   "outputs": [
    {
     "ename": "NameError",
     "evalue": "name 'x_data' is not defined",
     "output_type": "error",
     "traceback": [
      "\u001b[0;31m---------------------------------------------------------------------------\u001b[0m",
      "\u001b[0;31mNameError\u001b[0m                                 Traceback (most recent call last)",
      "\u001b[0;32m<ipython-input-22-c73469821ff0>\u001b[0m in \u001b[0;36m<module>\u001b[0;34m()\u001b[0m\n\u001b[1;32m      1\u001b[0m \u001b[0;32mfrom\u001b[0m \u001b[0mrandom\u001b[0m \u001b[0;32mimport\u001b[0m \u001b[0mrandint\u001b[0m\u001b[0;34m\u001b[0m\u001b[0m\n\u001b[1;32m      2\u001b[0m \u001b[0;32mfor\u001b[0m \u001b[0mi\u001b[0m \u001b[0;32min\u001b[0m \u001b[0mrange\u001b[0m\u001b[0;34m(\u001b[0m\u001b[0;36m0\u001b[0m\u001b[0;34m,\u001b[0m \u001b[0;36m10\u001b[0m\u001b[0;34m)\u001b[0m\u001b[0;34m:\u001b[0m\u001b[0;34m\u001b[0m\u001b[0m\n\u001b[0;32m----> 3\u001b[0;31m     \u001b[0mplt\u001b[0m\u001b[0;34m.\u001b[0m\u001b[0mimshow\u001b[0m\u001b[0;34m(\u001b[0m\u001b[0mx_data\u001b[0m\u001b[0;34m[\u001b[0m\u001b[0mi\u001b[0m\u001b[0;34m*\u001b[0m\u001b[0;36m200\u001b[0m \u001b[0;34m,\u001b[0m \u001b[0;34m:\u001b[0m\u001b[0;34m,\u001b[0m \u001b[0;34m:\u001b[0m\u001b[0;34m]\u001b[0m\u001b[0;34m)\u001b[0m\u001b[0;34m\u001b[0m\u001b[0m\n\u001b[0m\u001b[1;32m      4\u001b[0m     \u001b[0mplt\u001b[0m\u001b[0;34m.\u001b[0m\u001b[0mtitle\u001b[0m\u001b[0;34m(\u001b[0m\u001b[0mreverselookup\u001b[0m\u001b[0;34m[\u001b[0m\u001b[0my_data\u001b[0m\u001b[0;34m[\u001b[0m\u001b[0mi\u001b[0m\u001b[0;34m*\u001b[0m\u001b[0;36m200\u001b[0m \u001b[0;34m,\u001b[0m\u001b[0;36m0\u001b[0m\u001b[0;34m]\u001b[0m\u001b[0;34m]\u001b[0m\u001b[0;34m)\u001b[0m\u001b[0;34m\u001b[0m\u001b[0m\n\u001b[1;32m      5\u001b[0m     \u001b[0mplt\u001b[0m\u001b[0;34m.\u001b[0m\u001b[0mshow\u001b[0m\u001b[0;34m(\u001b[0m\u001b[0;34m)\u001b[0m\u001b[0;34m\u001b[0m\u001b[0m\n",
      "\u001b[0;31mNameError\u001b[0m: name 'x_data' is not defined"
     ]
    }
   ],
   "source": [
    "from random import randint\n",
    "for i in range(0, 10):\n",
    "    plt.imshow(x_data[i*200 , :, :])\n",
    "    plt.title(reverselookup[y_data[i*200 ,0]])\n",
    "    plt.show()"
   ]
  },
  {
   "cell_type": "code",
   "execution_count": 10,
   "metadata": {
    "collapsed": true
   },
   "outputs": [],
   "source": [
    "from keras.utils import to_categorical\n",
    "y_data = to_categorical(y_data)"
   ]
  },
  {
   "cell_type": "code",
   "execution_count": 11,
   "metadata": {
    "collapsed": false
   },
   "outputs": [
    {
     "data": {
      "text/plain": [
       "(20000, 224, 224)"
      ]
     },
     "execution_count": 11,
     "metadata": {},
     "output_type": "execute_result"
    }
   ],
   "source": [
    "x_data.shape"
   ]
  },
  {
   "cell_type": "code",
   "execution_count": 12,
   "metadata": {
    "collapsed": false
   },
   "outputs": [],
   "source": [
    "x_data = x_data.reshape((datacount, 224, 224, 1))\n",
    "x_data /= 255"
   ]
  },
  {
   "cell_type": "code",
   "execution_count": 13,
   "metadata": {
    "collapsed": false
   },
   "outputs": [
    {
     "data": {
      "text/plain": [
       "(20000, 224, 224, 1)"
      ]
     },
     "execution_count": 13,
     "metadata": {},
     "output_type": "execute_result"
    }
   ],
   "source": [
    "x_data.shape"
   ]
  },
  {
   "cell_type": "code",
   "execution_count": 14,
   "metadata": {
    "collapsed": false
   },
   "outputs": [],
   "source": [
    "from sklearn.cross_validation import train_test_split\n",
    "x_train,x_further,y_train,y_further = train_test_split(x_data,y_data,test_size = 0.2)\n",
    "x_validate,x_test,y_validate,y_test = train_test_split(x_further,y_further,test_size = 0.5)"
   ]
  },
  {
   "cell_type": "code",
   "execution_count": 40,
   "metadata": {
    "collapsed": false,
    "scrolled": true
   },
   "outputs": [
    {
     "name": "stdout",
     "output_type": "stream",
     "text": [
      "_________________________________________________________________\n",
      "Layer (type)                 Output Shape              Param #   \n",
      "=================================================================\n",
      "input_7 (InputLayer)         (None, None, None, 3)     0         \n",
      "_________________________________________________________________\n",
      "block1_conv1 (Conv2D)        (None, None, None, 64)    1792      \n",
      "_________________________________________________________________\n",
      "block1_conv2 (Conv2D)        (None, None, None, 64)    36928     \n",
      "_________________________________________________________________\n",
      "block1_pool (MaxPooling2D)   (None, None, None, 64)    0         \n",
      "_________________________________________________________________\n",
      "block2_conv1 (Conv2D)        (None, None, None, 128)   73856     \n",
      "_________________________________________________________________\n",
      "block2_conv2 (Conv2D)        (None, None, None, 128)   147584    \n",
      "_________________________________________________________________\n",
      "block2_pool (MaxPooling2D)   (None, None, None, 128)   0         \n",
      "_________________________________________________________________\n",
      "block3_conv1 (Conv2D)        (None, None, None, 256)   295168    \n",
      "_________________________________________________________________\n",
      "block3_conv2 (Conv2D)        (None, None, None, 256)   590080    \n",
      "_________________________________________________________________\n",
      "block3_conv3 (Conv2D)        (None, None, None, 256)   590080    \n",
      "_________________________________________________________________\n",
      "block3_pool (MaxPooling2D)   (None, None, None, 256)   0         \n",
      "_________________________________________________________________\n",
      "block4_conv1 (Conv2D)        (None, None, None, 512)   1180160   \n",
      "_________________________________________________________________\n",
      "block4_conv2 (Conv2D)        (None, None, None, 512)   2359808   \n",
      "_________________________________________________________________\n",
      "block4_conv3 (Conv2D)        (None, None, None, 512)   2359808   \n",
      "_________________________________________________________________\n",
      "block4_pool (MaxPooling2D)   (None, None, None, 512)   0         \n",
      "_________________________________________________________________\n",
      "block5_conv1 (Conv2D)        (None, None, None, 512)   2359808   \n",
      "_________________________________________________________________\n",
      "block5_conv2 (Conv2D)        (None, None, None, 512)   2359808   \n",
      "_________________________________________________________________\n",
      "block5_conv3 (Conv2D)        (None, None, None, 512)   2359808   \n",
      "_________________________________________________________________\n",
      "block5_pool (MaxPooling2D)   (None, None, None, 512)   0         \n",
      "=================================================================\n",
      "Total params: 14,714,688\n",
      "Trainable params: 14,714,688\n",
      "Non-trainable params: 0\n",
      "_________________________________________________________________\n"
     ]
    },
    {
     "ename": "IndexError",
     "evalue": "list index out of range",
     "output_type": "error",
     "traceback": [
      "\u001b[0;31m---------------------------------------------------------------------------\u001b[0m",
      "\u001b[0;31mIndexError\u001b[0m                                Traceback (most recent call last)",
      "\u001b[0;32m<ipython-input-40-4710b5231469>\u001b[0m in \u001b[0;36m<module>\u001b[0;34m()\u001b[0m\n\u001b[1;32m     25\u001b[0m \u001b[0;34m\u001b[0m\u001b[0m\n\u001b[1;32m     26\u001b[0m \u001b[0;31m#Use the generated model\u001b[0m\u001b[0;34m\u001b[0m\u001b[0;34m\u001b[0m\u001b[0m\n\u001b[0;32m---> 27\u001b[0;31m \u001b[0moutput_vgg16_conv\u001b[0m \u001b[0;34m=\u001b[0m \u001b[0mmodel_vgg16_conv\u001b[0m\u001b[0;34m(\u001b[0m\u001b[0minput\u001b[0m\u001b[0;34m)\u001b[0m\u001b[0;34m\u001b[0m\u001b[0m\n\u001b[0m\u001b[1;32m     28\u001b[0m \u001b[0;34m\u001b[0m\u001b[0m\n\u001b[1;32m     29\u001b[0m \u001b[0;31m#Add the fully-connected layers\u001b[0m\u001b[0;34m\u001b[0m\u001b[0;34m\u001b[0m\u001b[0m\n",
      "\u001b[0;32m/home/carnd/anaconda3/lib/python3.5/site-packages/keras/engine/base_layer.py\u001b[0m in \u001b[0;36m__call__\u001b[0;34m(self, inputs, **kwargs)\u001b[0m\n\u001b[1;32m    455\u001b[0m             \u001b[0;31m# Actually call the layer,\u001b[0m\u001b[0;34m\u001b[0m\u001b[0;34m\u001b[0m\u001b[0m\n\u001b[1;32m    456\u001b[0m             \u001b[0;31m# collecting output(s), mask(s), and shape(s).\u001b[0m\u001b[0;34m\u001b[0m\u001b[0;34m\u001b[0m\u001b[0m\n\u001b[0;32m--> 457\u001b[0;31m             \u001b[0moutput\u001b[0m \u001b[0;34m=\u001b[0m \u001b[0mself\u001b[0m\u001b[0;34m.\u001b[0m\u001b[0mcall\u001b[0m\u001b[0;34m(\u001b[0m\u001b[0minputs\u001b[0m\u001b[0;34m,\u001b[0m \u001b[0;34m**\u001b[0m\u001b[0mkwargs\u001b[0m\u001b[0;34m)\u001b[0m\u001b[0;34m\u001b[0m\u001b[0m\n\u001b[0m\u001b[1;32m    458\u001b[0m             \u001b[0moutput_mask\u001b[0m \u001b[0;34m=\u001b[0m \u001b[0mself\u001b[0m\u001b[0;34m.\u001b[0m\u001b[0mcompute_mask\u001b[0m\u001b[0;34m(\u001b[0m\u001b[0minputs\u001b[0m\u001b[0;34m,\u001b[0m \u001b[0mprevious_mask\u001b[0m\u001b[0;34m)\u001b[0m\u001b[0;34m\u001b[0m\u001b[0m\n\u001b[1;32m    459\u001b[0m \u001b[0;34m\u001b[0m\u001b[0m\n",
      "\u001b[0;32m/home/carnd/anaconda3/lib/python3.5/site-packages/keras/engine/network.py\u001b[0m in \u001b[0;36mcall\u001b[0;34m(self, inputs, mask)\u001b[0m\n\u001b[1;32m    562\u001b[0m             \u001b[0;32mreturn\u001b[0m \u001b[0mself\u001b[0m\u001b[0;34m.\u001b[0m\u001b[0m_output_tensor_cache\u001b[0m\u001b[0;34m[\u001b[0m\u001b[0mcache_key\u001b[0m\u001b[0;34m]\u001b[0m\u001b[0;34m\u001b[0m\u001b[0m\n\u001b[1;32m    563\u001b[0m         \u001b[0;32melse\u001b[0m\u001b[0;34m:\u001b[0m\u001b[0;34m\u001b[0m\u001b[0m\n\u001b[0;32m--> 564\u001b[0;31m             \u001b[0moutput_tensors\u001b[0m\u001b[0;34m,\u001b[0m \u001b[0m_\u001b[0m\u001b[0;34m,\u001b[0m \u001b[0m_\u001b[0m \u001b[0;34m=\u001b[0m \u001b[0mself\u001b[0m\u001b[0;34m.\u001b[0m\u001b[0mrun_internal_graph\u001b[0m\u001b[0;34m(\u001b[0m\u001b[0minputs\u001b[0m\u001b[0;34m,\u001b[0m \u001b[0mmasks\u001b[0m\u001b[0;34m)\u001b[0m\u001b[0;34m\u001b[0m\u001b[0m\n\u001b[0m\u001b[1;32m    565\u001b[0m             \u001b[0;32mreturn\u001b[0m \u001b[0moutput_tensors\u001b[0m\u001b[0;34m\u001b[0m\u001b[0m\n\u001b[1;32m    566\u001b[0m \u001b[0;34m\u001b[0m\u001b[0m\n",
      "\u001b[0;32m/home/carnd/anaconda3/lib/python3.5/site-packages/keras/engine/network.py\u001b[0m in \u001b[0;36mrun_internal_graph\u001b[0;34m(self, inputs, masks)\u001b[0m\n\u001b[1;32m    719\u001b[0m                                     \u001b[0mkwargs\u001b[0m\u001b[0;34m[\u001b[0m\u001b[0;34m'mask'\u001b[0m\u001b[0;34m]\u001b[0m \u001b[0;34m=\u001b[0m \u001b[0mcomputed_mask\u001b[0m\u001b[0;34m\u001b[0m\u001b[0m\n\u001b[1;32m    720\u001b[0m                             output_tensors = to_list(\n\u001b[0;32m--> 721\u001b[0;31m                                 layer.call(computed_tensor, **kwargs))\n\u001b[0m\u001b[1;32m    722\u001b[0m                             output_masks = layer.compute_mask(computed_tensor,\n\u001b[1;32m    723\u001b[0m                                                               computed_mask)\n",
      "\u001b[0;32m/home/carnd/anaconda3/lib/python3.5/site-packages/keras/layers/convolutional.py\u001b[0m in \u001b[0;36mcall\u001b[0;34m(self, inputs)\u001b[0m\n\u001b[1;32m    169\u001b[0m                 \u001b[0mpadding\u001b[0m\u001b[0;34m=\u001b[0m\u001b[0mself\u001b[0m\u001b[0;34m.\u001b[0m\u001b[0mpadding\u001b[0m\u001b[0;34m,\u001b[0m\u001b[0;34m\u001b[0m\u001b[0m\n\u001b[1;32m    170\u001b[0m                 \u001b[0mdata_format\u001b[0m\u001b[0;34m=\u001b[0m\u001b[0mself\u001b[0m\u001b[0;34m.\u001b[0m\u001b[0mdata_format\u001b[0m\u001b[0;34m,\u001b[0m\u001b[0;34m\u001b[0m\u001b[0m\n\u001b[0;32m--> 171\u001b[0;31m                 dilation_rate=self.dilation_rate)\n\u001b[0m\u001b[1;32m    172\u001b[0m         \u001b[0;32mif\u001b[0m \u001b[0mself\u001b[0m\u001b[0;34m.\u001b[0m\u001b[0mrank\u001b[0m \u001b[0;34m==\u001b[0m \u001b[0;36m3\u001b[0m\u001b[0;34m:\u001b[0m\u001b[0;34m\u001b[0m\u001b[0m\n\u001b[1;32m    173\u001b[0m             outputs = K.conv3d(\n",
      "\u001b[0;32m/home/carnd/anaconda3/lib/python3.5/site-packages/keras/backend/tensorflow_backend.py\u001b[0m in \u001b[0;36mconv2d\u001b[0;34m(x, kernel, strides, padding, data_format, dilation_rate)\u001b[0m\n\u001b[1;32m   3648\u001b[0m         \u001b[0mstrides\u001b[0m\u001b[0;34m=\u001b[0m\u001b[0mstrides\u001b[0m\u001b[0;34m,\u001b[0m\u001b[0;34m\u001b[0m\u001b[0m\n\u001b[1;32m   3649\u001b[0m         \u001b[0mpadding\u001b[0m\u001b[0;34m=\u001b[0m\u001b[0mpadding\u001b[0m\u001b[0;34m,\u001b[0m\u001b[0;34m\u001b[0m\u001b[0m\n\u001b[0;32m-> 3650\u001b[0;31m         data_format=tf_data_format)\n\u001b[0m\u001b[1;32m   3651\u001b[0m \u001b[0;34m\u001b[0m\u001b[0m\n\u001b[1;32m   3652\u001b[0m     \u001b[0;32mif\u001b[0m \u001b[0mdata_format\u001b[0m \u001b[0;34m==\u001b[0m \u001b[0;34m'channels_first'\u001b[0m \u001b[0;32mand\u001b[0m \u001b[0mtf_data_format\u001b[0m \u001b[0;34m==\u001b[0m \u001b[0;34m'NHWC'\u001b[0m\u001b[0;34m:\u001b[0m\u001b[0;34m\u001b[0m\u001b[0m\n",
      "\u001b[0;32m/home/carnd/anaconda3/lib/python3.5/site-packages/tensorflow/python/ops/nn_ops.py\u001b[0m in \u001b[0;36mconvolution\u001b[0;34m(input, filter, padding, strides, dilation_rate, name, data_format)\u001b[0m\n\u001b[1;32m    777\u001b[0m         \u001b[0mdilation_rate\u001b[0m\u001b[0;34m=\u001b[0m\u001b[0mdilation_rate\u001b[0m\u001b[0;34m,\u001b[0m\u001b[0;34m\u001b[0m\u001b[0m\n\u001b[1;32m    778\u001b[0m         \u001b[0mname\u001b[0m\u001b[0;34m=\u001b[0m\u001b[0mname\u001b[0m\u001b[0;34m,\u001b[0m\u001b[0;34m\u001b[0m\u001b[0m\n\u001b[0;32m--> 779\u001b[0;31m         data_format=data_format)\n\u001b[0m\u001b[1;32m    780\u001b[0m     \u001b[0;32mreturn\u001b[0m \u001b[0mop\u001b[0m\u001b[0;34m(\u001b[0m\u001b[0minput\u001b[0m\u001b[0;34m,\u001b[0m \u001b[0mfilter\u001b[0m\u001b[0;34m)\u001b[0m\u001b[0;34m\u001b[0m\u001b[0m\n\u001b[1;32m    781\u001b[0m \u001b[0;34m\u001b[0m\u001b[0m\n",
      "\u001b[0;32m/home/carnd/anaconda3/lib/python3.5/site-packages/tensorflow/python/ops/nn_ops.py\u001b[0m in \u001b[0;36m__init__\u001b[0;34m(self, input_shape, filter_shape, padding, strides, dilation_rate, name, data_format)\u001b[0m\n\u001b[1;32m    826\u001b[0m \u001b[0;34m\u001b[0m\u001b[0m\n\u001b[1;32m    827\u001b[0m     \u001b[0;32mif\u001b[0m \u001b[0mdata_format\u001b[0m \u001b[0;32mis\u001b[0m \u001b[0;32mNone\u001b[0m \u001b[0;32mor\u001b[0m \u001b[0;32mnot\u001b[0m \u001b[0mdata_format\u001b[0m\u001b[0;34m.\u001b[0m\u001b[0mstartswith\u001b[0m\u001b[0;34m(\u001b[0m\u001b[0;34m\"NC\"\u001b[0m\u001b[0;34m)\u001b[0m\u001b[0;34m:\u001b[0m\u001b[0;34m\u001b[0m\u001b[0m\n\u001b[0;32m--> 828\u001b[0;31m       \u001b[0minput_channels_dim\u001b[0m \u001b[0;34m=\u001b[0m \u001b[0minput_shape\u001b[0m\u001b[0;34m[\u001b[0m\u001b[0mnum_spatial_dims\u001b[0m \u001b[0;34m+\u001b[0m \u001b[0;36m1\u001b[0m\u001b[0;34m]\u001b[0m\u001b[0;34m\u001b[0m\u001b[0m\n\u001b[0m\u001b[1;32m    829\u001b[0m       \u001b[0mspatial_dims\u001b[0m \u001b[0;34m=\u001b[0m \u001b[0mrange\u001b[0m\u001b[0;34m(\u001b[0m\u001b[0;36m1\u001b[0m\u001b[0;34m,\u001b[0m \u001b[0mnum_spatial_dims\u001b[0m \u001b[0;34m+\u001b[0m \u001b[0;36m1\u001b[0m\u001b[0;34m)\u001b[0m\u001b[0;34m\u001b[0m\u001b[0m\n\u001b[1;32m    830\u001b[0m     \u001b[0;32melse\u001b[0m\u001b[0;34m:\u001b[0m\u001b[0;34m\u001b[0m\u001b[0m\n",
      "\u001b[0;32m/home/carnd/anaconda3/lib/python3.5/site-packages/tensorflow/python/framework/tensor_shape.py\u001b[0m in \u001b[0;36m__getitem__\u001b[0;34m(self, key)\u001b[0m\n\u001b[1;32m    614\u001b[0m         \u001b[0;32mreturn\u001b[0m \u001b[0mTensorShape\u001b[0m\u001b[0;34m(\u001b[0m\u001b[0mself\u001b[0m\u001b[0;34m.\u001b[0m\u001b[0m_dims\u001b[0m\u001b[0;34m[\u001b[0m\u001b[0mkey\u001b[0m\u001b[0;34m]\u001b[0m\u001b[0;34m)\u001b[0m\u001b[0;34m\u001b[0m\u001b[0m\n\u001b[1;32m    615\u001b[0m       \u001b[0;32melse\u001b[0m\u001b[0;34m:\u001b[0m\u001b[0;34m\u001b[0m\u001b[0m\n\u001b[0;32m--> 616\u001b[0;31m         \u001b[0;32mreturn\u001b[0m \u001b[0mself\u001b[0m\u001b[0;34m.\u001b[0m\u001b[0m_dims\u001b[0m\u001b[0;34m[\u001b[0m\u001b[0mkey\u001b[0m\u001b[0;34m]\u001b[0m\u001b[0;34m\u001b[0m\u001b[0m\n\u001b[0m\u001b[1;32m    617\u001b[0m     \u001b[0;32melse\u001b[0m\u001b[0;34m:\u001b[0m\u001b[0;34m\u001b[0m\u001b[0m\n\u001b[1;32m    618\u001b[0m       \u001b[0;32mif\u001b[0m \u001b[0misinstance\u001b[0m\u001b[0;34m(\u001b[0m\u001b[0mkey\u001b[0m\u001b[0;34m,\u001b[0m \u001b[0mslice\u001b[0m\u001b[0;34m)\u001b[0m\u001b[0;34m:\u001b[0m\u001b[0;34m\u001b[0m\u001b[0m\n",
      "\u001b[0;31mIndexError\u001b[0m: list index out of range"
     ]
    }
   ],
   "source": [
    "### Modified\n",
    "\n",
    "from keras.applications.vgg16 import VGG16\n",
    "from keras.preprocessing import image\n",
    "from keras.applications.vgg16 import preprocess_input\n",
    "from keras.layers import Input, Flatten, Dense\n",
    "from keras.models import Model\n",
    "from keras.optimizers import SGD\n",
    "\n",
    "import numpy as np\n",
    "\n",
    "#Get back the convolutional part of a VGG network trained on ImageNet\n",
    "model_vgg16_conv = VGG16(\n",
    "                        weights='imagenet',\n",
    "                        include_top=False,\n",
    "                        )\n",
    "model_vgg16_conv.summary()\n",
    "\n",
    "#Create your own input format (here 224x224x3)\n",
    "input = Input(shape=(224,224,3),name = 'image_input')\n",
    "\n",
    "# makes the layers non-trainable\n",
    "for layer in model_vgg16_conv.layers:\n",
    "    layer.trainable=False\n",
    "    \n",
    "#Use the generated model \n",
    "output_vgg16_conv = model_vgg16_conv(input)\n",
    "    \n",
    "#Add the fully-connected layers \n",
    "x = Flatten(name='flatten')(output_vgg16_conv)\n",
    "# x = Dense(4096, activation='relu', name='fc1')(x)\n",
    "# x = Dense(4096, activation='relu', name='fc2')(x)\n",
    "x = Dense(10, activation='softmax', name='predictions')(x) # here the 2 indicates binary (3 or more is multiclass)\n",
    "\n",
    "#Create your own model \n",
    "my_model = Model(input=input, output=x)\n",
    "\n",
    "#In the summary, weights and layers from VGG part will be hidden, but they will be fit during the training\n",
    "my_model.summary()"
   ]
  },
  {
   "cell_type": "code",
   "execution_count": 15,
   "metadata": {
    "collapsed": false
   },
   "outputs": [],
   "source": [
    "from keras import models, layers\n",
    "\n",
    "model=models.Sequential()\n",
    "model.add(layers.Conv2D(32, (5, 5), strides=(2, 2), activation='relu', input_shape=(224, 224,1))) \n",
    "model.add(layers.MaxPooling2D((2, 2)))\n",
    "model.add(layers.Conv2D(64, (3, 3), activation='relu')) \n",
    "model.add(layers.MaxPooling2D((2, 2)))\n",
    "model.add(layers.Conv2D(64, (3, 3), activation='relu'))\n",
    "model.add(layers.MaxPooling2D((2, 2)))\n",
    "model.add(layers.Flatten())\n",
    "model.add(layers.Dense(128, activation='relu'))\n",
    "model.add(layers.Dense(10, activation='softmax'))"
   ]
  },
  {
   "cell_type": "code",
   "execution_count": 16,
   "metadata": {
    "collapsed": false
   },
   "outputs": [],
   "source": [
    "model.compile(optimizer='rmsprop', loss='categorical_crossentropy', metrics=['accuracy'])"
   ]
  },
  {
   "cell_type": "code",
   "execution_count": 22,
   "metadata": {
    "collapsed": false
   },
   "outputs": [
    {
     "name": "stdout",
     "output_type": "stream",
     "text": [
      "Train on 16000 samples, validate on 2000 samples\n",
      "Epoch 1/5\n",
      "16000/16000 [==============================] - 164s 10ms/step - loss: 0.0265 - acc: 0.9934 - val_loss: 3.5357e-04 - val_acc: 1.0000\n",
      "Epoch 2/5\n",
      "16000/16000 [==============================] - 162s 10ms/step - loss: 0.0144 - acc: 0.9974 - val_loss: 1.4116e-04 - val_acc: 1.0000\n",
      "Epoch 3/5\n",
      "16000/16000 [==============================] - 163s 10ms/step - loss: 0.0110 - acc: 0.9981 - val_loss: 7.1928e-05 - val_acc: 1.0000\n",
      "Epoch 4/5\n",
      "16000/16000 [==============================] - 162s 10ms/step - loss: 0.0050 - acc: 0.9989 - val_loss: 0.0027 - val_acc: 0.9990\n",
      "Epoch 5/5\n",
      "16000/16000 [==============================] - 163s 10ms/step - loss: 0.0049 - acc: 0.9995 - val_loss: 0.0019 - val_acc: 0.9995\n"
     ]
    },
    {
     "data": {
      "text/plain": [
       "<keras.callbacks.History at 0x7faca021fe10>"
      ]
     },
     "execution_count": 22,
     "metadata": {},
     "output_type": "execute_result"
    }
   ],
   "source": [
    "model.fit(x_train, y_train, epochs=5, batch_size=64, verbose=1, validation_data=(x_validate, y_validate))"
   ]
  },
  {
   "cell_type": "code",
   "execution_count": null,
   "metadata": {
    "collapsed": true
   },
   "outputs": [],
   "source": [
    "model."
   ]
  },
  {
   "cell_type": "code",
   "execution_count": null,
   "metadata": {
    "collapsed": false,
    "scrolled": false
   },
   "outputs": [],
   "source": [
    "model.summary()"
   ]
  },
  {
   "cell_type": "code",
   "execution_count": 24,
   "metadata": {
    "collapsed": false
   },
   "outputs": [
    {
     "name": "stdout",
     "output_type": "stream",
     "text": [
      "2000/2000 [==============================] - 6s 3ms/step\n",
      "Accuracy:1.0\n"
     ]
    }
   ],
   "source": [
    "[loss, acc] = model.evaluate(x_test,y_test,verbose=1)\n",
    "print(\"Accuracy:\" + str(acc))"
   ]
  },
  {
   "cell_type": "code",
   "execution_count": null,
   "metadata": {
    "collapsed": true
   },
   "outputs": [],
   "source": [
    "model"
   ]
  },
  {
   "cell_type": "code",
   "execution_count": 23,
   "metadata": {
    "collapsed": false
   },
   "outputs": [],
   "source": [
    "model.save('my_model.h5')"
   ]
  },
  {
   "cell_type": "code",
   "execution_count": 21,
   "metadata": {
    "collapsed": false
   },
   "outputs": [
    {
     "name": "stdout",
     "output_type": "stream",
     "text": [
      "1 - EDA.ipynb  anaconda3  home\tmy_model.h5  test.py  x_data.pickle\n"
     ]
    }
   ],
   "source": [
    "!ls"
   ]
  },
  {
   "cell_type": "code",
   "execution_count": 3,
   "metadata": {
    "collapsed": true
   },
   "outputs": [],
   "source": [
    "!open ."
   ]
  },
  {
   "cell_type": "code",
   "execution_count": null,
   "metadata": {
    "collapsed": true
   },
   "outputs": [],
   "source": []
  },
  {
   "cell_type": "code",
   "execution_count": 12,
   "metadata": {
    "collapsed": false
   },
   "outputs": [
    {
     "name": "stderr",
     "output_type": "stream",
     "text": [
      "/home/carnd/anaconda3/lib/python3.5/site-packages/PIL/Image.py:841: ResourceWarning: unclosed file <_io.BufferedReader name='home/data/gestures_data/05/05_thumb/frame_05_05_0005.png'>\n",
      "  self.load()\n"
     ]
    },
    {
     "data": {
      "image/png": "[encoded data removed]",
      "text/plain": [
       "<PIL.Image.Image image mode=L size=224x224 at 0x7F55362FCA90>"
      ]
     },
     "execution_count": 12,
     "metadata": {},
     "output_type": "execute_result"
    }
   ],
   "source": [
    "img = Image.open('home/data/gestures_data/05/05_thumb/frame_05_05_0005.png').convert('L')\n",
    "                                # Read in and convert to greyscale\n",
    "img = img.resize((224, 224))\n",
    "img"
   ]
  },
  {
   "cell_type": "code",
   "execution_count": 8,
   "metadata": {
    "collapsed": false
   },
   "outputs": [
    {
     "name": "stdout",
     "output_type": "stream",
     "text": [
      "1 - EDA.ipynb\t     2.ipynb\thome\t     test.py\r\n",
      "1 - EDA (new).ipynb  anaconda3\tmy_model.h5  x_data.pickle\r\n"
     ]
    }
   ],
   "source": [
    "!ls"
   ]
  },
  {
   "cell_type": "code",
   "execution_count": null,
   "metadata": {
    "collapsed": false
   },
   "outputs": [],
   "source": [
    "from skimage.morphology import skeletonize\n",
    "from skimage import data\n",
    "import matplotlib.pyplot as plt\n",
    "from skimage.util import invert\n",
    "\n",
    "# Invert the horse image\n",
    "image = img\n",
    "\n",
    "# perform skeletonization\n",
    "skeleton = skeletonize(image)\n",
    "\n",
    "# display results\n",
    "fig, axes = plt.subplots(nrows=1, ncols=2, figsize=(8, 4),\n",
    "                         sharex=True, sharey=True)\n",
    "\n",
    "ax = axes.ravel()\n",
    "\n",
    "ax[0].imshow(image, cmap=plt.cm.gray)\n",
    "ax[0].axis('off')\n",
    "ax[0].set_title('original', fontsize=20)\n",
    "\n",
    "ax[1].imshow(skeleton, cmap=plt.cm.gray)\n",
    "ax[1].axis('off')\n",
    "ax[1].set_title('skeleton', fontsize=20)\n",
    "\n",
    "fig.tight_layout()\n",
    "plt.show()"
   ]
  },
  {
   "cell_type": "code",
   "execution_count": 42,
   "metadata": {
    "collapsed": false
   },
   "outputs": [],
   "source": [
    "from skimage.color import rgb2gray\n",
    "from skimage import feature\n",
    "\n",
    "def get_edges(path_to_image):\n",
    "    with open (path_to_image, 'rb') as img_rgb:\n",
    "        img_arr = np.array(Image.open(img_rgb), dtype=np.uint8)\n",
    "        img_gray = rgb2gray(img_arr)\n",
    "        edges1 = feature.canny(img_gray)\n",
    "        edges2 = feature.canny(img_gray, sigma=3)\n",
    "        plt.imshow(edges2)"
   ]
  },
  {
   "cell_type": "code",
   "execution_count": 50,
   "metadata": {
    "collapsed": false,
    "scrolled": true
   },
   "outputs": [
    {
     "data": {
      "image/png": "[encoded data removed]",
      "text/plain": [
       "<matplotlib.figure.Figure at 0x7fc6297b3470>"
      ]
     },
     "metadata": {},
     "output_type": "display_data"
    }
   ],
   "source": [
    "get_edges('home/data/gestures_data/05/09_c/frame_05_09_0001.png')"
   ]
  },
  {
   "cell_type": "code",
   "execution_count": 53,
   "metadata": {
    "collapsed": false
   },
   "outputs": [
    {
     "data": {
      "image/png": "[encoded data removed]",
      "text/plain": [
       "<matplotlib.figure.Figure at 0x7fc62947e0b8>"
      ]
     },
     "metadata": {},
     "output_type": "display_data"
    }
   ],
   "source": [
    "get_edges('home/data/gestures_data/04/09_c/frame_04_09_0002.png')"
   ]
  },
  {
   "cell_type": "code",
   "execution_count": 43,
   "metadata": {
    "collapsed": false
   },
   "outputs": [
    {
     "data": {
      "image/png": "[encoded data removed]",
      "text/plain": [
       "<matplotlib.figure.Figure at 0x7fc6296c10f0>"
      ]
     },
     "metadata": {},
     "output_type": "display_data"
    }
   ],
   "source": [
    "get_edges('images_to_predict/black_background.jpg')"
   ]
  },
  {
   "cell_type": "code",
   "execution_count": 47,
   "metadata": {
    "collapsed": false
   },
   "outputs": [
    {
     "data": {
      "image/png": "[encoded data removed]",
      "text/plain": [
       "<matplotlib.figure.Figure at 0x7fc6295cc048>"
      ]
     },
     "metadata": {},
     "output_type": "display_data"
    }
   ],
   "source": [
    "get_edges('images_to_predict/C.jpg')"
   ]
  },
  {
   "cell_type": "code",
   "execution_count": 35,
   "metadata": {
    "collapsed": false
   },
   "outputs": [
    {
     "name": "stdout",
     "output_type": "stream",
     "text": [
      "1 - EDA.ipynb\t     2.ipynb\thome\t\t   my_model.h5\tx_data.pickle\r\n",
      "1 - EDA (new).ipynb  anaconda3\timages_to_predict  test.py\r\n"
     ]
    }
   ],
   "source": [
    "!ls"
   ]
  },
  {
   "cell_type": "code",
   "execution_count": 65,
   "metadata": {
    "collapsed": false
   },
   "outputs": [],
   "source": [
    "import matplotlib.pyplot as plt\n",
    "\n",
    "from skimage import data\n",
    "from skimage.filters import threshold_otsu, threshold_adaptive\n",
    "\n",
    "def get_thresh(path_to_image):\n",
    "    with open (path_to_image, 'rb') as image:\n",
    "\n",
    "        global_thresh = threshold_otsu(image)\n",
    "        binary_global = image > global_thresh\n",
    "\n",
    "        block_size = 35\n",
    "        binary_adaptive = threshold_adaptive(image, block_size, offset=10)\n",
    "\n",
    "        fig, axes = plt.subplots(nrows=3, figsize=(7, 8))\n",
    "        ax0, ax1, ax2 = axes\n",
    "        plt.gray()\n",
    "\n",
    "        ax0.imshow(image)\n",
    "        ax0.set_title('Image')\n",
    "\n",
    "        ax1.imshow(binary_global)\n",
    "        ax1.set_title('Global thresholding')\n",
    "\n",
    "        ax2.imshow(binary_adaptive)\n",
    "        ax2.set_title('Adaptive thresholding')\n",
    "\n",
    "        for ax in axes:\n",
    "            ax.axis('off')\n",
    "\n",
    "        plt.show()"
   ]
  },
  {
   "cell_type": "code",
   "execution_count": 67,
   "metadata": {
    "collapsed": false
   },
   "outputs": [
    {
     "ename": "AttributeError",
     "evalue": "'_io.BufferedReader' object has no attribute 'shape'",
     "output_type": "error",
     "traceback": [
      "\u001b[0;31m---------------------------------------------------------------------------\u001b[0m",
      "\u001b[0;31mAttributeError\u001b[0m                            Traceback (most recent call last)",
      "\u001b[0;32m<ipython-input-67-f67e469a0c57>\u001b[0m in \u001b[0;36m<module>\u001b[0;34m()\u001b[0m\n\u001b[0;32m----> 1\u001b[0;31m \u001b[0mget_thresh\u001b[0m\u001b[0;34m(\u001b[0m\u001b[0;34m'images_to_predict/frame_00_06_0014.png'\u001b[0m\u001b[0;34m)\u001b[0m\u001b[0;34m\u001b[0m\u001b[0m\n\u001b[0m",
      "\u001b[0;32m<ipython-input-65-8f7511f76f5e>\u001b[0m in \u001b[0;36mget_thresh\u001b[0;34m(path_to_image)\u001b[0m\n\u001b[1;32m      7\u001b[0m     \u001b[0;32mwith\u001b[0m \u001b[0mopen\u001b[0m \u001b[0;34m(\u001b[0m\u001b[0mpath_to_image\u001b[0m\u001b[0;34m,\u001b[0m \u001b[0;34m'rb'\u001b[0m\u001b[0;34m)\u001b[0m \u001b[0;32mas\u001b[0m \u001b[0mimage\u001b[0m\u001b[0;34m:\u001b[0m\u001b[0;34m\u001b[0m\u001b[0m\n\u001b[1;32m      8\u001b[0m \u001b[0;34m\u001b[0m\u001b[0m\n\u001b[0;32m----> 9\u001b[0;31m         \u001b[0mglobal_thresh\u001b[0m \u001b[0;34m=\u001b[0m \u001b[0mthreshold_otsu\u001b[0m\u001b[0;34m(\u001b[0m\u001b[0mimage\u001b[0m\u001b[0;34m)\u001b[0m\u001b[0;34m\u001b[0m\u001b[0m\n\u001b[0m\u001b[1;32m     10\u001b[0m         \u001b[0mbinary_global\u001b[0m \u001b[0;34m=\u001b[0m \u001b[0mimage\u001b[0m \u001b[0;34m>\u001b[0m \u001b[0mglobal_thresh\u001b[0m\u001b[0;34m\u001b[0m\u001b[0m\n\u001b[1;32m     11\u001b[0m \u001b[0;34m\u001b[0m\u001b[0m\n",
      "\u001b[0;32m/home/carnd/anaconda3/envs/dl/lib/python3.5/site-packages/skimage/filters/thresholding.py\u001b[0m in \u001b[0;36mthreshold_otsu\u001b[0;34m(image, nbins)\u001b[0m\n\u001b[1;32m    127\u001b[0m     \u001b[0mThe\u001b[0m \u001b[0minput\u001b[0m \u001b[0mimage\u001b[0m \u001b[0mmust\u001b[0m \u001b[0mbe\u001b[0m \u001b[0mgrayscale\u001b[0m\u001b[0;34m.\u001b[0m\u001b[0;34m\u001b[0m\u001b[0m\n\u001b[1;32m    128\u001b[0m     \"\"\"\n\u001b[0;32m--> 129\u001b[0;31m     \u001b[0;32mif\u001b[0m \u001b[0mimage\u001b[0m\u001b[0;34m.\u001b[0m\u001b[0mshape\u001b[0m\u001b[0;34m[\u001b[0m\u001b[0;34m-\u001b[0m\u001b[0;36m1\u001b[0m\u001b[0;34m]\u001b[0m \u001b[0;32min\u001b[0m \u001b[0;34m(\u001b[0m\u001b[0;36m3\u001b[0m\u001b[0;34m,\u001b[0m \u001b[0;36m4\u001b[0m\u001b[0;34m)\u001b[0m\u001b[0;34m:\u001b[0m\u001b[0;34m\u001b[0m\u001b[0m\n\u001b[0m\u001b[1;32m    130\u001b[0m         \u001b[0mmsg\u001b[0m \u001b[0;34m=\u001b[0m \u001b[0;34m\"threshold_otsu is expected to work correctly only for \"\u001b[0m\u001b[0;31m \u001b[0m\u001b[0;31m\\\u001b[0m\u001b[0;34m\u001b[0m\u001b[0m\n\u001b[1;32m    131\u001b[0m               \u001b[0;34m\"grayscale images; image shape {0} looks like an RGB image\"\u001b[0m\u001b[0;34m\u001b[0m\u001b[0m\n",
      "\u001b[0;31mAttributeError\u001b[0m: '_io.BufferedReader' object has no attribute 'shape'"
     ]
    }
   ],
   "source": [
    "get_thresh('images_to_predict/frame_00_06_0014.png')"
   ]
  },
  {
   "cell_type": "code",
   "execution_count": null,
   "metadata": {
    "collapsed": true
   },
   "outputs": [],
   "source": []
  }
 ],
 "metadata": {
  "anaconda-cloud": {},
  "kernelspec": {
   "display_name": "Python [conda env:dl]",
   "language": "python",
   "name": "conda-env-dl-py"
  },
  "language_info": {
   "codemirror_mode": {
    "name": "ipython",
    "version": 3
   },
   "file_extension": ".py",
   "mimetype": "text/x-python",
   "name": "python",
   "nbconvert_exporter": "python",
   "pygments_lexer": "ipython3",
   "version": "3.5.2"
  },
  "toc-autonumbering": false,
  "toc-showcode": true,
  "toc-showmarkdowntxt": true,
  "varInspector": {
   "cols": {
    "lenName": 16,
    "lenType": 16,
    "lenVar": 40
   },
   "kernels_config": {
    "python": {
     "delete_cmd_postfix": "",
     "delete_cmd_prefix": "del ",
     "library": "var_list.py",
     "varRefreshCmd": "print(var_dic_list())"
    },
    "r": {
     "delete_cmd_postfix": ") ",
     "delete_cmd_prefix": "rm(",
     "library": "var_list.r",
     "varRefreshCmd": "cat(var_dic_list()) "
    }
   },
   "types_to_exclude": [
    "module",
    "function",
    "builtin_function_or_method",
    "instance",
    "_Feature"
   ],
   "window_display": false
  }
 },
 "nbformat": 4,
 "nbformat_minor": 2
}
