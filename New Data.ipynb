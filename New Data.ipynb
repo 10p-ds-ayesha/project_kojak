{
 "cells": [
  {
   "cell_type": "code",
   "execution_count": 1,
   "metadata": {},
   "outputs": [
    {
     "name": "stderr",
     "output_type": "stream",
     "text": [
      "Using TensorFlow backend.\n"
     ]
    }
   ],
   "source": [
    "import pandas as pd\n",
    "import numpy as np\n",
    "\n",
    "import matplotlib.style as style\n",
    "style.use('seaborn-whitegrid')\n",
    "\n",
    "import os\n",
    "\n",
    "from sklearn.model_selection import train_test_split\n",
    "from sklearn.metrics import classification_report, confusion_matrix\n",
    "\n",
    "import tensorflow as tf\n",
    "import keras\n",
    "from keras import models, layers\n",
    "from keras.models import Sequential\n",
    "from keras.layers import Dense, Conv2D, MaxPooling2D, Flatten, Dropout\n",
    "from keras.applications import VGG16\n",
    "from keras.optimizers import SGD\n",
    "from keras.preprocessing import image as image_utils\n",
    "from keras.utils import to_categorical\n",
    "from PIL import Image\n",
    "from keras.preprocessing.image import ImageDataGenerator\n",
    "import Augmentor\n",
    "\n",
    "import warnings\n",
    "warnings.filterwarnings(action='ignore')"
   ]
  },
  {
   "cell_type": "code",
   "execution_count": 3,
   "metadata": {},
   "outputs": [],
   "source": [
    "gestures = {'L_': 'L',\n",
    "           'fi': 'Fist',\n",
    "           'C_': 'C',\n",
    "           'ok': 'Okay',\n",
    "           'pe': 'Peace',\n",
    "           'pa': 'Palm'\n",
    "            }\n",
    "\n",
    "gestures_map = {'Fist' : 0,\n",
    "                'L': 1,\n",
    "                'Okay': 2,\n",
    "                'Palm': 3,\n",
    "                'Peace': 4\n",
    "                }"
   ]
  },
  {
   "cell_type": "markdown",
   "metadata": {},
   "source": [
    "#### Drawing data"
   ]
  },
  {
   "cell_type": "code",
   "execution_count": 72,
   "metadata": {},
   "outputs": [],
   "source": [
    "X_data = []\n",
    "y_data = []\n",
    "image_path = []\n",
    "gesture = []\n",
    "image_rgb = []\n",
    "\n",
    "directory = os.fsencode('/home/ubuntu/project_kojak/frames/drawings/drawings/')\n",
    "\n",
    "for file in os.listdir(directory):\n",
    "    filename = os.fsdecode(file)\n",
    "    if filename.endswith(\".jpg\") and (not filename.startswith(\"drawing_C_\")): \n",
    "        path = os.path.join('/home/ubuntu/project_kojak/frames/drawings/drawings/', filename)\n",
    "        gesture_name = gestures[filename[8:10]]\n",
    "        \n",
    "        gesture.append(gesture_name)\n",
    "        y_data.append(gestures_map[gesture_name])\n",
    "        image_path.append(path)\n",
    "\n",
    "        \n",
    "        img = Image.open(path).convert('L')\n",
    "        img = img.resize((224, 224))\n",
    "        arr = np.array(img)\n",
    "        X_data.append(arr)\n",
    "        \n",
    "#         img2rgb = image_utils.load_img(path=path, target_size=(224, 224))\n",
    "#         img2rgb = image_utils.img_to_array(img2rgb)\n",
    "#         image_rgb.append(img2rgb)\n",
    "\n",
    "        img2rgb = Image.open(path)\n",
    "        img2rgb = img2rgb.resize((224, 224))\n",
    "        img2rgb = np.array(img2rgb)\n",
    "        image_rgb.append(img2rgb)\n",
    "\n",
    "        \n",
    "\n",
    "\n",
    "#         y_values = np.full((count, 1), lookup[j]) \n",
    "#         y_data.append(y_values)\n",
    "\n",
    "    else:\n",
    "        continue\n",
    "        \n",
    "image_rgb = np.array(image_rgb, dtype = 'float32')\n",
    "# x_data = np.array(x_data, dtype=np.uint8)\n",
    "image_rgb = image_rgb.reshape((len(image_rgb), 224, 224, 3))\n",
    "image_rgb /= 255\n",
    "\n",
    "y_data = np.array(y_data)\n",
    "y_data = to_categorical(y_data)"
   ]
  },
  {
   "cell_type": "markdown",
   "metadata": {},
   "source": [
    "### Sign Language Data"
   ]
  },
  {
   "cell_type": "code",
   "execution_count": null,
   "metadata": {},
   "outputs": [],
   "source": [
    "X_data = []\n",
    "y_data = []\n",
    "image_path = []\n",
    "letters = []\n",
    "image_rgb = []\n",
    "\n",
    "count = 0\n",
    "\n",
    "directory = os.fsencode('/home/ubuntu/asl_alphabet')\n",
    "file_list = []\n",
    "\n",
    "for folder in os.listdir('/home/ubuntu/asl_alphabet'):\n",
    "    if not folder.startswith('.'):\n",
    "        for filename in os.listdir('/home/ubuntu/asl_alphabet/' + str(folder)):\n",
    "            path = '/home/ubuntu/asl_alphabet/' + str(folder) + filename\n",
    "            count +=1\n",
    "            if count == 10:\n",
    "                break\n",
    "            \n",
    "                \n",
    "\n",
    "\n",
    "    \n",
    "#     filename = os.fsdecode(file)\n",
    "#     if filename.endswith(\".jpg\") and (not filename.startswith(\"drawing_C_\")): \n",
    "#         path = os.path.join('/home/ubuntu/project_kojak/frames/drawings/drawings/', filename)\n",
    "#         gesture_name = gestures[filename[8:10]]\n",
    "        \n",
    "#         gesture.append(gesture_name)\n",
    "#         y_data.append(gestures_map[gesture_name])\n",
    "#         image_path.append(path)\n",
    "\n",
    "        \n",
    "#         img = Image.open(path).convert('L')\n",
    "#         img = img.resize((224, 224))\n",
    "#         arr = np.array(img)\n",
    "#         X_data.append(arr)\n",
    "        \n",
    "# #         img2rgb = image_utils.load_img(path=path, target_size=(224, 224))\n",
    "# #         img2rgb = image_utils.img_to_array(img2rgb)\n",
    "# #         image_rgb.append(img2rgb)\n",
    "\n",
    "#         img2rgb = Image.open(path)\n",
    "#         img2rgb = img2rgb.resize((224, 224))\n",
    "#         img2rgb = np.array(img2rgb)\n",
    "#         image_rgb.append(img2rgb)\n",
    "\n",
    "        \n",
    "\n",
    "\n",
    "# #         y_values = np.full((count, 1), lookup[j]) \n",
    "# #         y_data.append(y_values)\n",
    "\n",
    "#     else:\n",
    "#         continue\n",
    "        \n",
    "# image_rgb = np.array(image_rgb, dtype = 'float32')\n",
    "# # x_data = np.array(x_data, dtype=np.uint8)\n",
    "# image_rgb = image_rgb.reshape((len(image_rgb), 224, 224, 3))\n",
    "# image_rgb /= 255\n",
    "\n",
    "# y_data = np.array(y_data)\n",
    "# y_data = to_categorical(y_data)"
   ]
  },
  {
   "cell_type": "code",
   "execution_count": 24,
   "metadata": {},
   "outputs": [
    {
     "data": {
      "text/plain": [
       "41"
      ]
     },
     "execution_count": 24,
     "metadata": {},
     "output_type": "execute_result"
    }
   ],
   "source": [
    "len(letters)"
   ]
  },
  {
   "cell_type": "code",
   "execution_count": 86,
   "metadata": {},
   "outputs": [
    {
     "data": {
      "text/plain": [
       "<matplotlib.image.AxesImage at 0x7ff2bd6ae128>"
      ]
     },
     "execution_count": 86,
     "metadata": {},
     "output_type": "execute_result"
    },
    {
     "data": {
      "image/png": "[encoded data removed]",
      "text/plain": [
       "<Figure size 432x288 with 1 Axes>"
      ]
     },
     "metadata": {},
     "output_type": "display_data"
    }
   ],
   "source": [
    "import matplotlib.pyplot as plt\n",
    "plt.imshow(img2rgb)"
   ]
  },
  {
   "cell_type": "code",
   "execution_count": 100,
   "metadata": {},
   "outputs": [
    {
     "data": {
      "text/plain": [
       "<matplotlib.image.AxesImage at 0x7ff2bd19d320>"
      ]
     },
     "execution_count": 100,
     "metadata": {},
     "output_type": "execute_result"
    },
    {
     "data": {
      "image/png": "[encoded data removed]",
      "text/plain": [
       "<Figure size 432x288 with 1 Axes>"
      ]
     },
     "metadata": {},
     "output_type": "display_data"
    }
   ],
   "source": [
    "plt.imshow(image_rgb[330])"
   ]
  },
  {
   "cell_type": "markdown",
   "metadata": {},
   "source": [
    "#### Silhouettes data"
   ]
  },
  {
   "cell_type": "code",
   "execution_count": 36,
   "metadata": {},
   "outputs": [],
   "source": [
    "X_data = []\n",
    "y_data = []\n",
    "image_path = []\n",
    "gesture = []\n",
    "image_rgb = []\n",
    "\n",
    "directory = os.fsencode('/home/ubuntu/project_kojak/frames/silhouettes/')\n",
    "\n",
    "for file in os.listdir(directory):\n",
    "    filename = os.fsdecode(file)\n",
    "    if filename.endswith(\".jpg\") and (not filename.startswith(\"C_\")): \n",
    "        path = os.path.join('/home/ubuntu/project_kojak/frames/silhouettes/', filename)\n",
    "        gesture_name = gestures[filename[0:2]]\n",
    "        \n",
    "        gesture.append(gesture_name)\n",
    "        y_data.append(gestures_map[gesture_name])\n",
    "        image_path.append(path)\n",
    "\n",
    "        \n",
    "        img = Image.open(path).convert('L')\n",
    "        img = img.resize((224, 224))\n",
    "        arr = np.array(img)\n",
    "        X_data.append(arr)\n",
    "        \n",
    "        img2rgb = image_utils.load_img(path=path, target_size=(224, 224))\n",
    "        img2rgb = image_utils.img_to_array(img2rgb)\n",
    "        image_rgb.append(img2rgb)\n",
    "\n",
    "        \n",
    "\n",
    "\n",
    "#         y_values = np.full((count, 1), lookup[j]) \n",
    "#         y_data.append(y_values)\n",
    "\n",
    "    else:\n",
    "        continue\n",
    "        \n",
    "image_rgb = np.array(image_rgb, dtype = 'float32')\n",
    "# x_data = np.array(x_data, dtype=np.uint8)\n",
    "image_rgb = image_rgb.reshape((len(image_rgb), 224, 224, 3))\n",
    "image_rgb /= 255\n",
    "\n",
    "y_data = np.array(y_data)\n",
    "y_data = to_categorical(y_data)"
   ]
  },
  {
   "cell_type": "code",
   "execution_count": 74,
   "metadata": {},
   "outputs": [],
   "source": [
    "def process_data(x_data, y_data):\n",
    "    x_data = np.array(x_data, dtype = 'float32')\n",
    "    # x_data = np.array(x_data, dtype=np.uint8)\n",
    "    x_data = x_data.reshape((len(x_data), 224, 224, 1))\n",
    "    x_data /= 255\n",
    "    \n",
    "    y_data = np.array(y_data)\n",
    "    y_data = y_data.reshape(len(x_data), 1)\n",
    "    y_data = to_categorical(y_data)\n",
    "    return x_data, y_data\n",
    "\n",
    "def process_data_rgb(x_data, y_data):\n",
    "    x_data = np.array(x_data, dtype = 'float32')\n",
    "    # x_data = np.array(x_data, dtype=np.uint8)\n",
    "    x_data = x_data.reshape((len(x_data), 224, 224, 3))\n",
    "    x_data /= 255\n",
    "    \n",
    "    y_data = np.array(y_data)\n",
    "    y_data = to_categorical(y_data)\n",
    "    return x_data, y_data"
   ]
  },
  {
   "cell_type": "code",
   "execution_count": 40,
   "metadata": {},
   "outputs": [],
   "source": [
    "# Send the dictionaries to a dataframe to be saved for future use\n",
    "# d = {'image_path':image_path, 'gesture':gesture, 'image_rgb': image_rgb, 'image_bw_x': X_data, 'image_bw_y': y_data}\n",
    "d = {'image_path':image_path, 'gesture':gesture}\n",
    "df = pd.DataFrame(d)\n",
    "# df['gesture_num'] = df['gesture'].apply(lambda x: x[1:2])\n",
    "# df['gesture_name'] = df['gesture'].apply(lambda x: x[3:])\n",
    "\n",
    "# df.to_csv('silhouette_df.csv')\n",
    "# df = pd.read_csv('silhouette_df.csv')"
   ]
  },
  {
   "cell_type": "code",
   "execution_count": 120,
   "metadata": {},
   "outputs": [],
   "source": [
    "df['y'] = df['gesture'].map(gestures_map)"
   ]
  },
  {
   "cell_type": "code",
   "execution_count": 121,
   "metadata": {},
   "outputs": [
    {
     "data": {
      "text/plain": [
       "4    234\n",
       "2    214\n",
       "1    214\n",
       "5    170\n",
       "3    139\n",
       "Name: y, dtype: int64"
      ]
     },
     "execution_count": 121,
     "metadata": {},
     "output_type": "execute_result"
    }
   ],
   "source": [
    "df['y'].value_counts()"
   ]
  },
  {
   "cell_type": "code",
   "execution_count": 23,
   "metadata": {},
   "outputs": [],
   "source": [
    "# X_data, y_data = process_data(X_data, y_data)\n",
    "# image_rgb, y_data = process_data_rgb(image_rgb, y_data)"
   ]
  },
  {
   "cell_type": "markdown",
   "metadata": {},
   "source": [
    "#### Train-test split"
   ]
  },
  {
   "cell_type": "code",
   "execution_count": 78,
   "metadata": {},
   "outputs": [],
   "source": [
    "X_train_rgb, X_test_rgb, y_train_rgb, y_test_rgb = train_test_split(image_rgb, y_data, test_size = 0.2, random_state=12, stratify=y_data)"
   ]
  },
  {
   "cell_type": "markdown",
   "metadata": {},
   "source": [
    "#### Build the VGG Model"
   ]
  },
  {
   "cell_type": "code",
   "execution_count": 137,
   "metadata": {},
   "outputs": [
    {
     "name": "stdout",
     "output_type": "stream",
     "text": [
      "Epoch 1/150\n",
      "22/21 [===============================] - 15s 667ms/step - loss: 1.4742 - acc: 0.3888 - val_loss: 1.3467 - val_acc: 0.4692\n",
      "Epoch 2/150\n",
      "22/21 [===============================] - 14s 629ms/step - loss: 0.8989 - acc: 0.6489 - val_loss: 1.1522 - val_acc: 0.4418\n",
      "Epoch 3/150\n",
      "22/21 [===============================] - 14s 633ms/step - loss: 0.6596 - acc: 0.7500 - val_loss: 1.0727 - val_acc: 0.4623\n",
      "Epoch 4/150\n",
      "22/21 [===============================] - 14s 635ms/step - loss: 0.5180 - acc: 0.8305 - val_loss: 0.8008 - val_acc: 0.6986\n",
      "Epoch 5/150\n",
      "22/21 [===============================] - 14s 635ms/step - loss: 0.4114 - acc: 0.8424 - val_loss: 0.7803 - val_acc: 0.6712\n",
      "Epoch 6/150\n",
      "22/21 [===============================] - 14s 635ms/step - loss: 0.3268 - acc: 0.8846 - val_loss: 0.6239 - val_acc: 0.8185\n",
      "Epoch 7/150\n",
      "22/21 [===============================] - 14s 634ms/step - loss: 0.3599 - acc: 0.8813 - val_loss: 0.7074 - val_acc: 0.7158\n",
      "Epoch 8/150\n",
      "22/21 [===============================] - 14s 637ms/step - loss: 0.3275 - acc: 0.8949 - val_loss: 0.7028 - val_acc: 0.7192\n",
      "Epoch 9/150\n",
      "22/21 [===============================] - 14s 635ms/step - loss: 0.3324 - acc: 0.8865 - val_loss: 0.9483 - val_acc: 0.5890\n",
      "Epoch 10/150\n",
      "22/21 [===============================] - 14s 636ms/step - loss: 0.2796 - acc: 0.9223 - val_loss: 1.9281 - val_acc: 0.4281\n",
      "Epoch 11/150\n",
      "22/21 [===============================] - 14s 634ms/step - loss: 0.1902 - acc: 0.9355 - val_loss: 1.3819 - val_acc: 0.5479\n",
      "Epoch 12/150\n",
      "22/21 [===============================] - 14s 637ms/step - loss: 0.1817 - acc: 0.9409 - val_loss: 1.4044 - val_acc: 0.5274\n",
      "Epoch 13/150\n",
      "22/21 [===============================] - 14s 636ms/step - loss: 0.1882 - acc: 0.9421 - val_loss: 1.0839 - val_acc: 0.6027\n",
      "Epoch 14/150\n",
      "22/21 [===============================] - 14s 633ms/step - loss: 0.2514 - acc: 0.9177 - val_loss: 2.0097 - val_acc: 0.4897\n",
      "Epoch 15/150\n",
      "22/21 [===============================] - 14s 635ms/step - loss: 0.1739 - acc: 0.9382 - val_loss: 1.4737 - val_acc: 0.5719\n",
      "Epoch 16/150\n",
      "22/21 [===============================] - 14s 635ms/step - loss: 0.1632 - acc: 0.9464 - val_loss: 0.6485 - val_acc: 0.7774\n",
      "Epoch 17/150\n",
      "22/21 [===============================] - 14s 635ms/step - loss: 0.1386 - acc: 0.9533 - val_loss: 1.7010 - val_acc: 0.5548\n",
      "Epoch 18/150\n",
      "22/21 [===============================] - 14s 634ms/step - loss: 0.2253 - acc: 0.9243 - val_loss: 0.9503 - val_acc: 0.6336\n",
      "Epoch 19/150\n",
      "22/21 [===============================] - 14s 634ms/step - loss: 0.1766 - acc: 0.9478 - val_loss: 1.2379 - val_acc: 0.5959\n",
      "Epoch 20/150\n",
      "22/21 [===============================] - 14s 635ms/step - loss: 0.1929 - acc: 0.9445 - val_loss: 1.4678 - val_acc: 0.5822\n",
      "Epoch 21/150\n",
      "22/21 [===============================] - 14s 636ms/step - loss: 0.1843 - acc: 0.9462 - val_loss: 1.7346 - val_acc: 0.4829\n",
      "Epoch 22/150\n",
      "22/21 [===============================] - 14s 635ms/step - loss: 0.1419 - acc: 0.9530 - val_loss: 1.4180 - val_acc: 0.5890\n",
      "Epoch 23/150\n",
      "22/21 [===============================] - 14s 633ms/step - loss: 0.1794 - acc: 0.9544 - val_loss: 0.8352 - val_acc: 0.6712\n",
      "Epoch 24/150\n",
      "22/21 [===============================] - 14s 634ms/step - loss: 0.1400 - acc: 0.9587 - val_loss: 1.2220 - val_acc: 0.6027\n",
      "Epoch 25/150\n",
      "22/21 [===============================] - 14s 637ms/step - loss: 0.1054 - acc: 0.9651 - val_loss: 0.8502 - val_acc: 0.6884\n",
      "Epoch 26/150\n",
      "22/21 [===============================] - 14s 633ms/step - loss: 0.1352 - acc: 0.9589 - val_loss: 2.2760 - val_acc: 0.5000\n",
      "Epoch 27/150\n",
      "22/21 [===============================] - 14s 635ms/step - loss: 0.1240 - acc: 0.9653 - val_loss: 1.3265 - val_acc: 0.5411\n",
      "Epoch 28/150\n",
      "22/21 [===============================] - 14s 634ms/step - loss: 0.1128 - acc: 0.9704 - val_loss: 1.6809 - val_acc: 0.5651\n",
      "Epoch 29/150\n",
      "22/21 [===============================] - 14s 635ms/step - loss: 0.1425 - acc: 0.9551 - val_loss: 2.8571 - val_acc: 0.4623\n",
      "Epoch 30/150\n",
      "22/21 [===============================] - 14s 633ms/step - loss: 0.1434 - acc: 0.9506 - val_loss: 2.5460 - val_acc: 0.5137\n",
      "Epoch 31/150\n",
      "22/21 [===============================] - 14s 634ms/step - loss: 0.1081 - acc: 0.9584 - val_loss: 1.6697 - val_acc: 0.6130\n",
      "Epoch 32/150\n",
      "22/21 [===============================] - 14s 635ms/step - loss: 0.1429 - acc: 0.9546 - val_loss: 2.0167 - val_acc: 0.4897\n",
      "Epoch 33/150\n",
      "22/21 [===============================] - 14s 634ms/step - loss: 0.1143 - acc: 0.9662 - val_loss: 2.4062 - val_acc: 0.4486\n",
      "Epoch 34/150\n",
      "22/21 [===============================] - 14s 634ms/step - loss: 0.1134 - acc: 0.9657 - val_loss: 1.4442 - val_acc: 0.5240\n",
      "Epoch 35/150\n",
      "22/21 [===============================] - 14s 635ms/step - loss: 0.1384 - acc: 0.9641 - val_loss: 2.1495 - val_acc: 0.4486\n",
      "Epoch 36/150\n",
      "22/21 [===============================] - 14s 634ms/step - loss: 0.1081 - acc: 0.9655 - val_loss: 1.4000 - val_acc: 0.4966\n",
      "Epoch 37/150\n",
      "22/21 [===============================] - 14s 634ms/step - loss: 0.1061 - acc: 0.9673 - val_loss: 1.3191 - val_acc: 0.5137\n",
      "Epoch 38/150\n",
      "22/21 [===============================] - 14s 636ms/step - loss: 0.1136 - acc: 0.9630 - val_loss: 1.8108 - val_acc: 0.5411\n",
      "Epoch 39/150\n",
      "22/21 [===============================] - 14s 635ms/step - loss: 0.1129 - acc: 0.9615 - val_loss: 4.0083 - val_acc: 0.4110\n",
      "Epoch 40/150\n",
      "22/21 [===============================] - 14s 639ms/step - loss: 0.1023 - acc: 0.9659 - val_loss: 2.0959 - val_acc: 0.5342\n",
      "Epoch 41/150\n",
      "22/21 [===============================] - 14s 634ms/step - loss: 0.1038 - acc: 0.9697 - val_loss: 2.0268 - val_acc: 0.4829\n",
      "Epoch 42/150\n",
      "22/21 [===============================] - 14s 636ms/step - loss: 0.1026 - acc: 0.9691 - val_loss: 1.5906 - val_acc: 0.4863\n",
      "Epoch 43/150\n",
      "22/21 [===============================] - 14s 636ms/step - loss: 0.0989 - acc: 0.9754 - val_loss: 1.6227 - val_acc: 0.5514\n",
      "Epoch 44/150\n",
      "22/21 [===============================] - 14s 634ms/step - loss: 0.1063 - acc: 0.9687 - val_loss: 1.8286 - val_acc: 0.4658\n",
      "Epoch 45/150\n",
      "22/21 [===============================] - 14s 636ms/step - loss: 0.1208 - acc: 0.9590 - val_loss: 2.6310 - val_acc: 0.4315\n",
      "Epoch 46/150\n",
      "22/21 [===============================] - 14s 635ms/step - loss: 0.1115 - acc: 0.9693 - val_loss: 2.5834 - val_acc: 0.4452\n",
      "Epoch 47/150\n",
      "22/21 [===============================] - 14s 642ms/step - loss: 0.0920 - acc: 0.9695 - val_loss: 2.7152 - val_acc: 0.4452\n",
      "Epoch 48/150\n",
      "22/21 [===============================] - 14s 637ms/step - loss: 0.0718 - acc: 0.9744 - val_loss: 2.0977 - val_acc: 0.5000\n",
      "Epoch 49/150\n",
      "22/21 [===============================] - 14s 637ms/step - loss: 0.0837 - acc: 0.9781 - val_loss: 1.6595 - val_acc: 0.5411\n",
      "Epoch 50/150\n",
      "22/21 [===============================] - 14s 636ms/step - loss: 0.1050 - acc: 0.9655 - val_loss: 1.7131 - val_acc: 0.5616\n",
      "Epoch 51/150\n",
      "22/21 [===============================] - 14s 636ms/step - loss: 0.1229 - acc: 0.9647 - val_loss: 0.7547 - val_acc: 0.7260\n",
      "Epoch 52/150\n",
      "22/21 [===============================] - 14s 635ms/step - loss: 0.0788 - acc: 0.9715 - val_loss: 1.3303 - val_acc: 0.5959\n",
      "Epoch 53/150\n",
      "22/21 [===============================] - 14s 634ms/step - loss: 0.0508 - acc: 0.9865 - val_loss: 0.7580 - val_acc: 0.7123\n",
      "Epoch 54/150\n",
      "22/21 [===============================] - 14s 636ms/step - loss: 0.1037 - acc: 0.9684 - val_loss: 1.2044 - val_acc: 0.6199\n",
      "Epoch 55/150\n",
      "22/21 [===============================] - 14s 638ms/step - loss: 0.0798 - acc: 0.9725 - val_loss: 2.5364 - val_acc: 0.5137\n",
      "Epoch 56/150\n",
      "22/21 [===============================] - 14s 635ms/step - loss: 0.0713 - acc: 0.9782 - val_loss: 3.4708 - val_acc: 0.5068\n",
      "Epoch 57/150\n",
      "22/21 [===============================] - 14s 638ms/step - loss: 0.0630 - acc: 0.9838 - val_loss: 1.6799 - val_acc: 0.5788\n",
      "Epoch 58/150\n",
      "22/21 [===============================] - 14s 639ms/step - loss: 0.1073 - acc: 0.9677 - val_loss: 1.9059 - val_acc: 0.4863\n",
      "Epoch 59/150\n",
      "22/21 [===============================] - 14s 640ms/step - loss: 0.0932 - acc: 0.9700 - val_loss: 2.3005 - val_acc: 0.4863\n",
      "Epoch 60/150\n",
      "22/21 [===============================] - 14s 637ms/step - loss: 0.0947 - acc: 0.9711 - val_loss: 1.8695 - val_acc: 0.5137\n",
      "Epoch 61/150\n",
      "22/21 [===============================] - 14s 636ms/step - loss: 0.0851 - acc: 0.9685 - val_loss: 1.7565 - val_acc: 0.4966\n",
      "Epoch 62/150\n",
      "22/21 [===============================] - 14s 634ms/step - loss: 0.0553 - acc: 0.9782 - val_loss: 1.3557 - val_acc: 0.5925\n",
      "Epoch 63/150\n",
      "22/21 [===============================] - 14s 635ms/step - loss: 0.0794 - acc: 0.9782 - val_loss: 2.5470 - val_acc: 0.4897\n",
      "Epoch 64/150\n",
      "22/21 [===============================] - 14s 636ms/step - loss: 0.0929 - acc: 0.9716 - val_loss: 1.4493 - val_acc: 0.5377\n",
      "Epoch 65/150\n",
      "22/21 [===============================] - 14s 634ms/step - loss: 0.0744 - acc: 0.9752 - val_loss: 0.9937 - val_acc: 0.6130\n",
      "Epoch 66/150\n",
      "22/21 [===============================] - 14s 633ms/step - loss: 0.0606 - acc: 0.9792 - val_loss: 1.2260 - val_acc: 0.5925\n",
      "Epoch 67/150\n",
      "22/21 [===============================] - 14s 633ms/step - loss: 0.0503 - acc: 0.9839 - val_loss: 2.0339 - val_acc: 0.5308\n",
      "Epoch 68/150\n",
      "22/21 [===============================] - 14s 634ms/step - loss: 0.0617 - acc: 0.9801 - val_loss: 2.6335 - val_acc: 0.5103\n",
      "Epoch 69/150\n",
      "22/21 [===============================] - 14s 635ms/step - loss: 0.0665 - acc: 0.9774 - val_loss: 1.5429 - val_acc: 0.5993\n",
      "Epoch 70/150\n",
      "22/21 [===============================] - 14s 634ms/step - loss: 0.0789 - acc: 0.9789 - val_loss: 3.4824 - val_acc: 0.4384\n",
      "Epoch 71/150\n",
      "22/21 [===============================] - 14s 634ms/step - loss: 0.0736 - acc: 0.9815 - val_loss: 1.1259 - val_acc: 0.5822\n",
      "Epoch 72/150\n",
      "22/21 [===============================] - 14s 635ms/step - loss: 0.0895 - acc: 0.9723 - val_loss: 0.8682 - val_acc: 0.6507\n",
      "Epoch 73/150\n",
      "22/21 [===============================] - 14s 633ms/step - loss: 0.0565 - acc: 0.9758 - val_loss: 2.2941 - val_acc: 0.4692\n",
      "Epoch 74/150\n",
      "22/21 [===============================] - 14s 636ms/step - loss: 0.0444 - acc: 0.9851 - val_loss: 3.3330 - val_acc: 0.4863\n",
      "Epoch 75/150\n",
      "22/21 [===============================] - 14s 635ms/step - loss: 0.0699 - acc: 0.9806 - val_loss: 2.5881 - val_acc: 0.4829\n",
      "Epoch 76/150\n",
      "22/21 [===============================] - 14s 633ms/step - loss: 0.0772 - acc: 0.9758 - val_loss: 2.2226 - val_acc: 0.4760\n",
      "Epoch 77/150\n",
      "22/21 [===============================] - 14s 634ms/step - loss: 0.1153 - acc: 0.9624 - val_loss: 0.7685 - val_acc: 0.6610\n",
      "Epoch 78/150\n",
      "22/21 [===============================] - 14s 635ms/step - loss: 0.0844 - acc: 0.9704 - val_loss: 1.8953 - val_acc: 0.5890\n",
      "Epoch 79/150\n",
      "22/21 [===============================] - 14s 634ms/step - loss: 0.0680 - acc: 0.9811 - val_loss: 3.1251 - val_acc: 0.4966\n",
      "Epoch 80/150\n",
      "22/21 [===============================] - 14s 634ms/step - loss: 0.0747 - acc: 0.9832 - val_loss: 1.4465 - val_acc: 0.5719\n",
      "Epoch 81/150\n",
      "22/21 [===============================] - 14s 635ms/step - loss: 0.0585 - acc: 0.9822 - val_loss: 1.8802 - val_acc: 0.5411\n",
      "Epoch 82/150\n",
      "22/21 [===============================] - 14s 634ms/step - loss: 0.0509 - acc: 0.9872 - val_loss: 1.5585 - val_acc: 0.5274\n",
      "Epoch 83/150\n",
      "22/21 [===============================] - 14s 637ms/step - loss: 0.0413 - acc: 0.9858 - val_loss: 1.7542 - val_acc: 0.5616\n",
      "Epoch 84/150\n",
      "22/21 [===============================] - 14s 634ms/step - loss: 0.0486 - acc: 0.9846 - val_loss: 1.6018 - val_acc: 0.5548\n",
      "Epoch 85/150\n",
      "22/21 [===============================] - 14s 637ms/step - loss: 0.0396 - acc: 0.9896 - val_loss: 3.8550 - val_acc: 0.4795\n",
      "Epoch 86/150\n",
      "22/21 [===============================] - 14s 635ms/step - loss: 0.0791 - acc: 0.9768 - val_loss: 2.4814 - val_acc: 0.4829\n",
      "Epoch 87/150\n",
      "22/21 [===============================] - 14s 636ms/step - loss: 0.0844 - acc: 0.9714 - val_loss: 1.2176 - val_acc: 0.5856\n",
      "Epoch 88/150\n",
      "22/21 [===============================] - 14s 634ms/step - loss: 0.0732 - acc: 0.9774 - val_loss: 1.7197 - val_acc: 0.5103\n",
      "Epoch 89/150\n",
      "22/21 [===============================] - 14s 637ms/step - loss: 0.0496 - acc: 0.9805 - val_loss: 2.3626 - val_acc: 0.5103\n",
      "Epoch 90/150\n",
      "22/21 [===============================] - 14s 637ms/step - loss: 0.0654 - acc: 0.9798 - val_loss: 3.8806 - val_acc: 0.4863\n",
      "Epoch 91/150\n",
      "22/21 [===============================] - 14s 636ms/step - loss: 0.0605 - acc: 0.9792 - val_loss: 1.6246 - val_acc: 0.5137\n",
      "Epoch 92/150\n",
      "22/21 [===============================] - 14s 638ms/step - loss: 0.0521 - acc: 0.9853 - val_loss: 1.6612 - val_acc: 0.5616\n",
      "Epoch 93/150\n",
      "22/21 [===============================] - 14s 637ms/step - loss: 0.0739 - acc: 0.9782 - val_loss: 3.4826 - val_acc: 0.4863\n",
      "Epoch 94/150\n",
      "22/21 [===============================] - 14s 638ms/step - loss: 0.0676 - acc: 0.9796 - val_loss: 2.1724 - val_acc: 0.4726\n",
      "Epoch 95/150\n",
      "22/21 [===============================] - 14s 636ms/step - loss: 0.0505 - acc: 0.9846 - val_loss: 2.3542 - val_acc: 0.4829\n",
      "Epoch 96/150\n",
      "22/21 [===============================] - 14s 637ms/step - loss: 0.0629 - acc: 0.9778 - val_loss: 2.7040 - val_acc: 0.5034\n",
      "Epoch 97/150\n",
      "22/21 [===============================] - 14s 640ms/step - loss: 0.0633 - acc: 0.9792 - val_loss: 2.8984 - val_acc: 0.4418\n",
      "Epoch 98/150\n",
      "22/21 [===============================] - 14s 636ms/step - loss: 0.0452 - acc: 0.9853 - val_loss: 2.0910 - val_acc: 0.5308\n",
      "Epoch 99/150\n",
      "22/21 [===============================] - 14s 634ms/step - loss: 0.0604 - acc: 0.9836 - val_loss: 2.3937 - val_acc: 0.5205\n",
      "Epoch 100/150\n",
      "22/21 [===============================] - 14s 634ms/step - loss: 0.0792 - acc: 0.9684 - val_loss: 4.1275 - val_acc: 0.5000\n",
      "Epoch 101/150\n",
      "22/21 [===============================] - 14s 633ms/step - loss: 0.0583 - acc: 0.9849 - val_loss: 2.2603 - val_acc: 0.5171\n",
      "Epoch 102/150\n",
      "22/21 [===============================] - 14s 635ms/step - loss: 0.0630 - acc: 0.9825 - val_loss: 4.5340 - val_acc: 0.3973\n",
      "Epoch 103/150\n",
      "22/21 [===============================] - 14s 637ms/step - loss: 0.0702 - acc: 0.9832 - val_loss: 2.9701 - val_acc: 0.4452\n",
      "Epoch 104/150\n",
      "22/21 [===============================] - 14s 634ms/step - loss: 0.0877 - acc: 0.9721 - val_loss: 1.4227 - val_acc: 0.5514\n",
      "Epoch 105/150\n",
      "22/21 [===============================] - 14s 633ms/step - loss: 0.0578 - acc: 0.9785 - val_loss: 1.8035 - val_acc: 0.5342\n",
      "Epoch 106/150\n",
      "22/21 [===============================] - 14s 632ms/step - loss: 0.0514 - acc: 0.9839 - val_loss: 3.1181 - val_acc: 0.4932\n",
      "Epoch 107/150\n",
      "22/21 [===============================] - 14s 632ms/step - loss: 0.0612 - acc: 0.9816 - val_loss: 3.9266 - val_acc: 0.4247\n",
      "Epoch 108/150\n",
      "22/21 [===============================] - 14s 636ms/step - loss: 0.0698 - acc: 0.9799 - val_loss: 2.2129 - val_acc: 0.4897\n",
      "Epoch 109/150\n",
      "22/21 [===============================] - 14s 633ms/step - loss: 0.0833 - acc: 0.9735 - val_loss: 2.6861 - val_acc: 0.4007\n",
      "Epoch 110/150\n",
      "22/21 [===============================] - 14s 632ms/step - loss: 0.0620 - acc: 0.9872 - val_loss: 2.6941 - val_acc: 0.5445\n",
      "Epoch 111/150\n",
      "22/21 [===============================] - 14s 635ms/step - loss: 0.0472 - acc: 0.9882 - val_loss: 5.6291 - val_acc: 0.4144\n",
      "Epoch 112/150\n",
      "22/21 [===============================] - 14s 633ms/step - loss: 0.0481 - acc: 0.9870 - val_loss: 2.4561 - val_acc: 0.5171\n",
      "Epoch 113/150\n",
      "22/21 [===============================] - 14s 633ms/step - loss: 0.0439 - acc: 0.9819 - val_loss: 2.3112 - val_acc: 0.5582\n",
      "Epoch 114/150\n",
      "22/21 [===============================] - 14s 635ms/step - loss: 0.0695 - acc: 0.9828 - val_loss: 2.0422 - val_acc: 0.6199\n",
      "Epoch 115/150\n",
      "22/21 [===============================] - 14s 634ms/step - loss: 0.0452 - acc: 0.9856 - val_loss: 2.8064 - val_acc: 0.5445\n",
      "Epoch 116/150\n",
      "22/21 [===============================] - 14s 638ms/step - loss: 0.0701 - acc: 0.9788 - val_loss: 3.0493 - val_acc: 0.4623\n",
      "Epoch 117/150\n",
      "22/21 [===============================] - 14s 640ms/step - loss: 0.0812 - acc: 0.9792 - val_loss: 5.4307 - val_acc: 0.3904\n",
      "Epoch 118/150\n",
      "22/21 [===============================] - 14s 636ms/step - loss: 0.0742 - acc: 0.9742 - val_loss: 1.9714 - val_acc: 0.4726\n",
      "Epoch 119/150\n",
      "22/21 [===============================] - 14s 634ms/step - loss: 0.0642 - acc: 0.9818 - val_loss: 2.2291 - val_acc: 0.6027\n",
      "Epoch 120/150\n",
      "22/21 [===============================] - 14s 632ms/step - loss: 0.0582 - acc: 0.9849 - val_loss: 2.9706 - val_acc: 0.4623\n",
      "Epoch 121/150\n",
      "22/21 [===============================] - 14s 633ms/step - loss: 0.0909 - acc: 0.9768 - val_loss: 2.5803 - val_acc: 0.5308\n",
      "Epoch 122/150\n",
      "22/21 [===============================] - 14s 633ms/step - loss: 0.0786 - acc: 0.9804 - val_loss: 1.2144 - val_acc: 0.5959\n",
      "Epoch 123/150\n",
      "22/21 [===============================] - 14s 635ms/step - loss: 0.0489 - acc: 0.9900 - val_loss: 1.7262 - val_acc: 0.5411\n",
      "Epoch 124/150\n",
      "22/21 [===============================] - 14s 635ms/step - loss: 0.0440 - acc: 0.9825 - val_loss: 1.8455 - val_acc: 0.5137\n",
      "Epoch 125/150\n",
      "22/21 [===============================] - 14s 633ms/step - loss: 0.0428 - acc: 0.9851 - val_loss: 3.4706 - val_acc: 0.4863\n",
      "Epoch 126/150\n",
      "22/21 [===============================] - 14s 634ms/step - loss: 0.0551 - acc: 0.9839 - val_loss: 1.1724 - val_acc: 0.6130\n",
      "Epoch 127/150\n",
      "22/21 [===============================] - 14s 634ms/step - loss: 0.0780 - acc: 0.9792 - val_loss: 2.0057 - val_acc: 0.5240\n",
      "Epoch 128/150\n",
      "22/21 [===============================] - 14s 634ms/step - loss: 0.0318 - acc: 0.9900 - val_loss: 2.3121 - val_acc: 0.4795\n",
      "Epoch 129/150\n",
      "22/21 [===============================] - 14s 637ms/step - loss: 0.1034 - acc: 0.9705 - val_loss: 1.4434 - val_acc: 0.5856\n",
      "Epoch 130/150\n",
      "22/21 [===============================] - 14s 636ms/step - loss: 0.0884 - acc: 0.9707 - val_loss: 1.8513 - val_acc: 0.5240\n",
      "Epoch 131/150\n",
      "22/21 [===============================] - 14s 634ms/step - loss: 0.0681 - acc: 0.9801 - val_loss: 1.9483 - val_acc: 0.5753\n",
      "Epoch 132/150\n",
      "22/21 [===============================] - 14s 633ms/step - loss: 0.0438 - acc: 0.9879 - val_loss: 2.5893 - val_acc: 0.4521\n",
      "Epoch 133/150\n",
      "22/21 [===============================] - 14s 635ms/step - loss: 0.0367 - acc: 0.9893 - val_loss: 3.0660 - val_acc: 0.4521\n",
      "Epoch 134/150\n",
      "22/21 [===============================] - 14s 637ms/step - loss: 0.0583 - acc: 0.9870 - val_loss: 4.7996 - val_acc: 0.3801\n",
      "Epoch 135/150\n",
      "22/21 [===============================] - 14s 634ms/step - loss: 0.0448 - acc: 0.9875 - val_loss: 2.2624 - val_acc: 0.5274\n",
      "Epoch 136/150\n",
      "22/21 [===============================] - 14s 633ms/step - loss: 0.0542 - acc: 0.9819 - val_loss: 2.2422 - val_acc: 0.5411\n",
      "Epoch 137/150\n",
      "22/21 [===============================] - 14s 633ms/step - loss: 0.0477 - acc: 0.9889 - val_loss: 1.2746 - val_acc: 0.6404\n",
      "Epoch 138/150\n",
      "22/21 [===============================] - 14s 634ms/step - loss: 0.0611 - acc: 0.9795 - val_loss: 1.5333 - val_acc: 0.5651\n",
      "Epoch 139/150\n",
      "22/21 [===============================] - 14s 633ms/step - loss: 0.0686 - acc: 0.9766 - val_loss: 3.5141 - val_acc: 0.3733\n",
      "Epoch 140/150\n",
      "22/21 [===============================] - 14s 634ms/step - loss: 0.0555 - acc: 0.9846 - val_loss: 1.6670 - val_acc: 0.5479\n",
      "Epoch 141/150\n",
      "22/21 [===============================] - 14s 633ms/step - loss: 0.0325 - acc: 0.9896 - val_loss: 3.4642 - val_acc: 0.4521\n",
      "Epoch 142/150\n",
      "22/21 [===============================] - 14s 634ms/step - loss: 0.0449 - acc: 0.9870 - val_loss: 2.6647 - val_acc: 0.4658\n",
      "Epoch 143/150\n",
      "22/21 [===============================] - 14s 633ms/step - loss: 0.0374 - acc: 0.9856 - val_loss: 1.4472 - val_acc: 0.5788\n",
      "Epoch 144/150\n",
      "22/21 [===============================] - 14s 633ms/step - loss: 0.0637 - acc: 0.9813 - val_loss: 2.2545 - val_acc: 0.5582\n",
      "Epoch 145/150\n",
      "22/21 [===============================] - 14s 632ms/step - loss: 0.0663 - acc: 0.9825 - val_loss: 2.4956 - val_acc: 0.5822\n",
      "Epoch 146/150\n",
      "22/21 [===============================] - 14s 638ms/step - loss: 0.0635 - acc: 0.9839 - val_loss: 2.2352 - val_acc: 0.5034\n",
      "Epoch 147/150\n",
      "22/21 [===============================] - 14s 633ms/step - loss: 0.0653 - acc: 0.9761 - val_loss: 1.8159 - val_acc: 0.4966\n",
      "Epoch 148/150\n",
      "22/21 [===============================] - 14s 633ms/step - loss: 0.0607 - acc: 0.9787 - val_loss: 1.5645 - val_acc: 0.5034\n",
      "Epoch 149/150\n",
      "22/21 [===============================] - 14s 634ms/step - loss: 0.0407 - acc: 0.9860 - val_loss: 1.9133 - val_acc: 0.4932\n",
      "Epoch 150/150\n",
      "22/21 [===============================] - 14s 634ms/step - loss: 0.0444 - acc: 0.9875 - val_loss: 1.9668 - val_acc: 0.5034\n"
     ]
    },
    {
     "data": {
      "text/plain": [
       "<keras.callbacks.History at 0x7f19893c7cf8>"
      ]
     },
     "execution_count": 137,
     "metadata": {},
     "output_type": "execute_result"
    }
   ],
   "source": [
    "# load VGG16\n",
    "#Get back the convolutional part of a VGG network trained on ImageNet\n",
    "import keras\n",
    "from keras import models, layers, optimizers\n",
    "from keras.layers import Dense, Dropout, Activation, Flatten, Conv2D, MaxPooling2D, Lambda, MaxPool2D, BatchNormalization\n",
    "from keras.models import Model\n",
    "imageSize=224\n",
    "model1 = VGG16(weights='imagenet', include_top=False, input_shape=(imageSize, imageSize, 3))\n",
    "optimizer1 = optimizers.Adam()\n",
    "\n",
    "# datagen = ImageDataGenerator(\n",
    "# featurewise_center=True,\n",
    "# featurewise_std_normalization=True,\n",
    "# rotation_range=45.,\n",
    "# width_shift_range=0.2,\n",
    "# height_shift_range=0.2,\n",
    "# horizontal_flip=True)\n",
    "\n",
    "base_model = model1 # Topless\n",
    "# Add top layer\n",
    "x = base_model.output\n",
    "x = Flatten()(x)\n",
    "x = Dense(128, activation='relu', name='fc1')(x)\n",
    "x = Dense(128, activation='relu', name='fc2')(x)\n",
    "x = Dense(128, activation='relu', name='fc3')(x)\n",
    "x = Dense(64, activation='relu', name='fc4')(x)\n",
    "#### Playing with other architectures\n",
    "#     x = Flatten() (x)\n",
    "#     x = Dense(64) (x)\n",
    "#     x = Activation('relu') (x)\n",
    "#     x = Dropout(0.5) (x)\n",
    "#     x = Dense(32) (x)\n",
    "#     x = Activation('relu') (x)\n",
    "#     x = Dropout(0.5) (x)\n",
    "####\n",
    "predictions = Dense(5, activation='softmax')(x)\n",
    "model = Model(inputs=base_model.input, outputs=predictions)\n",
    "\n",
    "# Train top layer\n",
    "for layer in base_model.layers:\n",
    "    layer.trainable = False\n",
    "\n",
    "# model.compile(loss='categorical_crossentropy', \n",
    "#       optimizer=optimizers.Adam(), \n",
    "#       metrics=['accuracy'])\n",
    "# callbacks_list = [keras.callbacks.EarlyStopping(monitor='val_acc', patience=3, verbose=1)]\n",
    "\n",
    "# datagen.fit(X_train_rgb)\n",
    "\n",
    "# # Fit model\n",
    "# model.fit_generator(datagen.flow(X_train_rgb, y_train_rgb, batch_size=64),\n",
    "#                 steps_per_epoch=len(X_train_rgb) / 64, epochs=8, validation_data=(X_test_rgb, y_test_rgb))\n",
    "# #class_weight=classweight,\n",
    "\n",
    "model.compile(optimizer='Adam', loss='categorical_crossentropy', metrics=['accuracy'])\n",
    "\n",
    "datagen = ImageDataGenerator(\n",
    "    featurewise_center=True,\n",
    "    featurewise_std_normalization=True,\n",
    "    rotation_range=15.,\n",
    "    width_shift_range=0.2,\n",
    "    height_shift_range=0.2,\n",
    "    horizontal_flip=True)\n",
    "\n",
    "# compute quantities required for featurewise normalization\n",
    "# (std, mean, and principal components if ZCA whitening is applied)\n",
    "datagen.fit(X_train_rgb)\n",
    "\n",
    "# fits the model on batches with real-time data augmentation:\n",
    "model.fit_generator(datagen.flow(X_train_rgb, y_train_rgb, batch_size=32),\n",
    "                    steps_per_epoch=len(X_train_rgb)/32, epochs=150, validation_data=(X_test_rgb, y_test_rgb))"
   ]
  },
  {
   "cell_type": "markdown",
   "metadata": {},
   "source": [
    "#### Save and import model"
   ]
  },
  {
   "cell_type": "code",
   "execution_count": 88,
   "metadata": {},
   "outputs": [],
   "source": [
    "# model.save('silhouette_VGG.h5')\n",
    "\n",
    "from keras.models import load_model\n",
    "model = load_model('/home/ubuntu/project_kojak/silhouette_VGG.h5')"
   ]
  },
  {
   "cell_type": "code",
   "execution_count": null,
   "metadata": {},
   "outputs": [],
   "source": [
    "X_test_rgb[0].shape"
   ]
  },
  {
   "cell_type": "code",
   "execution_count": 92,
   "metadata": {},
   "outputs": [
    {
     "data": {
      "text/plain": [
       "array([[2.5975669e-03, 6.8540269e-01, 8.0532441e-03, 4.6215006e-03,\n",
       "        2.7723959e-01, 2.2085395e-02],\n",
       "       [1.8037352e-04, 9.8982668e-01, 2.2430022e-04, 8.4401938e-05,\n",
       "        9.5383069e-03, 1.4591584e-04],\n",
       "       [2.7303877e-05, 6.1461215e-05, 4.7820024e-04, 7.3979894e-04,\n",
       "        4.0442785e-04, 9.9828881e-01],\n",
       "       ...,\n",
       "       [1.7109163e-04, 3.7865416e-04, 2.1471193e-03, 2.1336788e-02,\n",
       "        1.3310532e-02, 9.6265584e-01],\n",
       "       [4.4995941e-05, 1.9672023e-02, 3.9480557e-04, 1.5412706e-04,\n",
       "        9.7355169e-01, 6.1823567e-03],\n",
       "       [2.1220765e-05, 2.9467508e-05, 9.6603344e-06, 9.9880779e-01,\n",
       "        1.1285117e-03, 3.3434828e-06]], dtype=float32)"
      ]
     },
     "execution_count": 92,
     "metadata": {},
     "output_type": "execute_result"
    }
   ],
   "source": [
    "model.predict(X_test_rgb)"
   ]
  },
  {
   "cell_type": "code",
   "execution_count": 138,
   "metadata": {},
   "outputs": [],
   "source": [
    "pred = model.predict(X_test_rgb)\n",
    "pred = np.argmax(pred, axis=1)\n",
    "y_true = np.argmax(y_test_rgb, axis=1)"
   ]
  },
  {
   "cell_type": "code",
   "execution_count": 139,
   "metadata": {},
   "outputs": [
    {
     "name": "stdout",
     "output_type": "stream",
     "text": [
      "[[53  3  0  0  0]\n",
      " [ 0 77  0  0  0]\n",
      " [ 1 33  2  0  0]\n",
      " [33  5 13 12  0]\n",
      " [ 0 57  0  0  3]]\n",
      "\n",
      "\n",
      "             precision    recall  f1-score   support\n",
      "\n",
      "          0       0.61      0.95      0.74        56\n",
      "          1       0.44      1.00      0.61        77\n",
      "          2       0.13      0.06      0.08        36\n",
      "          3       1.00      0.19      0.32        63\n",
      "          4       1.00      0.05      0.10        60\n",
      "\n",
      "avg / total       0.67      0.50      0.40       292\n",
      "\n"
     ]
    }
   ],
   "source": [
    "print(confusion_matrix(y_true, pred))\n",
    "print('\\n')\n",
    "print(classification_report(y_true, pred))"
   ]
  },
  {
   "cell_type": "code",
   "execution_count": 50,
   "metadata": {},
   "outputs": [
    {
     "data": {
      "text/plain": [
       "array([[0., 1., 0., 0., 0., 0.],\n",
       "       [0., 1., 0., 0., 0., 0.],\n",
       "       [0., 0., 0., 0., 0., 1.],\n",
       "       ...,\n",
       "       [0., 0., 0., 0., 0., 1.],\n",
       "       [0., 0., 0., 0., 1., 0.],\n",
       "       [0., 0., 0., 1., 0., 0.]], dtype=float32)"
      ]
     },
     "execution_count": 50,
     "metadata": {},
     "output_type": "execute_result"
    }
   ],
   "source": [
    "y_test_rgb"
   ]
  },
  {
   "cell_type": "code",
   "execution_count": 54,
   "metadata": {},
   "outputs": [],
   "source": []
  },
  {
   "cell_type": "code",
   "execution_count": 55,
   "metadata": {},
   "outputs": [],
   "source": [
    "pred = np.argmax(model.predict(X_test_rgb), axis=1)"
   ]
  },
  {
   "cell_type": "code",
   "execution_count": 63,
   "metadata": {},
   "outputs": [],
   "source": [
    "gesture_names = {0: 'C',\n",
    "                 1: 'Fist',\n",
    "                 2: 'L',\n",
    "                 3: 'Okay',\n",
    "                 4: 'Palm',\n",
    "                 5: 'Peace'}\n",
    "\n",
    "def predict_rgb_image_vgg(path):\n",
    "    img2rgb = image_utils.load_img(path=path, target_size=(224, 224))\n",
    "    img2rgb = image_utils.img_to_array(img2rgb)\n",
    "#     image_rgb.append(img2rgb)\n",
    "    img2rgb = img2rgb.reshape(1, 224, 224, 3)\n",
    "    return gesture_names[np.argmax(model.predict(img2rgb))]"
   ]
  },
  {
   "cell_type": "code",
   "execution_count": null,
   "metadata": {},
   "outputs": [],
   "source": [
    "predict_rgb_image_vgg('images_to_predict/test - palm.jpg')"
   ]
  },
  {
   "cell_type": "markdown",
   "metadata": {},
   "source": [
    "#### Image Augmentation"
   ]
  },
  {
   "cell_type": "code",
   "execution_count": 104,
   "metadata": {},
   "outputs": [
    {
     "name": "stdout",
     "output_type": "stream",
     "text": [
      "Epoch 1/10\n",
      "8/7 [================================] - 11s 1s/step - loss: 1.6103 - acc: 0.5610 - val_loss: 1.5952 - val_acc: 0.3856\n",
      "Epoch 2/10\n",
      "8/7 [================================] - 9s 1s/step - loss: 0.8910 - acc: 0.6878 - val_loss: 1.5901 - val_acc: 0.4364\n",
      "Epoch 3/10\n",
      "8/7 [================================] - 10s 1s/step - loss: 0.6128 - acc: 0.7967 - val_loss: 1.5757 - val_acc: 0.4492\n",
      "Epoch 4/10\n",
      "8/7 [================================] - 10s 1s/step - loss: 0.5136 - acc: 0.8229 - val_loss: 1.1850 - val_acc: 0.5508\n",
      "Epoch 5/10\n",
      "8/7 [================================] - 10s 1s/step - loss: 0.4274 - acc: 0.8570 - val_loss: 1.3173 - val_acc: 0.5424\n",
      "Epoch 6/10\n",
      "8/7 [================================] - 10s 1s/step - loss: 0.3949 - acc: 0.8673 - val_loss: 1.0941 - val_acc: 0.6017\n",
      "Epoch 7/10\n",
      "8/7 [================================] - 10s 1s/step - loss: 0.3201 - acc: 0.9048 - val_loss: 0.9776 - val_acc: 0.6483\n",
      "Epoch 8/10\n",
      "8/7 [================================] - 10s 1s/step - loss: 0.3264 - acc: 0.8904 - val_loss: 1.0325 - val_acc: 0.5847\n",
      "Epoch 9/10\n",
      "8/7 [================================] - 10s 1s/step - loss: 0.2715 - acc: 0.9132 - val_loss: 0.8119 - val_acc: 0.6568\n",
      "Epoch 10/10\n",
      "8/7 [================================] - 10s 1s/step - loss: 0.2702 - acc: 0.9018 - val_loss: 1.2239 - val_acc: 0.5847\n"
     ]
    },
    {
     "data": {
      "text/plain": [
       "<keras.callbacks.History at 0x7f3ea56eaba8>"
      ]
     },
     "execution_count": 104,
     "metadata": {},
     "output_type": "execute_result"
    }
   ],
   "source": [
    "datagen = ImageDataGenerator(\n",
    "    featurewise_center=True,\n",
    "    featurewise_std_normalization=True,\n",
    "    rotation_range=45.,\n",
    "    width_shift_range=0.2,\n",
    "    height_shift_range=0.2,\n",
    "    horizontal_flip=True)\n",
    "\n",
    "# compute quantities required for featurewise normalization\n",
    "# (std, mean, and principal components if ZCA whitening is applied)\n",
    "datagen.fit(X_train_rgb)\n",
    "\n",
    "# fits the model on batches with real-time data augmentation:\n",
    "model.fit_generator(datagen.flow(X_train_rgb, y_train_rgb, batch_size=32),\n",
    "                    steps_per_epoch=len(X_train_rgb) / 128, epochs=10, validation_data=(X_test_rgb, y_test_rgb))"
   ]
  },
  {
   "cell_type": "code",
   "execution_count": 80,
   "metadata": {},
   "outputs": [],
   "source": [
    "model.save('models/new_new_new.h5')"
   ]
  },
  {
   "cell_type": "code",
   "execution_count": 109,
   "metadata": {},
   "outputs": [
    {
     "data": {
      "text/plain": [
       "4"
      ]
     },
     "execution_count": 109,
     "metadata": {},
     "output_type": "execute_result"
    }
   ],
   "source": [
    "np.argmax(model.predict(X_test_rgb[0].reshape(1,224,224,3)))"
   ]
  },
  {
   "cell_type": "markdown",
   "metadata": {},
   "source": [
    "#### Build own model"
   ]
  },
  {
   "cell_type": "code",
   "execution_count": 15,
   "metadata": {},
   "outputs": [],
   "source": [
    "model=models.Sequential()\n",
    "model.add(layers.Conv2D(32, (5, 5), strides=(2, 2), activation='relu', input_shape=(224, 224, 3)))\n",
    "model.add(layers.MaxPooling2D((2, 2)))\n",
    "model.add(layers.Conv2D(64, (3, 3), activation='relu')) \n",
    "model.add(layers.MaxPooling2D((2, 2)))\n",
    "model.add(layers.Conv2D(64, (3, 3), activation='relu'))\n",
    "model.add(layers.MaxPooling2D((2, 2)))\n",
    "model.add(layers.Flatten())\n",
    "model.add(layers.Dense(128, activation='relu'))\n",
    "model.add(layers.Dense(128, activation='relu'))\n",
    "model.add(layers.Dense(128, activation='relu'))\n",
    "model.add(Dropout(0.25, seed=21))\n",
    "model.add(layers.Dense(5, activation='softmax'))"
   ]
  },
  {
   "cell_type": "code",
   "execution_count": 16,
   "metadata": {},
   "outputs": [],
   "source": [
    "model.compile(optimizer='Adam', loss='categorical_crossentropy', metrics=['accuracy'])"
   ]
  },
  {
   "cell_type": "code",
   "execution_count": null,
   "metadata": {},
   "outputs": [],
   "source": [
    "model.fit(X_train[:500], y_train[:500], epochs=4, batch_size=64, validation_data=(X_test[:500], y_test[:500]), verbose=1, callbacks = [MetricsCheckpoint('logs')])"
   ]
  },
  {
   "cell_type": "code",
   "execution_count": 79,
   "metadata": {},
   "outputs": [
    {
     "name": "stdout",
     "output_type": "stream",
     "text": [
      "Train on 873 samples, validate on 219 samples\n",
      "Epoch 1/200\n",
      "873/873 [==============================] - 1s 889us/step - loss: 0.3105 - acc: 0.9278 - val_loss: 0.2031 - val_acc: 0.9589\n",
      "Epoch 2/200\n",
      "873/873 [==============================] - 0s 525us/step - loss: 0.0788 - acc: 0.9840 - val_loss: 0.1640 - val_acc: 0.9680\n",
      "Epoch 3/200\n",
      "873/873 [==============================] - 0s 553us/step - loss: 0.0224 - acc: 0.9966 - val_loss: 0.1742 - val_acc: 0.9543\n",
      "Epoch 4/200\n",
      "873/873 [==============================] - 0s 526us/step - loss: 0.0208 - acc: 0.9954 - val_loss: 0.1776 - val_acc: 0.9543\n",
      "Epoch 5/200\n",
      "873/873 [==============================] - 0s 547us/step - loss: 0.0116 - acc: 1.0000 - val_loss: 0.1709 - val_acc: 0.9543\n",
      "Epoch 6/200\n",
      "873/873 [==============================] - 0s 527us/step - loss: 0.0074 - acc: 1.0000 - val_loss: 0.1670 - val_acc: 0.9589\n",
      "Epoch 7/200\n",
      "873/873 [==============================] - 0s 549us/step - loss: 0.0047 - acc: 1.0000 - val_loss: 0.1675 - val_acc: 0.9635\n",
      "Epoch 8/200\n",
      "873/873 [==============================] - 0s 530us/step - loss: 0.0042 - acc: 1.0000 - val_loss: 0.1698 - val_acc: 0.9635\n",
      "Epoch 9/200\n",
      "873/873 [==============================] - 0s 548us/step - loss: 0.0034 - acc: 1.0000 - val_loss: 0.1735 - val_acc: 0.9635\n",
      "Epoch 10/200\n",
      "873/873 [==============================] - 0s 527us/step - loss: 0.0037 - acc: 1.0000 - val_loss: 0.1758 - val_acc: 0.9589\n",
      "Epoch 11/200\n",
      "873/873 [==============================] - 0s 541us/step - loss: 0.0021 - acc: 1.0000 - val_loss: 0.1759 - val_acc: 0.9589\n",
      "Epoch 12/200\n",
      "873/873 [==============================] - 0s 531us/step - loss: 0.0020 - acc: 1.0000 - val_loss: 0.1765 - val_acc: 0.9589\n",
      "Restoring model weights from the end of the best epoch\n",
      "Epoch 00012: early stopping\n"
     ]
    },
    {
     "data": {
      "text/plain": [
       "<keras.callbacks.History at 0x7ff2b7c72ef0>"
      ]
     },
     "execution_count": 79,
     "metadata": {},
     "output_type": "execute_result"
    }
   ],
   "source": [
    "model.fit(X_train_rgb, y_train_rgb, epochs=200, batch_size=128, validation_data=(X_test_rgb, y_test_rgb), verbose=1, callbacks =[early_stopping, model_checkpoint])"
   ]
  },
  {
   "cell_type": "code",
   "execution_count": 9,
   "metadata": {},
   "outputs": [],
   "source": [
    "datagen = ImageDataGenerator(\n",
    "    featurewise_center=True,\n",
    "    featurewise_std_normalization=True,\n",
    "    rotation_range=20.,\n",
    "    width_shift_range=0.1,\n",
    "    height_shift_range=0.1,\n",
    "    horizontal_flip=True,\n",
    "#     shear_range=0.3,\n",
    ")"
   ]
  },
  {
   "cell_type": "code",
   "execution_count": 10,
   "metadata": {},
   "outputs": [],
   "source": [
    "datagen.fit(X_train_rgb)"
   ]
  },
  {
   "cell_type": "code",
   "execution_count": 11,
   "metadata": {},
   "outputs": [],
   "source": [
    "from keras.callbacks import EarlyStopping, ModelCheckpoint\n",
    "\n",
    "file_path = 'models/saved_model.hdf5'\n",
    "model_checkpoint = ModelCheckpoint(filepath=file_path, save_best_only=True)\n",
    "\n",
    "early_stopping = EarlyStopping(monitor='val_acc', \n",
    "                               min_delta=0, \n",
    "                               patience=10, ## changed from 10 to 3 and train/val split is now 10% \n",
    "                               verbose=1, \n",
    "                               mode='auto', \n",
    "                               restore_best_weights=True)"
   ]
  },
  {
   "cell_type": "code",
   "execution_count": null,
   "metadata": {},
   "outputs": [],
   "source": [
    "# fits the model on batches with real-time data augmentation:\n",
    "\n",
    "model.fit_generator(datagen.flow(X_train_rgb, y_train_rgb, batch_size=64),\n",
    "                    steps_per_epoch=len(X_train_rgb) / 64,\n",
    "                    epochs=200,\n",
    "                    validation_data=(X_test_rgb, y_test_rgb),\n",
    "                    callbacks=[early_stopping])"
   ]
  },
  {
   "cell_type": "code",
   "execution_count": null,
   "metadata": {},
   "outputs": [],
   "source": [
    "model.save('models/200_epochs_own_model.h5')"
   ]
  },
  {
   "cell_type": "code",
   "execution_count": 51,
   "metadata": {},
   "outputs": [],
   "source": [
    "model.save('models/silhouette_model.h5')"
   ]
  },
  {
   "cell_type": "code",
   "execution_count": 99,
   "metadata": {},
   "outputs": [],
   "source": [
    "def get_classification_reports(y_pred, y_true):\n",
    "    Y_pred_classes = np.array(np.argmax(y_pred))  # reconverts back from one hot encoded \n",
    "    Y_true = np.array(np.argmax(y_true))  # reconverts back from one hot encoded\n",
    "    print(confusion_matrix(Y_true, Y_pred_classes))\n",
    "    print(classification_report(Y_true, Y_pred_classes))"
   ]
  },
  {
   "cell_type": "code",
   "execution_count": 52,
   "metadata": {},
   "outputs": [],
   "source": [
    "y_pred = model.predict(X_test_rgb)"
   ]
  },
  {
   "cell_type": "code",
   "execution_count": 53,
   "metadata": {},
   "outputs": [
    {
     "data": {
      "text/plain": [
       "(383, 5)"
      ]
     },
     "execution_count": 53,
     "metadata": {},
     "output_type": "execute_result"
    }
   ],
   "source": [
    "y_pred.shape"
   ]
  },
  {
   "cell_type": "code",
   "execution_count": 54,
   "metadata": {},
   "outputs": [],
   "source": [
    "Y_pred_classes = np.argmax(y_pred,axis = 1)  # reconverts back from one hot encoded "
   ]
  },
  {
   "cell_type": "code",
   "execution_count": 55,
   "metadata": {},
   "outputs": [],
   "source": [
    "Y_true = np.argmax(y_test_rgb,axis = 1)"
   ]
  },
  {
   "cell_type": "code",
   "execution_count": 56,
   "metadata": {},
   "outputs": [
    {
     "name": "stdout",
     "output_type": "stream",
     "text": [
      "             precision    recall  f1-score   support\n",
      "\n",
      "          0       0.92      0.87      0.90        70\n",
      "          1       0.88      0.82      0.85        61\n",
      "          2       0.78      0.90      0.83        58\n",
      "          3       0.86      0.89      0.87        73\n",
      "          4       0.93      0.90      0.92       121\n",
      "\n",
      "avg / total       0.88      0.88      0.88       383\n",
      "\n"
     ]
    }
   ],
   "source": [
    "print(classification_report(Y_pred_classes, Y_true))"
   ]
  },
  {
   "cell_type": "code",
   "execution_count": 57,
   "metadata": {},
   "outputs": [
    {
     "name": "stdout",
     "output_type": "stream",
     "text": [
      "[[ 61   2   2   4   1]\n",
      " [  1  50   7   2   1]\n",
      " [  0   3  52   1   2]\n",
      " [  3   0   1  65   4]\n",
      " [  1   2   5   4 109]]\n"
     ]
    }
   ],
   "source": [
    "print(confusion_matrix(Y_pred_classes, Y_true))"
   ]
  },
  {
   "cell_type": "code",
   "execution_count": 105,
   "metadata": {},
   "outputs": [
    {
     "data": {
      "text/plain": [
       "(195, 6)"
      ]
     },
     "execution_count": 105,
     "metadata": {},
     "output_type": "execute_result"
    }
   ],
   "source": [
    "y_test_rgb.shape"
   ]
  },
  {
   "cell_type": "code",
   "execution_count": null,
   "metadata": {},
   "outputs": [],
   "source": []
  }
 ],
 "metadata": {
  "kernelspec": {
   "display_name": "Environment (conda_tensorflow_p36)",
   "language": "python",
   "name": "conda_tensorflow_p36"
  },
  "language_info": {
   "codemirror_mode": {
    "name": "ipython",
    "version": 3
   },
   "file_extension": ".py",
   "mimetype": "text/x-python",
   "name": "python",
   "nbconvert_exporter": "python",
   "pygments_lexer": "ipython3",
   "version": "3.6.5"
  }
 },
 "nbformat": 4,
 "nbformat_minor": 2
}
