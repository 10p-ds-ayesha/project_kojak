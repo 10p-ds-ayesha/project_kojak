{
 "cells": [
  {
   "cell_type": "code",
   "execution_count": 4,
   "metadata": {},
   "outputs": [],
   "source": [
    "import pandas as pd\n",
    "import numpy as np\n",
    "\n",
    "import matplotlib.pyplot as plt\n",
    "import matplotlib.style as style\n",
    "style.use('seaborn-whitegrid')\n",
    "%matplotlib inline\n",
    "\n",
    "import os\n",
    "\n",
    "from sklearn.model_selection import train_test_split\n",
    "from sklearn.metrics import classification_report, confusion_matrix\n",
    "\n",
    "import tensorflow as tf\n",
    "import keras\n",
    "from keras import models, layers\n",
    "from keras.models import Sequential\n",
    "from keras.layers import Dense, Conv2D, MaxPooling2D, Flatten, Dropout\n",
    "from keras.applications import VGG16\n",
    "from keras.optimizers import SGD\n",
    "from keras.preprocessing import image as image_utils\n",
    "from keras.utils import to_categorical\n",
    "from PIL import Image\n",
    "from keras.preprocessing.image import ImageDataGenerator\n",
    "import cv2\n",
    "\n",
    "import warnings\n",
    "warnings.filterwarnings(action='ignore')"
   ]
  },
  {
   "cell_type": "code",
   "execution_count": 2,
   "metadata": {},
   "outputs": [],
   "source": []
  },
  {
   "cell_type": "code",
   "execution_count": 35,
   "metadata": {},
   "outputs": [],
   "source": [
    "gestures = {'L_': 'L',\n",
    "           'fi': 'Fist',\n",
    "           'C_': 'C',\n",
    "           'ok': 'Okay',\n",
    "           'pe': 'Peace',\n",
    "           'pa': 'Palm'\n",
    "            }\n",
    "\n",
    "gestures_map = {'Fist' : 0,\n",
    "                'L': 1,\n",
    "                'Okay': 2,\n",
    "                'Palm': 3,\n",
    "                'Peace': 4\n",
    "                }"
   ]
  },
  {
   "cell_type": "markdown",
   "metadata": {},
   "source": [
    "#### Drawing data"
   ]
  },
  {
   "cell_type": "code",
   "execution_count": 31,
   "metadata": {},
   "outputs": [
    {
     "ename": "ValueError",
     "evalue": "cannot reshape array of size 54792192 into shape (1092,224,224,3)",
     "output_type": "error",
     "traceback": [
      "\u001b[0;31m---------------------------------------------------------------------------\u001b[0m",
      "\u001b[0;31mValueError\u001b[0m                                Traceback (most recent call last)",
      "\u001b[0;32m<ipython-input-31-6534846078f0>\u001b[0m in \u001b[0;36m<module>\u001b[0;34m()\u001b[0m\n\u001b[1;32m     47\u001b[0m \u001b[0;34m\u001b[0m\u001b[0m\n\u001b[1;32m     48\u001b[0m \u001b[0mX_data\u001b[0m \u001b[0;34m=\u001b[0m \u001b[0mnp\u001b[0m\u001b[0;34m.\u001b[0m\u001b[0marray\u001b[0m\u001b[0;34m(\u001b[0m\u001b[0mX_data\u001b[0m\u001b[0;34m,\u001b[0m \u001b[0mdtype\u001b[0m \u001b[0;34m=\u001b[0m \u001b[0;34m'float32'\u001b[0m\u001b[0;34m)\u001b[0m\u001b[0;34m\u001b[0m\u001b[0m\n\u001b[0;32m---> 49\u001b[0;31m \u001b[0mX_data\u001b[0m \u001b[0;34m=\u001b[0m \u001b[0mX_data\u001b[0m\u001b[0;34m.\u001b[0m\u001b[0mreshape\u001b[0m\u001b[0;34m(\u001b[0m\u001b[0;34m(\u001b[0m\u001b[0mlen\u001b[0m\u001b[0;34m(\u001b[0m\u001b[0mimage_rgb\u001b[0m\u001b[0;34m)\u001b[0m\u001b[0;34m,\u001b[0m \u001b[0;36m224\u001b[0m\u001b[0;34m,\u001b[0m \u001b[0;36m224\u001b[0m\u001b[0;34m,\u001b[0m \u001b[0;36m3\u001b[0m\u001b[0;34m)\u001b[0m\u001b[0;34m)\u001b[0m\u001b[0;34m\u001b[0m\u001b[0m\n\u001b[0m\u001b[1;32m     50\u001b[0m \u001b[0mX_data\u001b[0m \u001b[0;34m/=\u001b[0m \u001b[0;36m255\u001b[0m\u001b[0;34m\u001b[0m\u001b[0m\n\u001b[1;32m     51\u001b[0m \u001b[0;34m\u001b[0m\u001b[0m\n",
      "\u001b[0;31mValueError\u001b[0m: cannot reshape array of size 54792192 into shape (1092,224,224,3)"
     ]
    }
   ],
   "source": [
    "X_data = []\n",
    "y_data = []\n",
    "image_path = []\n",
    "gesture = []\n",
    "image_rgb = []\n",
    "\n",
    "directory = os.fsencode('/home/ubuntu/project_kojak/frames/drawings/drawings/')\n",
    "\n",
    "for file in os.listdir(directory):\n",
    "    filename = os.fsdecode(file)\n",
    "    if filename.endswith(\".jpg\") and (not filename.startswith(\"drawing_C_\")): \n",
    "        path = os.path.join('/home/ubuntu/frames2/drawings/', filename)\n",
    "        # path = os.path.join('/home/ubuntu/project_kojak/frames/drawings/drawings/', filename)\n",
    "        gesture_name = gestures[filename[8:10]]\n",
    "        \n",
    "        gesture.append(gesture_name)\n",
    "        y_data.append(gestures_map[gesture_name])\n",
    "        image_path.append(path)\n",
    "\n",
    "        \n",
    "        img = Image.open(path).convert('L')\n",
    "        img = img.resize((224, 224))\n",
    "        arr = np.array(img)\n",
    "        X_data.append(arr)\n",
    "        \n",
    "#         img2rgb = image_utils.load_img(path=path, target_size=(224, 224))\n",
    "#         img2rgb = image_utils.img_to_array(img2rgb)\n",
    "#         image_rgb.append(img2rgb)\n",
    "\n",
    "        img2rgb = Image.open(path)\n",
    "        img2rgb = img2rgb.resize((224, 224))\n",
    "        img2rgb = np.array(img2rgb)\n",
    "        image_rgb.append(img2rgb)\n",
    "\n",
    "        \n",
    "\n",
    "\n",
    "#         y_values = np.full((count, 1), lookup[j]) \n",
    "#         y_data.append(y_values)\n",
    "\n",
    "    else:\n",
    "        continue\n",
    "        \n",
    "image_rgb = np.array(image_rgb, dtype = 'float32')\n",
    "# x_data = np.array(x_data, dtype=np.uint8)\n",
    "image_rgb = image_rgb.reshape((len(image_rgb), 224, 224, 3))\n",
    "image_rgb /= 255\n",
    "\n",
    "# X_data = np.array(X_data, dtype = 'float32')\n",
    "# X_data = X_data.reshape((len(image_rgb), 224, 224, 3))\n",
    "# X_data /= 255\n",
    "\n",
    "y_data = np.array(y_data)\n",
    "y_data = to_categorical(y_data)"
   ]
  },
  {
   "cell_type": "markdown",
   "metadata": {},
   "source": [
    "### Sign Language Data"
   ]
  },
  {
   "cell_type": "code",
   "execution_count": null,
   "metadata": {},
   "outputs": [],
   "source": [
    "X_data = []\n",
    "y_data = []\n",
    "image_path = []\n",
    "letters = []\n",
    "image_rgb = []\n",
    "\n",
    "count = 0\n",
    "\n",
    "directory = os.fsencode('/home/ubuntu/asl_alphabet')\n",
    "file_list = []\n",
    "\n",
    "for folder in os.listdir('/home/ubuntu/asl_alphabet'):\n",
    "    if not folder.startswith('.'):\n",
    "        for filename in os.listdir('/home/ubuntu/asl_alphabet/' + str(folder)):\n",
    "            path = '/home/ubuntu/asl_alphabet/' + str(folder) + filename\n",
    "            count +=1\n",
    "            if count == 10:\n",
    "                break\n",
    "            else:\n",
    "                print(path)\n",
    "            \n",
    "                \n",
    "\n",
    "\n",
    "    \n",
    "#     filename = os.fsdecode(file)\n",
    "#     if filename.endswith(\".jpg\") and (not filename.startswith(\"drawing_C_\")): \n",
    "#         path = os.path.join('/home/ubuntu/project_kojak/frames/drawings/drawings/', filename)\n",
    "#         gesture_name = gestures[filename[8:10]]\n",
    "        \n",
    "#         gesture.append(gesture_name)\n",
    "#         y_data.append(gestures_map[gesture_name])\n",
    "#         image_path.append(path)\n",
    "\n",
    "        \n",
    "#         img = Image.open(path).convert('L')\n",
    "#         img = img.resize((224, 224))\n",
    "#         arr = np.array(img)\n",
    "#         X_data.append(arr)\n",
    "        \n",
    "# #         img2rgb = image_utils.load_img(path=path, target_size=(224, 224))\n",
    "# #         img2rgb = image_utils.img_to_array(img2rgb)\n",
    "# #         image_rgb.append(img2rgb)\n",
    "\n",
    "#         img2rgb = Image.open(path)\n",
    "#         img2rgb = img2rgb.resize((224, 224))\n",
    "#         img2rgb = np.array(img2rgb)\n",
    "#         image_rgb.append(img2rgb)\n",
    "\n",
    "        \n",
    "\n",
    "\n",
    "# #         y_values = np.full((count, 1), lookup[j]) \n",
    "# #         y_data.append(y_values)\n",
    "\n",
    "#     else:\n",
    "#         continue\n",
    "        \n",
    "# image_rgb = np.array(image_rgb, dtype = 'float32')\n",
    "# # x_data = np.array(x_data, dtype=np.uint8)\n",
    "# image_rgb = image_rgb.reshape((len(image_rgb), 224, 224, 3))\n",
    "# image_rgb /= 255\n",
    "\n",
    "# y_data = np.array(y_data)\n",
    "# y_data = to_categorical(y_data)"
   ]
  },
  {
   "cell_type": "code",
   "execution_count": 24,
   "metadata": {},
   "outputs": [
    {
     "data": {
      "text/plain": [
       "41"
      ]
     },
     "execution_count": 24,
     "metadata": {},
     "output_type": "execute_result"
    }
   ],
   "source": [
    "len(letters)"
   ]
  },
  {
   "cell_type": "code",
   "execution_count": 86,
   "metadata": {},
   "outputs": [
    {
     "data": {
      "text/plain": [
       "<matplotlib.image.AxesImage at 0x7ff2bd6ae128>"
      ]
     },
     "execution_count": 86,
     "metadata": {},
     "output_type": "execute_result"
    },
    {
     "data": {
      "image/png": "[encoded data removed]",
      "text/plain": [
       "<Figure size 432x288 with 1 Axes>"
      ]
     },
     "metadata": {},
     "output_type": "display_data"
    }
   ],
   "source": [
    "import matplotlib.pyplot as plt\n",
    "plt.imshow(img2rgb)"
   ]
  },
  {
   "cell_type": "code",
   "execution_count": 100,
   "metadata": {},
   "outputs": [
    {
     "data": {
      "text/plain": [
       "<matplotlib.image.AxesImage at 0x7ff2bd19d320>"
      ]
     },
     "execution_count": 100,
     "metadata": {},
     "output_type": "execute_result"
    },
    {
     "data": {
      "image/png": "[encoded data removed]",
      "text/plain": [
       "<Figure size 432x288 with 1 Axes>"
      ]
     },
     "metadata": {},
     "output_type": "display_data"
    }
   ],
   "source": [
    "plt.imshow(image_rgb[330])"
   ]
  },
  {
   "cell_type": "markdown",
   "metadata": {},
   "source": [
    "#### Silhouettes data"
   ]
  },
  {
   "cell_type": "code",
   "execution_count": 36,
   "metadata": {},
   "outputs": [],
   "source": [
    "X_data = []\n",
    "y_data = []\n",
    "image_path = []\n",
    "gesture = []\n",
    "image_rgb = []\n",
    "\n",
    "directory = os.fsencode('/home/ubuntu/frames2/silhouettes/')\n",
    "\n",
    "for file in os.listdir(directory):\n",
    "    filename = os.fsdecode(file)\n",
    "    if filename.endswith(\".jpg\") and (not filename.startswith(\"C_\")): \n",
    "        path = os.path.join('/home/ubuntu/frames2/silhouettes/', filename)\n",
    "        # path = os.path.join('/home/ubuntu/project_kojak/frames/silhouettes/', filename)\n",
    "        gesture_name = gestures[filename[0:2]]\n",
    "        \n",
    "        gesture.append(gesture_name)\n",
    "        y_data.append(gestures_map[gesture_name])\n",
    "        image_path.append(path)\n",
    "\n",
    "        \n",
    "        img = Image.open(path) #.convert('L')\n",
    "        img = img.resize((224, 224))\n",
    "        img = np.array(img)\n",
    "        X_data.append(img)\n",
    "        \n",
    "        img2rgb = image_utils.load_img(path=path, target_size=(224, 224))\n",
    "        img2rgb = image_utils.img_to_array(img2rgb)\n",
    "        image_rgb.append(img2rgb)\n",
    "\n",
    "\n",
    "#         y_values = np.full((count, 1), lookup[j]) \n",
    "#         y_data.append(y_values)\n",
    "\n",
    "    else:\n",
    "        continue\n",
    "        \n",
    "image_rgb = np.array(image_rgb, dtype = 'float32')\n",
    "# x_data = np.array(x_data, dtype=np.uint8)\n",
    "image_rgb = image_rgb.reshape((len(image_rgb), 224, 224, 3))\n",
    "image_rgb /= 255\n",
    "\n",
    "X_data = np.array(X_data, dtype = 'float32')\n",
    "# X_data = X_data.reshape((len(X_data), 224, 224, 1))\n",
    "X_data = np.stack((X_data,)*3, axis=-1)\n",
    "X_data /= 255\n",
    "\n",
    "y_data = np.array(y_data)\n",
    "y_data = to_categorical(y_data)"
   ]
  },
  {
   "cell_type": "code",
   "execution_count": 86,
   "metadata": {},
   "outputs": [
    {
     "data": {
      "text/plain": [
       "<matplotlib.image.AxesImage at 0x7f9e487625f8>"
      ]
     },
     "execution_count": 86,
     "metadata": {},
     "output_type": "execute_result"
    },
    {
     "data": {
      "image/png": "[encoded data removed]",
      "text/plain": [
       "<Figure size 432x288 with 1 Axes>"
      ]
     },
     "metadata": {},
     "output_type": "display_data"
    }
   ],
   "source": [
    "plt.imshow(X_data[5])"
   ]
  },
  {
   "cell_type": "code",
   "execution_count": 40,
   "metadata": {},
   "outputs": [],
   "source": [
    "# Send the dictionaries to a dataframe to be saved for future use\n",
    "# d = {'image_path':image_path, 'gesture':gesture, 'image_rgb': image_rgb, 'image_bw_x': X_data, 'image_bw_y': y_data}\n",
    "d = {'image_path':image_path, 'gesture':gesture}\n",
    "df = pd.DataFrame(d)\n",
    "# df['gesture_num'] = df['gesture'].apply(lambda x: x[1:2])\n",
    "# df['gesture_name'] = df['gesture'].apply(lambda x: x[3:])\n",
    "\n",
    "# df.to_csv('silhouette_df.csv')\n",
    "# df = pd.read_csv('silhouette_df.csv')"
   ]
  },
  {
   "cell_type": "code",
   "execution_count": 120,
   "metadata": {},
   "outputs": [],
   "source": [
    "df['y'] = df['gesture'].map(gestures_map)"
   ]
  },
  {
   "cell_type": "code",
   "execution_count": 121,
   "metadata": {},
   "outputs": [
    {
     "data": {
      "text/plain": [
       "4    234\n",
       "2    214\n",
       "1    214\n",
       "5    170\n",
       "3    139\n",
       "Name: y, dtype: int64"
      ]
     },
     "execution_count": 121,
     "metadata": {},
     "output_type": "execute_result"
    }
   ],
   "source": [
    "df['y'].value_counts()"
   ]
  },
  {
   "cell_type": "code",
   "execution_count": 23,
   "metadata": {},
   "outputs": [],
   "source": [
    "# X_data, y_data = process_data(X_data, y_data)\n",
    "# image_rgb, y_data = process_data_rgb(image_rgb, y_data)"
   ]
  },
  {
   "cell_type": "markdown",
   "metadata": {},
   "source": [
    "#### Bring in Kaggle data"
   ]
  },
  {
   "cell_type": "code",
   "execution_count": 55,
   "metadata": {},
   "outputs": [],
   "source": [
    "gestures_map = {3 : 0,\n",
    "                2: 1,\n",
    "                7: 2,\n",
    "                1: 3,\n",
    "                'Peace': 4\n",
    "                }\n",
    "\n",
    "X_data = []\n",
    "y_data = []\n",
    "image_path = []\n",
    "gesture = []\n",
    "image_rgb = []\n",
    "\n",
    "root_dir = os.fsencode('/home/ubuntu/project_kojak/data/gestures_data/')\n",
    "\n",
    "for directory, subdirectories, files in os.walk(root_dir):\n",
    "    for file in files:\n",
    "        if not file.startswith(b'.'):\n",
    "            gesture_name = int(file.decode('utf8')[10:11])\n",
    "            if gesture_name in [1,2,3,7]:\n",
    "                path = os.path.join(directory, file).decode('utf8')\n",
    "                gesture.append(gesture_name)\n",
    "                y_data.append(gestures_map[gesture_name])\n",
    "                image_path.append(path)\n",
    "\n",
    "                img = cv2.imread(path, cv2.IMREAD_COLOR)\n",
    "                img = cv2.flip(img, 1)\n",
    "                gray = cv2.cvtColor(img, cv2.COLOR_BGR2GRAY)\n",
    "                blur = cv2.GaussianBlur(gray, (41, 41), 0) #tuple indicates blur value\n",
    "                ret, thresh = cv2.threshold(blur, 150, 255, cv2.THRESH_BINARY+cv2.THRESH_OTSU)\n",
    "                thresh = cv2.resize(thresh, (224, 224))\n",
    "                thresh = np.array(thresh)\n",
    "                X_data.append(thresh)\n",
    "                \n",
    "#                 img = Image.open(path) #.convert('L')\n",
    "#                 img = img.resize((224, 224))\n",
    "#                 img = np.array(img)\n",
    "#                 X_data.append(img)\n",
    "\n",
    "#                 img2rgb = image_utils.load_img(path=path, target_size=(224, 224))\n",
    "#                 img2rgb = image_utils.img_to_array(img2rgb)\n",
    "#                 image_rgb.append(img2rgb)\n",
    "            else:\n",
    "                continue\n",
    "    \n",
    "\n",
    "\n",
    "        #         y_values = np.full((count, 1), lookup[j]) \n",
    "        #         y_data.append(y_values)\n",
    "\n",
    "\n",
    "image_rgb = np.array(image_rgb, dtype = 'float32')\n",
    "# x_data = np.array(x_data, dtype=np.uint8)\n",
    "image_rgb = image_rgb.reshape((len(image_rgb), 224, 224, 3))\n",
    "image_rgb /= 255\n",
    "\n",
    "X_data = np.array(X_data, dtype = 'float32')\n",
    "# X_data = X_data.reshape((len(X_data), 224, 224, 1))\n",
    "X_data = np.stack((X_data,)*3, axis=-1)\n",
    "X_data /= 255\n",
    "\n",
    "y_data = np.array(y_data)\n",
    "y_data = to_categorical(y_data)"
   ]
  },
  {
   "cell_type": "code",
   "execution_count": 58,
   "metadata": {},
   "outputs": [],
   "source": [
    "z = np.zeros((len(y_data),1))\n",
    "y_data = np.append(y_data, z, axis=1)"
   ]
  },
  {
   "cell_type": "code",
   "execution_count": 59,
   "metadata": {},
   "outputs": [
    {
     "data": {
      "text/plain": [
       "(8000, 5)"
      ]
     },
     "execution_count": 59,
     "metadata": {},
     "output_type": "execute_result"
    }
   ],
   "source": [
    "y_data.shape"
   ]
  },
  {
   "cell_type": "code",
   "execution_count": 181,
   "metadata": {},
   "outputs": [],
   "source": [
    "# Have to do this because the Kaggle data set doesn't have peace signs, so we add zeros so the shapes will match up\n",
    "y_data = np.pad(y_data, (0,1), 'constant')"
   ]
  },
  {
   "cell_type": "code",
   "execution_count": 164,
   "metadata": {},
   "outputs": [
    {
     "data": {
      "text/plain": [
       "<matplotlib.image.AxesImage at 0x7f9e183e3fd0>"
      ]
     },
     "execution_count": 164,
     "metadata": {},
     "output_type": "execute_result"
    },
    {
     "data": {
      "image/png": "[encoded data removed]",
      "text/plain": [
       "<Figure size 432x288 with 1 Axes>"
      ]
     },
     "metadata": {},
     "output_type": "display_data"
    }
   ],
   "source": [
    "plt.imshow(X_data[250])"
   ]
  },
  {
   "cell_type": "markdown",
   "metadata": {},
   "source": [
    "#### Train-test split"
   ]
  },
  {
   "cell_type": "code",
   "execution_count": 37,
   "metadata": {},
   "outputs": [],
   "source": [
    "X_train, y_train = X_data, y_data"
   ]
  },
  {
   "cell_type": "code",
   "execution_count": 17,
   "metadata": {},
   "outputs": [],
   "source": [
    "# X_train_rgb, X_test_rgb, y_train_rgb, y_test_rgb = train_test_split(image_rgb, y_data, test_size = 0.2, random_state=12, stratify=y_data)\n",
    "X_train_rgb, X_test_rgb, y_train_rgb, y_test_rgb = train_test_split(X_data, y_data, test_size = 0.2, random_state=12, stratify=y_data)"
   ]
  },
  {
   "cell_type": "markdown",
   "metadata": {},
   "source": [
    "#### Build the VGG Model"
   ]
  },
  {
   "cell_type": "code",
   "execution_count": 40,
   "metadata": {},
   "outputs": [],
   "source": [
    "from keras.callbacks import EarlyStopping, ModelCheckpoint\n",
    "\n",
    "file_path = 'models/saved_model.hdf5'\n",
    "model_checkpoint = ModelCheckpoint(filepath=file_path, save_best_only=True)\n",
    "\n",
    "early_stopping = EarlyStopping(monitor='val_acc', \n",
    "                               min_delta=0, \n",
    "                               patience=10,\n",
    "                               verbose=1, \n",
    "                               mode='auto', \n",
    "                               restore_best_weights=True)"
   ]
  },
  {
   "cell_type": "code",
   "execution_count": 60,
   "metadata": {},
   "outputs": [
    {
     "name": "stdout",
     "output_type": "stream",
     "text": [
      "Train on 8000 samples, validate on 2748 samples\n",
      "Epoch 1/200\n",
      "8000/8000 [==============================] - 20s 3ms/step - loss: 0.1974 - acc: 0.9223 - val_loss: 3.8344 - val_acc: 0.5328\n",
      "Epoch 2/200\n",
      "8000/8000 [==============================] - 17s 2ms/step - loss: 0.0103 - acc: 0.9968 - val_loss: 3.9479 - val_acc: 0.5677\n",
      "Epoch 3/200\n",
      "8000/8000 [==============================] - 17s 2ms/step - loss: 2.7804e-04 - acc: 1.0000 - val_loss: 4.3325 - val_acc: 0.5415\n",
      "Epoch 4/200\n",
      "8000/8000 [==============================] - 17s 2ms/step - loss: 4.1212e-04 - acc: 0.9999 - val_loss: 4.4374 - val_acc: 0.5266\n",
      "Epoch 5/200\n",
      "8000/8000 [==============================] - 17s 2ms/step - loss: 1.8591e-04 - acc: 1.0000 - val_loss: 4.6763 - val_acc: 0.5320\n",
      "Epoch 6/200\n",
      "8000/8000 [==============================] - 17s 2ms/step - loss: 4.4846e-05 - acc: 1.0000 - val_loss: 4.7086 - val_acc: 0.5411\n",
      "Epoch 7/200\n",
      "8000/8000 [==============================] - 17s 2ms/step - loss: 5.6643e-05 - acc: 1.0000 - val_loss: 4.8157 - val_acc: 0.5444\n",
      "Epoch 8/200\n",
      "8000/8000 [==============================] - 17s 2ms/step - loss: 6.1545e-05 - acc: 1.0000 - val_loss: 4.8321 - val_acc: 0.5517\n",
      "Epoch 9/200\n",
      "8000/8000 [==============================] - 17s 2ms/step - loss: 3.4133e-05 - acc: 1.0000 - val_loss: 5.2850 - val_acc: 0.5306\n",
      "Epoch 10/200\n",
      "8000/8000 [==============================] - 17s 2ms/step - loss: 3.8579e-05 - acc: 1.0000 - val_loss: 5.1835 - val_acc: 0.5473\n",
      "Epoch 11/200\n",
      "8000/8000 [==============================] - 17s 2ms/step - loss: 0.1022 - acc: 0.9769 - val_loss: 4.6630 - val_acc: 0.4960\n",
      "Epoch 12/200\n",
      "8000/8000 [==============================] - 17s 2ms/step - loss: 0.0015 - acc: 0.9996 - val_loss: 4.9650 - val_acc: 0.4996\n",
      "Restoring model weights from the end of the best epoch\n",
      "Epoch 00012: early stopping\n"
     ]
    },
    {
     "data": {
      "text/plain": [
       "<keras.callbacks.History at 0x7f9cec09ae10>"
      ]
     },
     "execution_count": 60,
     "metadata": {},
     "output_type": "execute_result"
    }
   ],
   "source": [
    "# load VGG16\n",
    "#Get back the convolutional part of a VGG network trained on ImageNet\n",
    "import keras\n",
    "from keras import models, layers, optimizers\n",
    "from keras.layers import Dense, Dropout, Activation, Flatten, Conv2D, MaxPooling2D, Lambda, MaxPool2D, BatchNormalization\n",
    "from keras.models import Model\n",
    "imageSize=224\n",
    "model1 = VGG16(weights='imagenet', include_top=False, input_shape=(imageSize, imageSize, 3))\n",
    "optimizer1 = optimizers.Adam()\n",
    "\n",
    "# datagen = ImageDataGenerator(\n",
    "# featurewise_center=True,\n",
    "# featurewise_std_normalization=True,\n",
    "# rotation_range=45.,\n",
    "# width_shift_range=0.2,\n",
    "# height_shift_range=0.2,\n",
    "# horizontal_flip=True)\n",
    "\n",
    "base_model = model1 # Topless\n",
    "# Add top layer\n",
    "x = base_model.output\n",
    "x = Flatten()(x)\n",
    "x = Dense(128, activation='relu', name='fc1')(x)\n",
    "x = Dense(128, activation='relu', name='fc2')(x)\n",
    "x = Dense(128, activation='relu', name='fc3')(x)\n",
    "x = Dropout(0.5) (x)\n",
    "x = Dense(64, activation='relu', name='fc4')(x)\n",
    "#### Playing with other architectures\n",
    "#     x = Flatten() (x)\n",
    "#     x = Dense(64) (x)\n",
    "#     x = Activation('relu') (x)\n",
    "#     x = Dropout(0.5) (x)\n",
    "#     x = Dense(32) (x)\n",
    "#     x = Activation('relu') (x)\n",
    "#     x = Dropout(0.5) (x)\n",
    "####\n",
    "predictions = Dense(5, activation='softmax')(x)\n",
    "model = Model(inputs=base_model.input, outputs=predictions)\n",
    "\n",
    "# Train top layer\n",
    "for layer in base_model.layers:\n",
    "    layer.trainable = False\n",
    "\n",
    "# model.compile(loss='categorical_crossentropy', \n",
    "#       optimizer=optimizers.Adam(), \n",
    "#       metrics=['accuracy'])\n",
    "# callbacks_list = [keras.callbacks.EarlyStopping(monitor='val_acc', patience=3, verbose=1)]\n",
    "\n",
    "# datagen.fit(X_train_rgb)\n",
    "\n",
    "# # Fit model\n",
    "# model.fit_generator(datagen.flow(X_train_rgb, y_train_rgb, batch_size=64),\n",
    "#                 steps_per_epoch=len(X_train_rgb) / 64, epochs=8, validation_data=(X_test_rgb, y_test_rgb))\n",
    "# #class_weight=classweight,\n",
    "\n",
    "model.compile(optimizer='Adam', loss='categorical_crossentropy', metrics=['accuracy'])\n",
    "\n",
    "model.fit(X_data, y_data, epochs=200, batch_size=64, validation_data=(X_train, y_train), verbose=1, callbacks =[early_stopping, model_checkpoint])\n",
    "# model.fit(X_train_rgb, y_train_rgb, epochs=200, batch_size=64, validation_data=(X_data, y_data), verbose=1, callbacks =[early_stopping, model_checkpoint])\n",
    "\n",
    "# datagen = ImageDataGenerator(\n",
    "#     featurewise_center=True,\n",
    "#     featurewise_std_normalization=True,\n",
    "#     rotation_range=45.,\n",
    "#     width_shift_range=0.3,\n",
    "#     height_shift_range=0.3,\n",
    "#     horizontal_flip=True)\n",
    "\n",
    "# compute quantities required for featurewise normalization\n",
    "# (std, mean, and principal components if ZCA whitening is applied)\n",
    "# datagen.fit(X_train_rgb)\n",
    "\n",
    "# fits the model on batches with real-time data augmentation:\n",
    "# model.fit_generator(datagen.flow(X_train_rgb, y_train_rgb, batch_size=32),\n",
    "#                     steps_per_epoch=len(X_train_rgb)/32, epochs=150, validation_data=(X_test_rgb, y_test_rgb))\n"
   ]
  },
  {
   "cell_type": "markdown",
   "metadata": {},
   "source": [
    "#### Save and import model"
   ]
  },
  {
   "cell_type": "code",
   "execution_count": 61,
   "metadata": {},
   "outputs": [],
   "source": [
    "model.save('models/VGG_reversed.h5')"
   ]
  },
  {
   "cell_type": "code",
   "execution_count": 88,
   "metadata": {},
   "outputs": [],
   "source": [
    "# model.save('silhouette_VGG.h5')\n",
    "\n",
    "from keras.models import load_model\n",
    "model = load_model('/home/ubuntu/project_kojak/silhouette_VGG.h5')"
   ]
  },
  {
   "cell_type": "code",
   "execution_count": null,
   "metadata": {},
   "outputs": [],
   "source": [
    "X_test_rgb[0].shape"
   ]
  },
  {
   "cell_type": "markdown",
   "metadata": {},
   "source": [
    "#### Get classification metrics"
   ]
  },
  {
   "cell_type": "code",
   "execution_count": 48,
   "metadata": {},
   "outputs": [],
   "source": [
    "def get_classification_metrics(X_test, y_test):\n",
    "    pred = model.predict(X_test)\n",
    "    pred = np.argmax(pred, axis=1)\n",
    "    y_true = np.argmax(y_test, axis=1)\n",
    "    print(confusion_matrix(y_true, pred))\n",
    "    print('\\n')\n",
    "    print(classification_report(y_true, pred))"
   ]
  },
  {
   "cell_type": "markdown",
   "metadata": {},
   "source": [
    "**VGG_cross_validated model**\n",
    "\n",
    "Note that there are no predictions for class \\#5 since 'Peace' sign did not exist in cross_val images"
   ]
  },
  {
   "cell_type": "code",
   "execution_count": 49,
   "metadata": {},
   "outputs": [
    {
     "name": "stdout",
     "output_type": "stream",
     "text": [
      "[[200   0   0   0   0]\n",
      " [  0 199   0   1   0]\n",
      " [  0   0 200   0   0]\n",
      " [ 11   0   0 187   2]\n",
      " [  0   0   0   0   0]]\n",
      "\n",
      "\n",
      "              precision    recall  f1-score   support\n",
      "\n",
      "           0       0.95      1.00      0.97       200\n",
      "           1       1.00      0.99      1.00       200\n",
      "           2       1.00      1.00      1.00       200\n",
      "           3       0.99      0.94      0.96       200\n",
      "           4       0.00      0.00      0.00         0\n",
      "\n",
      "   micro avg       0.98      0.98      0.98       800\n",
      "   macro avg       0.79      0.79      0.79       800\n",
      "weighted avg       0.99      0.98      0.98       800\n",
      "\n"
     ]
    }
   ],
   "source": [
    "# get_classification_metrics(X_data, y_data)"
   ]
  },
  {
   "cell_type": "code",
   "execution_count": 92,
   "metadata": {},
   "outputs": [
    {
     "data": {
      "text/plain": [
       "array([[2.5975669e-03, 6.8540269e-01, 8.0532441e-03, 4.6215006e-03,\n",
       "        2.7723959e-01, 2.2085395e-02],\n",
       "       [1.8037352e-04, 9.8982668e-01, 2.2430022e-04, 8.4401938e-05,\n",
       "        9.5383069e-03, 1.4591584e-04],\n",
       "       [2.7303877e-05, 6.1461215e-05, 4.7820024e-04, 7.3979894e-04,\n",
       "        4.0442785e-04, 9.9828881e-01],\n",
       "       ...,\n",
       "       [1.7109163e-04, 3.7865416e-04, 2.1471193e-03, 2.1336788e-02,\n",
       "        1.3310532e-02, 9.6265584e-01],\n",
       "       [4.4995941e-05, 1.9672023e-02, 3.9480557e-04, 1.5412706e-04,\n",
       "        9.7355169e-01, 6.1823567e-03],\n",
       "       [2.1220765e-05, 2.9467508e-05, 9.6603344e-06, 9.9880779e-01,\n",
       "        1.1285117e-03, 3.3434828e-06]], dtype=float32)"
      ]
     },
     "execution_count": 92,
     "metadata": {},
     "output_type": "execute_result"
    }
   ],
   "source": [
    "model.predict(X_test_rgb)"
   ]
  },
  {
   "cell_type": "code",
   "execution_count": 138,
   "metadata": {},
   "outputs": [],
   "source": [
    "pred = model.predict(X_test_rgb)\n",
    "pred = np.argmax(pred, axis=1)\n",
    "y_true = np.argmax(y_test_rgb, axis=1)"
   ]
  },
  {
   "cell_type": "code",
   "execution_count": 139,
   "metadata": {},
   "outputs": [
    {
     "name": "stdout",
     "output_type": "stream",
     "text": [
      "[[53  3  0  0  0]\n",
      " [ 0 77  0  0  0]\n",
      " [ 1 33  2  0  0]\n",
      " [33  5 13 12  0]\n",
      " [ 0 57  0  0  3]]\n",
      "\n",
      "\n",
      "             precision    recall  f1-score   support\n",
      "\n",
      "          0       0.61      0.95      0.74        56\n",
      "          1       0.44      1.00      0.61        77\n",
      "          2       0.13      0.06      0.08        36\n",
      "          3       1.00      0.19      0.32        63\n",
      "          4       1.00      0.05      0.10        60\n",
      "\n",
      "avg / total       0.67      0.50      0.40       292\n",
      "\n"
     ]
    }
   ],
   "source": [
    "print(confusion_matrix(y_true, pred))\n",
    "print('\\n')\n",
    "print(classification_report(y_true, pred))"
   ]
  },
  {
   "cell_type": "code",
   "execution_count": 50,
   "metadata": {},
   "outputs": [
    {
     "data": {
      "text/plain": [
       "array([[0., 1., 0., 0., 0., 0.],\n",
       "       [0., 1., 0., 0., 0., 0.],\n",
       "       [0., 0., 0., 0., 0., 1.],\n",
       "       ...,\n",
       "       [0., 0., 0., 0., 0., 1.],\n",
       "       [0., 0., 0., 0., 1., 0.],\n",
       "       [0., 0., 0., 1., 0., 0.]], dtype=float32)"
      ]
     },
     "execution_count": 50,
     "metadata": {},
     "output_type": "execute_result"
    }
   ],
   "source": [
    "y_test_rgb"
   ]
  },
  {
   "cell_type": "code",
   "execution_count": 54,
   "metadata": {},
   "outputs": [],
   "source": []
  },
  {
   "cell_type": "code",
   "execution_count": 55,
   "metadata": {},
   "outputs": [],
   "source": [
    "pred = np.argmax(model.predict(X_test_rgb), axis=1)"
   ]
  },
  {
   "cell_type": "code",
   "execution_count": 63,
   "metadata": {},
   "outputs": [],
   "source": [
    "gesture_names = {0: 'C',\n",
    "                 1: 'Fist',\n",
    "                 2: 'L',\n",
    "                 3: 'Okay',\n",
    "                 4: 'Palm',\n",
    "                 5: 'Peace'}\n",
    "\n",
    "def predict_rgb_image_vgg(path):\n",
    "    img2rgb = image_utils.load_img(path=path, target_size=(224, 224))\n",
    "    img2rgb = image_utils.img_to_array(img2rgb)\n",
    "#     image_rgb.append(img2rgb)\n",
    "    img2rgb = img2rgb.reshape(1, 224, 224, 3)\n",
    "    return gesture_names[np.argmax(model.predict(img2rgb))]"
   ]
  },
  {
   "cell_type": "code",
   "execution_count": null,
   "metadata": {},
   "outputs": [],
   "source": [
    "predict_rgb_image_vgg('images_to_predict/test - palm.jpg')"
   ]
  },
  {
   "cell_type": "markdown",
   "metadata": {},
   "source": [
    "#### Image Augmentation"
   ]
  },
  {
   "cell_type": "code",
   "execution_count": 104,
   "metadata": {},
   "outputs": [
    {
     "name": "stdout",
     "output_type": "stream",
     "text": [
      "Epoch 1/10\n",
      "8/7 [================================] - 11s 1s/step - loss: 1.6103 - acc: 0.5610 - val_loss: 1.5952 - val_acc: 0.3856\n",
      "Epoch 2/10\n",
      "8/7 [================================] - 9s 1s/step - loss: 0.8910 - acc: 0.6878 - val_loss: 1.5901 - val_acc: 0.4364\n",
      "Epoch 3/10\n",
      "8/7 [================================] - 10s 1s/step - loss: 0.6128 - acc: 0.7967 - val_loss: 1.5757 - val_acc: 0.4492\n",
      "Epoch 4/10\n",
      "8/7 [================================] - 10s 1s/step - loss: 0.5136 - acc: 0.8229 - val_loss: 1.1850 - val_acc: 0.5508\n",
      "Epoch 5/10\n",
      "8/7 [================================] - 10s 1s/step - loss: 0.4274 - acc: 0.8570 - val_loss: 1.3173 - val_acc: 0.5424\n",
      "Epoch 6/10\n",
      "8/7 [================================] - 10s 1s/step - loss: 0.3949 - acc: 0.8673 - val_loss: 1.0941 - val_acc: 0.6017\n",
      "Epoch 7/10\n",
      "8/7 [================================] - 10s 1s/step - loss: 0.3201 - acc: 0.9048 - val_loss: 0.9776 - val_acc: 0.6483\n",
      "Epoch 8/10\n",
      "8/7 [================================] - 10s 1s/step - loss: 0.3264 - acc: 0.8904 - val_loss: 1.0325 - val_acc: 0.5847\n",
      "Epoch 9/10\n",
      "8/7 [================================] - 10s 1s/step - loss: 0.2715 - acc: 0.9132 - val_loss: 0.8119 - val_acc: 0.6568\n",
      "Epoch 10/10\n",
      "8/7 [================================] - 10s 1s/step - loss: 0.2702 - acc: 0.9018 - val_loss: 1.2239 - val_acc: 0.5847\n"
     ]
    },
    {
     "data": {
      "text/plain": [
       "<keras.callbacks.History at 0x7f3ea56eaba8>"
      ]
     },
     "execution_count": 104,
     "metadata": {},
     "output_type": "execute_result"
    }
   ],
   "source": [
    "datagen = ImageDataGenerator(\n",
    "    featurewise_center=True,\n",
    "    featurewise_std_normalization=True,\n",
    "    rotation_range=45.,\n",
    "    width_shift_range=0.2,\n",
    "    height_shift_range=0.2,\n",
    "    horizontal_flip=True)\n",
    "\n",
    "# compute quantities required for featurewise normalization\n",
    "# (std, mean, and principal components if ZCA whitening is applied)\n",
    "datagen.fit(X_train_rgb)\n",
    "\n",
    "# fits the model on batches with real-time data augmentation:\n",
    "model.fit_generator(datagen.flow(X_train_rgb, y_train_rgb, batch_size=32),\n",
    "                    steps_per_epoch=len(X_train_rgb) / 128, epochs=10, validation_data=(X_test_rgb, y_test_rgb))"
   ]
  },
  {
   "cell_type": "code",
   "execution_count": 80,
   "metadata": {},
   "outputs": [],
   "source": [
    "model.save('models/new_new_new.h5')"
   ]
  },
  {
   "cell_type": "code",
   "execution_count": 109,
   "metadata": {},
   "outputs": [
    {
     "data": {
      "text/plain": [
       "4"
      ]
     },
     "execution_count": 109,
     "metadata": {},
     "output_type": "execute_result"
    }
   ],
   "source": [
    "np.argmax(model.predict(X_test_rgb[0].reshape(1,224,224,3)))"
   ]
  },
  {
   "cell_type": "markdown",
   "metadata": {},
   "source": [
    "#### Build own model"
   ]
  },
  {
   "cell_type": "code",
   "execution_count": 78,
   "metadata": {},
   "outputs": [],
   "source": [
    "model=models.Sequential()\n",
    "model.add(layers.Conv2D(32, (5, 5), strides=(2, 2), activation='relu', input_shape=(224, 224, 3)))\n",
    "model.add(layers.MaxPooling2D((2, 2)))\n",
    "model.add(layers.Conv2D(64, (3, 3), activation='relu')) \n",
    "model.add(layers.MaxPooling2D((2, 2)))\n",
    "model.add(layers.Conv2D(64, (3, 3), activation='relu'))\n",
    "model.add(layers.MaxPooling2D((2, 2)))\n",
    "model.add(layers.Flatten())\n",
    "model.add(layers.Dense(128, activation='relu'))\n",
    "model.add(layers.Dense(128, activation='relu'))\n",
    "model.add(layers.Dense(128, activation='relu'))\n",
    "# model.add(Dropout(0.25, seed=21))\n",
    "model.add(layers.Dense(5, activation='softmax'))"
   ]
  },
  {
   "cell_type": "code",
   "execution_count": 79,
   "metadata": {},
   "outputs": [],
   "source": [
    "model.compile(optimizer='Adam', loss='categorical_crossentropy', metrics=['accuracy'])"
   ]
  },
  {
   "cell_type": "code",
   "execution_count": null,
   "metadata": {},
   "outputs": [],
   "source": [
    "model.fit(X_train[:500], y_train[:500], epochs=4, batch_size=64, validation_data=(X_test[:500], y_test[:500]), verbose=1, callbacks = [MetricsCheckpoint('logs')])"
   ]
  },
  {
   "cell_type": "code",
   "execution_count": 80,
   "metadata": {},
   "outputs": [
    {
     "name": "stdout",
     "output_type": "stream",
     "text": [
      "Train on 1020 samples, validate on 256 samples\n",
      "Epoch 1/200\n",
      "1020/1020 [==============================] - 2s 2ms/step - loss: 1.4084 - acc: 0.4069 - val_loss: 1.1192 - val_acc: 0.5703\n",
      "Epoch 2/200\n",
      "1020/1020 [==============================] - 1s 746us/step - loss: 0.6555 - acc: 0.7657 - val_loss: 0.6208 - val_acc: 0.7930\n",
      "Epoch 3/200\n",
      "1020/1020 [==============================] - 1s 637us/step - loss: 0.2596 - acc: 0.9039 - val_loss: 0.4631 - val_acc: 0.8438\n",
      "Epoch 4/200\n",
      "1020/1020 [==============================] - 1s 708us/step - loss: 0.1080 - acc: 0.9627 - val_loss: 0.6910 - val_acc: 0.8359\n",
      "Epoch 5/200\n",
      "1020/1020 [==============================] - 1s 664us/step - loss: 0.0659 - acc: 0.9775 - val_loss: 0.6188 - val_acc: 0.8242\n",
      "Epoch 6/200\n",
      "1020/1020 [==============================] - 1s 703us/step - loss: 0.0566 - acc: 0.9794 - val_loss: 0.5668 - val_acc: 0.8633\n",
      "Epoch 7/200\n",
      "1020/1020 [==============================] - 1s 661us/step - loss: 0.0515 - acc: 0.9833 - val_loss: 0.5964 - val_acc: 0.8711\n",
      "Epoch 8/200\n",
      "1020/1020 [==============================] - 1s 726us/step - loss: 0.0353 - acc: 0.9873 - val_loss: 0.8839 - val_acc: 0.8281\n",
      "Epoch 9/200\n",
      "1020/1020 [==============================] - 1s 643us/step - loss: 0.0369 - acc: 0.9912 - val_loss: 0.5798 - val_acc: 0.8711\n",
      "Epoch 10/200\n",
      "1020/1020 [==============================] - 1s 760us/step - loss: 0.0267 - acc: 0.9931 - val_loss: 0.5418 - val_acc: 0.8867\n",
      "Epoch 11/200\n",
      "1020/1020 [==============================] - 1s 645us/step - loss: 0.0117 - acc: 0.9971 - val_loss: 0.6868 - val_acc: 0.8516\n",
      "Epoch 12/200\n",
      "1020/1020 [==============================] - 1s 765us/step - loss: 0.0402 - acc: 0.9941 - val_loss: 0.4497 - val_acc: 0.8945\n",
      "Epoch 13/200\n",
      "1020/1020 [==============================] - 1s 669us/step - loss: 0.0120 - acc: 0.9951 - val_loss: 0.8285 - val_acc: 0.8164\n",
      "Epoch 14/200\n",
      "1020/1020 [==============================] - 1s 744us/step - loss: 0.0136 - acc: 0.9971 - val_loss: 0.5083 - val_acc: 0.8984\n",
      "Epoch 15/200\n",
      "1020/1020 [==============================] - 1s 634us/step - loss: 4.4614e-04 - acc: 1.0000 - val_loss: 0.4932 - val_acc: 0.8945\n",
      "Epoch 16/200\n",
      "1020/1020 [==============================] - 1s 750us/step - loss: 1.8427e-04 - acc: 1.0000 - val_loss: 0.4931 - val_acc: 0.8906\n",
      "Epoch 17/200\n",
      "1020/1020 [==============================] - 1s 635us/step - loss: 1.4111e-04 - acc: 1.0000 - val_loss: 0.4997 - val_acc: 0.8945\n",
      "Epoch 18/200\n",
      "1020/1020 [==============================] - 1s 754us/step - loss: 9.8069e-05 - acc: 1.0000 - val_loss: 0.5031 - val_acc: 0.8945\n",
      "Epoch 19/200\n",
      "1020/1020 [==============================] - 1s 630us/step - loss: 7.8075e-05 - acc: 1.0000 - val_loss: 0.5078 - val_acc: 0.8906\n",
      "Epoch 20/200\n",
      "1020/1020 [==============================] - 1s 748us/step - loss: 6.4122e-05 - acc: 1.0000 - val_loss: 0.5116 - val_acc: 0.8906\n",
      "Epoch 21/200\n",
      "1020/1020 [==============================] - 1s 622us/step - loss: 5.3658e-05 - acc: 1.0000 - val_loss: 0.5147 - val_acc: 0.8906\n",
      "Epoch 22/200\n",
      "1020/1020 [==============================] - 1s 801us/step - loss: 4.5645e-05 - acc: 1.0000 - val_loss: 0.5179 - val_acc: 0.8906\n",
      "Epoch 23/200\n",
      "1020/1020 [==============================] - 1s 675us/step - loss: 3.9416e-05 - acc: 1.0000 - val_loss: 0.5214 - val_acc: 0.8906\n",
      "Epoch 24/200\n",
      "1020/1020 [==============================] - 1s 833us/step - loss: 3.4119e-05 - acc: 1.0000 - val_loss: 0.5247 - val_acc: 0.8906\n",
      "Restoring model weights from the end of the best epoch\n",
      "Epoch 00024: early stopping\n"
     ]
    },
    {
     "data": {
      "text/plain": [
       "<keras.callbacks.History at 0x7f95d8250dd8>"
      ]
     },
     "execution_count": 80,
     "metadata": {},
     "output_type": "execute_result"
    }
   ],
   "source": [
    "model.fit(X_train_rgb, y_train_rgb, epochs=200, batch_size=16, validation_data=(X_test_rgb, y_test_rgb), verbose=1, callbacks =[early_stopping, model_checkpoint])"
   ]
  },
  {
   "cell_type": "code",
   "execution_count": 26,
   "metadata": {},
   "outputs": [],
   "source": [
    "datagen = ImageDataGenerator(\n",
    "    featurewise_center=True,\n",
    "    featurewise_std_normalization=True,\n",
    "    rotation_range=20.,\n",
    "    width_shift_range=0.1,\n",
    "    height_shift_range=0.1,\n",
    "    horizontal_flip=True,\n",
    "#     shear_range=0.3,\n",
    ")"
   ]
  },
  {
   "cell_type": "code",
   "execution_count": 27,
   "metadata": {},
   "outputs": [
    {
     "ename": "ValueError",
     "evalue": "Input to `.fit()` should have rank 4. Got array with shape: (873, 224, 224)",
     "output_type": "error",
     "traceback": [
      "\u001b[0;31m---------------------------------------------------------------------------\u001b[0m",
      "\u001b[0;31mValueError\u001b[0m                                Traceback (most recent call last)",
      "\u001b[0;32m<ipython-input-27-a0ca428b07e3>\u001b[0m in \u001b[0;36m<module>\u001b[0;34m()\u001b[0m\n\u001b[0;32m----> 1\u001b[0;31m \u001b[0mdatagen\u001b[0m\u001b[0;34m.\u001b[0m\u001b[0mfit\u001b[0m\u001b[0;34m(\u001b[0m\u001b[0mX_train_rgb\u001b[0m\u001b[0;34m)\u001b[0m\u001b[0;34m\u001b[0m\u001b[0m\n\u001b[0m",
      "\u001b[0;32m~/anaconda3/envs/tensorflow_p36/lib/python3.6/site-packages/keras_preprocessing/image.py\u001b[0m in \u001b[0;36mfit\u001b[0;34m(self, x, augment, rounds, seed)\u001b[0m\n\u001b[1;32m   1345\u001b[0m         \u001b[0;32mif\u001b[0m \u001b[0mx\u001b[0m\u001b[0;34m.\u001b[0m\u001b[0mndim\u001b[0m \u001b[0;34m!=\u001b[0m \u001b[0;36m4\u001b[0m\u001b[0;34m:\u001b[0m\u001b[0;34m\u001b[0m\u001b[0m\n\u001b[1;32m   1346\u001b[0m             raise ValueError('Input to `.fit()` should have rank 4. '\n\u001b[0;32m-> 1347\u001b[0;31m                              'Got array with shape: ' + str(x.shape))\n\u001b[0m\u001b[1;32m   1348\u001b[0m         \u001b[0;32mif\u001b[0m \u001b[0mx\u001b[0m\u001b[0;34m.\u001b[0m\u001b[0mshape\u001b[0m\u001b[0;34m[\u001b[0m\u001b[0mself\u001b[0m\u001b[0;34m.\u001b[0m\u001b[0mchannel_axis\u001b[0m\u001b[0;34m]\u001b[0m \u001b[0;32mnot\u001b[0m \u001b[0;32min\u001b[0m \u001b[0;34m{\u001b[0m\u001b[0;36m1\u001b[0m\u001b[0;34m,\u001b[0m \u001b[0;36m3\u001b[0m\u001b[0;34m,\u001b[0m \u001b[0;36m4\u001b[0m\u001b[0;34m}\u001b[0m\u001b[0;34m:\u001b[0m\u001b[0;34m\u001b[0m\u001b[0m\n\u001b[1;32m   1349\u001b[0m             warnings.warn(\n",
      "\u001b[0;31mValueError\u001b[0m: Input to `.fit()` should have rank 4. Got array with shape: (873, 224, 224)"
     ]
    }
   ],
   "source": [
    "datagen.fit(X_train_rgb)"
   ]
  },
  {
   "cell_type": "code",
   "execution_count": null,
   "metadata": {},
   "outputs": [],
   "source": [
    "# fits the model on batches with real-time data augmentation:\n",
    "\n",
    "model.fit_generator(datagen.flow(X_train_rgb, y_train_rgb, batch_size=64),\n",
    "                    steps_per_epoch=len(X_train_rgb) / 64,\n",
    "                    epochs=200,\n",
    "                    validation_data=(X_test_rgb, y_test_rgb),\n",
    "                    callbacks=[early_stopping])"
   ]
  },
  {
   "cell_type": "code",
   "execution_count": 81,
   "metadata": {},
   "outputs": [],
   "source": [
    "model.save('models/black_white_thursday_2.h5')"
   ]
  },
  {
   "cell_type": "code",
   "execution_count": 51,
   "metadata": {},
   "outputs": [],
   "source": [
    "model.save('models/silhouette_model.h5')"
   ]
  },
  {
   "cell_type": "code",
   "execution_count": 99,
   "metadata": {},
   "outputs": [],
   "source": [
    "def get_classification_reports(y_pred, y_true):\n",
    "    Y_pred_classes = np.array(np.argmax(y_pred))  # reconverts back from one hot encoded \n",
    "    Y_true = np.array(np.argmax(y_true))  # reconverts back from one hot encoded\n",
    "    print(confusion_matrix(Y_true, Y_pred_classes))\n",
    "    print(classification_report(Y_true, Y_pred_classes))"
   ]
  },
  {
   "cell_type": "code",
   "execution_count": 82,
   "metadata": {},
   "outputs": [],
   "source": [
    "y_pred = model.predict(X_test_rgb)"
   ]
  },
  {
   "cell_type": "code",
   "execution_count": 83,
   "metadata": {},
   "outputs": [
    {
     "data": {
      "text/plain": [
       "(256, 5)"
      ]
     },
     "execution_count": 83,
     "metadata": {},
     "output_type": "execute_result"
    }
   ],
   "source": [
    "y_pred.shape"
   ]
  },
  {
   "cell_type": "code",
   "execution_count": 84,
   "metadata": {},
   "outputs": [],
   "source": [
    "Y_pred_classes = np.argmax(y_pred,axis = 1)  # reconverts back from one hot encoded "
   ]
  },
  {
   "cell_type": "code",
   "execution_count": 85,
   "metadata": {},
   "outputs": [],
   "source": [
    "Y_true = np.argmax(y_test_rgb,axis = 1)"
   ]
  },
  {
   "cell_type": "code",
   "execution_count": 86,
   "metadata": {},
   "outputs": [
    {
     "name": "stdout",
     "output_type": "stream",
     "text": [
      "             precision    recall  f1-score   support\n",
      "\n",
      "          0       0.91      0.89      0.90        44\n",
      "          1       0.86      0.95      0.90        39\n",
      "          2       0.90      0.81      0.85        53\n",
      "          3       0.85      0.91      0.88        44\n",
      "          4       0.95      0.93      0.94        76\n",
      "\n",
      "avg / total       0.90      0.90      0.90       256\n",
      "\n"
     ]
    }
   ],
   "source": [
    "print(classification_report(Y_pred_classes, Y_true))"
   ]
  },
  {
   "cell_type": "code",
   "execution_count": 87,
   "metadata": {},
   "outputs": [
    {
     "name": "stdout",
     "output_type": "stream",
     "text": [
      "[[39  2  0  2  1]\n",
      " [ 0 37  1  1  0]\n",
      " [ 3  3 43  3  1]\n",
      " [ 1  0  1 40  2]\n",
      " [ 0  1  3  1 71]]\n"
     ]
    }
   ],
   "source": [
    "print(confusion_matrix(Y_pred_classes, Y_true))"
   ]
  },
  {
   "cell_type": "code",
   "execution_count": 105,
   "metadata": {},
   "outputs": [
    {
     "data": {
      "text/plain": [
       "(195, 6)"
      ]
     },
     "execution_count": 105,
     "metadata": {},
     "output_type": "execute_result"
    }
   ],
   "source": [
    "y_test_rgb.shape"
   ]
  },
  {
   "cell_type": "code",
   "execution_count": null,
   "metadata": {},
   "outputs": [],
   "source": []
  }
 ],
 "metadata": {
  "kernelspec": {
   "display_name": "Python 3",
   "language": "python",
   "name": "python3"
  },
  "language_info": {
   "codemirror_mode": {
    "name": "ipython",
    "version": 3
   },
   "file_extension": ".py",
   "mimetype": "text/x-python",
   "name": "python",
   "nbconvert_exporter": "python",
   "pygments_lexer": "ipython3",
   "version": "3.6.6"
  },
  "varInspector": {
   "cols": {
    "lenName": 16,
    "lenType": 16,
    "lenVar": 40
   },
   "kernels_config": {
    "python": {
     "delete_cmd_postfix": "",
     "delete_cmd_prefix": "del ",
     "library": "var_list.py",
     "varRefreshCmd": "print(var_dic_list())"
    },
    "r": {
     "delete_cmd_postfix": ") ",
     "delete_cmd_prefix": "rm(",
     "library": "var_list.r",
     "varRefreshCmd": "cat(var_dic_list()) "
    }
   },
   "types_to_exclude": [
    "module",
    "function",
    "builtin_function_or_method",
    "instance",
    "_Feature"
   ],
   "window_display": false
  }
 },
 "nbformat": 4,
 "nbformat_minor": 2
}
